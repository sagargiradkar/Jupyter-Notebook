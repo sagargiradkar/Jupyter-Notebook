{
 "cells": [
  {
   "cell_type": "code",
   "execution_count": 5,
   "id": "08f2b134-44fa-4898-8cc1-fc731eed5232",
   "metadata": {},
   "outputs": [],
   "source": [
    "import tkinter\n",
    "tw = tkinter.Tk()\n",
    "tw.mainloop()"
   ]
  },
  {
   "cell_type": "code",
   "execution_count": 8,
   "id": "d7338f81-dd47-4af9-8a9d-d1189ee01cf9",
   "metadata": {},
   "outputs": [],
   "source": [
    "#complete code\n",
    "import tkinter\n",
    "tw = tkinter.Tk()\n",
    "tw.title(\"SunnyS's GUI App\")\n",
    "img=tkinter.PhotoImage(file=\"C:\\\\Users\\\\Lenovo\\\\Downloads\\\\test2.png\")\n",
    "#print(img)\n",
    "#tw.iconphoto(tw,img)\n",
    "tw.geometry(\"600x200+600+250\") \n",
    "tw.mainloop() \n",
    "\n"
   ]
  },
  {
   "cell_type": "code",
   "execution_count": 1,
   "id": "e86ff1b3-f0d4-4dc7-a860-6c5f8ce084f1",
   "metadata": {},
   "outputs": [],
   "source": [
    "import tkinter\n",
    "root = tkinter.Tk()\n",
    "root.geometry(\"1080x720\") \n",
    "#logo=tkinter.PhotoImage(file=\"C:\\\\Users\\\\Lenovo\\\\Downloads\\\\test2.png\")\n",
    "#lbl=tkinter.Label(root,image=logo)\n",
    "lbl=tkinter.Label(root,text=\"Python is a general purpose programming language\",compound=tkinter.LEFT)\n",
    "lbl.pack()\n",
    "root.mainloop()"
   ]
  },
  {
   "cell_type": "code",
   "execution_count": null,
   "id": "f15ddf04-92e4-4f31-8862-c07468ea3aa0",
   "metadata": {},
   "outputs": [],
   "source": []
  }
 ],
 "metadata": {
  "kernelspec": {
   "display_name": "Python 3 (ipykernel)",
   "language": "python",
   "name": "python3"
  },
  "language_info": {
   "codemirror_mode": {
    "name": "ipython",
    "version": 3
   },
   "file_extension": ".py",
   "mimetype": "text/x-python",
   "name": "python",
   "nbconvert_exporter": "python",
   "pygments_lexer": "ipython3",
   "version": "3.11.4"
  }
 },
 "nbformat": 4,
 "nbformat_minor": 5
}
