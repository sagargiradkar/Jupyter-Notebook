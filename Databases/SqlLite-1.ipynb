{
 "cells": [
  {
   "cell_type": "markdown",
   "id": "e25ccca2-9e72-4bb2-bf31-eaaa53392565",
   "metadata": {},
   "source": [
    "SQLLite"
   ]
  },
  {
   "cell_type": "code",
   "execution_count": null,
   "id": "4447cbbc-2cf2-4b38-987e-18953f8a40ca",
   "metadata": {},
   "outputs": [],
   "source": []
  }
 ],
 "metadata": {
  "kernelspec": {
   "display_name": "Python 3 (ipykernel)",
   "language": "python",
   "name": "python3"
  },
  "language_info": {
   "codemirror_mode": {
    "name": "ipython",
    "version": 3
   },
   "file_extension": ".py",
   "mimetype": "text/x-python",
   "name": "python",
   "nbconvert_exporter": "python",
   "pygments_lexer": "ipython3",
   "version": "3.11.4"
  }
 },
 "nbformat": 4,
 "nbformat_minor": 5
}
