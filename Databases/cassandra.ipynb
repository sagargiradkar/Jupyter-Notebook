{
 "cells": [
  {
   "cell_type": "raw",
   "id": "e35e4191-7bb5-4b33-a8e0-b6a115da2c8b",
   "metadata": {},
   "source": [
    "Cassandra Database"
   ]
  },
  {
   "cell_type": "code",
   "execution_count": 1,
   "id": "686c87f5-3cee-4a7b-a53d-270f21786993",
   "metadata": {},
   "outputs": [
    {
     "data": {
      "text/plain": [
       "'Fault Tolerence '"
      ]
     },
     "execution_count": 1,
     "metadata": {},
     "output_type": "execute_result"
    }
   ],
   "source": [
    "\"Fault Tolerence \""
   ]
  },
  {
   "cell_type": "code",
   "execution_count": 2,
   "id": "72426b7c-172b-421e-9f0d-487f6d145cf9",
   "metadata": {},
   "outputs": [
    {
     "name": "stdout",
     "output_type": "stream",
     "text": [
      "Defaulting to user installation because normal site-packages is not writeable\n",
      "Requirement already satisfied: cassandra-driver in /home/sagar/.local/lib/python3.11/site-packages (3.28.0)\n",
      "Requirement already satisfied: six>=1.9 in /usr/lib/python3/dist-packages (from cassandra-driver) (1.16.0)\n",
      "Requirement already satisfied: geomet<0.3,>=0.1 in /home/sagar/.local/lib/python3.11/site-packages (from cassandra-driver) (0.2.1.post1)\n",
      "Requirement already satisfied: click in /usr/lib/python3/dist-packages (from geomet<0.3,>=0.1->cassandra-driver) (8.1.3)\n",
      "Note: you may need to restart the kernel to use updated packages.\n"
     ]
    }
   ],
   "source": [
    "pip install cassandra-driver"
   ]
  },
  {
   "cell_type": "code",
   "execution_count": null,
   "id": "267dfb7c-ffb1-43e6-a69b-f077a70f4b3c",
   "metadata": {},
   "outputs": [],
   "source": []
  }
 ],
 "metadata": {
  "kernelspec": {
   "display_name": "Python 3 (ipykernel)",
   "language": "python",
   "name": "python3"
  },
  "language_info": {
   "codemirror_mode": {
    "name": "ipython",
    "version": 3
   },
   "file_extension": ".py",
   "mimetype": "text/x-python",
   "name": "python",
   "nbconvert_exporter": "python",
   "pygments_lexer": "ipython3",
   "version": "3.11.4"
  }
 },
 "nbformat": 4,
 "nbformat_minor": 5
}
