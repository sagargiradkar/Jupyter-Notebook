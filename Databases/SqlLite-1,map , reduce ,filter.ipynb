{
 "cells": [
  {
   "cell_type": "markdown",
   "id": "e25ccca2-9e72-4bb2-bf31-eaaa53392565",
   "metadata": {},
   "source": [
    "SQLLite"
   ]
  },
  {
   "cell_type": "code",
   "execution_count": 5,
   "id": "4447cbbc-2cf2-4b38-987e-18953f8a40ca",
   "metadata": {},
   "outputs": [
    {
     "data": {
      "text/plain": [
       "'SQLLITE'"
      ]
     },
     "execution_count": 5,
     "metadata": {},
     "output_type": "execute_result"
    }
   ],
   "source": [
    "\"SQLLITE\""
   ]
  },
  {
   "cell_type": "code",
   "execution_count": 6,
   "id": "8bccd43c-1760-4914-a424-1735689d620e",
   "metadata": {},
   "outputs": [],
   "source": [
    "  import sqlite3"
   ]
  },
  {
   "cell_type": "code",
   "execution_count": 8,
   "id": "9b7bea9a-b6e7-4203-9586-6c16c2370a60",
   "metadata": {},
   "outputs": [],
   "source": [
    "db = sqlite3.connect(\"sagar.db\")"
   ]
  },
  {
   "cell_type": "code",
   "execution_count": 9,
   "id": "bb3ef4a2-ef83-4ba8-9888-cf1b1ced2eb0",
   "metadata": {},
   "outputs": [
    {
     "name": "stdout",
     "output_type": "stream",
     "text": [
      "<sqlite3.Connection object at 0x7f4e3c292e30>\n"
     ]
    }
   ],
   "source": [
    "print(db)"
   ]
  },
  {
   "cell_type": "code",
   "execution_count": 16,
   "id": "7cbecdb6-59a8-46c4-85be-6772a1a25b4f",
   "metadata": {},
   "outputs": [
    {
     "name": "stdout",
     "output_type": "stream",
     "text": [
      "'19.3.1 mongoDB introduction.ipynb'   MongoDB-1.ipynb   MySQL-2.ipynb\n",
      "'19.3.2 pyMongo.ipynb'                MongoDb2.ipynb    sagar.db\n",
      "'19.3.3 Atlas.ipynb'                  \u001b[0m\u001b[34;42mmongo_img\u001b[0m/        SqlLite-1.ipynb\n",
      " glass.data                           MySQL-1.ipynb\n"
     ]
    }
   ],
   "source": [
    "ls"
   ]
  },
  {
   "cell_type": "code",
   "execution_count": 14,
   "id": "04edfbf6-57be-446f-ab56-48801f2771cf",
   "metadata": {},
   "outputs": [],
   "source": [
    "c = db.cursor()"
   ]
  },
  {
   "cell_type": "code",
   "execution_count": 15,
   "id": "2bd40147-d220-4a5f-9515-cf208347d313",
   "metadata": {},
   "outputs": [
    {
     "data": {
      "text/plain": [
       "<sqlite3.Cursor at 0x7f4e25f1a140>"
      ]
     },
     "execution_count": 15,
     "metadata": {},
     "output_type": "execute_result"
    }
   ],
   "source": [
    "c.execute('create table FSDS(name text , batchid int , marks real)')"
   ]
  },
  {
   "cell_type": "code",
   "execution_count": 17,
   "id": "52113216-11da-4397-89bc-02fdee6c046c",
   "metadata": {},
   "outputs": [
    {
     "data": {
      "text/plain": [
       "<sqlite3.Cursor at 0x7f4e25f1a140>"
      ]
     },
     "execution_count": 17,
     "metadata": {},
     "output_type": "execute_result"
    }
   ],
   "source": [
    "c.execute('insert into FSDS values(\"Sagar\",3051,234.43)')"
   ]
  },
  {
   "cell_type": "code",
   "execution_count": 23,
   "id": "713e2a26-41d9-459f-99aa-b1ef22290411",
   "metadata": {},
   "outputs": [
    {
     "data": {
      "text/plain": [
       "<sqlite3.Cursor at 0x7f4e25f1a140>"
      ]
     },
     "execution_count": 23,
     "metadata": {},
     "output_type": "execute_result"
    }
   ],
   "source": [
    "c.execute('insert into FSDS values(\"Sagar\",3051,234.43)')\n",
    "c.execute('insert into FSDS values(\"Sagar\",3051,234.43)')\n",
    "c.execute('insert into FSDS values(\"Sagar\",3051,234.43)')\n",
    "c.execute('insert into FSDS values(\"Sagar\",3051,234.43)')\n",
    "c.execute('insert into FSDS values(\"Sagar\",3051,234.43)')\n",
    "c.execute('insert into FSDS values(\"Sagar\",3051,234.43)')\n",
    "c.execute('insert into FSDS values(\"Sagar\",3051,234.43)')\n",
    "c.execute('insert into FSDS values(\"Sagar\",3051,234.43)')\n",
    "c.execute('insert into FSDS values(\"Sagar\",3051,234.43)')\n",
    "c.execute('insert into FSDS values(\"Sagar\",3051,234.43)')"
   ]
  },
  {
   "cell_type": "code",
   "execution_count": 24,
   "id": "affe3bc7-787b-4803-b70c-59b2c315355a",
   "metadata": {},
   "outputs": [],
   "source": [
    "data = c.execute(\"select * from FSDS\")"
   ]
  },
  {
   "cell_type": "code",
   "execution_count": 25,
   "id": "154fa701-c9aa-42e5-ae45-dbe6b4a82527",
   "metadata": {},
   "outputs": [
    {
     "name": "stdout",
     "output_type": "stream",
     "text": [
      "('Sagar', 3051, 234.43)\n",
      "('Sagar', 3051, 234.43)\n",
      "('Sagar', 3051, 234.43)\n",
      "('Sagar', 3051, 234.43)\n",
      "('Sagar', 3051, 234.43)\n",
      "('Sagar', 3051, 234.43)\n",
      "('Sagar', 3051, 234.43)\n",
      "('Sagar', 3051, 234.43)\n",
      "('Sagar', 3051, 234.43)\n",
      "('Sagar', 3051, 234.43)\n",
      "('Sagar', 3051, 234.43)\n",
      "('Sagar', 3051, 234.43)\n",
      "('Sagar', 3051, 234.43)\n",
      "('Sagar', 3051, 234.43)\n",
      "('Sagar', 3051, 234.43)\n",
      "('Sagar', 3051, 234.43)\n",
      "('Sagar', 3051, 234.43)\n",
      "('Sagar', 3051, 234.43)\n",
      "('Sagar', 3051, 234.43)\n",
      "('Sagar', 3051, 234.43)\n",
      "('Sagar', 3051, 234.43)\n",
      "('Sagar', 3051, 234.43)\n",
      "('Sagar', 3051, 234.43)\n",
      "('Sagar', 3051, 234.43)\n",
      "('Sagar', 3051, 234.43)\n",
      "('Sagar', 3051, 234.43)\n",
      "('Sagar', 3051, 234.43)\n",
      "('Sagar', 3051, 234.43)\n",
      "('Sagar', 3051, 234.43)\n",
      "('Sagar', 3051, 234.43)\n",
      "('Sagar', 3051, 234.43)\n",
      "('Sagar', 3051, 234.43)\n",
      "('Sagar', 3051, 234.43)\n",
      "('Sagar', 3051, 234.43)\n",
      "('Sagar', 3051, 234.43)\n",
      "('Sagar', 3051, 234.43)\n",
      "('Sagar', 3051, 234.43)\n",
      "('Sagar', 3051, 234.43)\n",
      "('Sagar', 3051, 234.43)\n"
     ]
    }
   ],
   "source": [
    "for i in data:\n",
    "    print(i)"
   ]
  },
  {
   "cell_type": "code",
   "execution_count": 26,
   "id": "bd0d747f-d16d-4162-9a6d-dff7f708c510",
   "metadata": {},
   "outputs": [],
   "source": [
    "db.commit()"
   ]
  },
  {
   "cell_type": "code",
   "execution_count": 27,
   "id": "2cffec22-f910-4403-8b7b-1961cceb6687",
   "metadata": {},
   "outputs": [],
   "source": [
    "db.close()"
   ]
  },
  {
   "cell_type": "code",
   "execution_count": 28,
   "id": "1a05b95b-0bda-4c40-a707-cf81f63b7fbe",
   "metadata": {},
   "outputs": [],
   "source": [
    "db = sqlite3.connect(\"sagar.db\")"
   ]
  },
  {
   "cell_type": "code",
   "execution_count": 29,
   "id": "0c2f37fa-5dbb-44a0-bdce-c5fa9442ca4e",
   "metadata": {},
   "outputs": [
    {
     "name": "stdout",
     "output_type": "stream",
     "text": [
      "<sqlite3.Connection object at 0x7f4e3c291990>\n"
     ]
    }
   ],
   "source": [
    "print(db)"
   ]
  },
  {
   "cell_type": "code",
   "execution_count": 30,
   "id": "c62a82c8-a552-48ee-a41b-9db4e5394ba0",
   "metadata": {},
   "outputs": [],
   "source": [
    "c = db.cursor()"
   ]
  },
  {
   "cell_type": "code",
   "execution_count": 31,
   "id": "e35251a8-9852-4af4-baab-426eac2731af",
   "metadata": {},
   "outputs": [],
   "source": [
    "data = c.execute(\"select * from FSDS where marks > 400\")"
   ]
  },
  {
   "cell_type": "code",
   "execution_count": 32,
   "id": "e9841cab-725b-447b-8db4-b3f1ea8f9b70",
   "metadata": {},
   "outputs": [],
   "source": [
    "for i in data :\n",
    "    print(i)"
   ]
  },
  {
   "cell_type": "code",
   "execution_count": 33,
   "id": "70d531d7-635d-46c7-9e76-1de5ab1bd9e1",
   "metadata": {},
   "outputs": [],
   "source": [
    "data = c.execute(\"select * from FSDS where name = 'sagar'\")"
   ]
  },
  {
   "cell_type": "code",
   "execution_count": 34,
   "id": "5b7fd9f1-4ace-4cca-a00c-07ba2569a4b3",
   "metadata": {},
   "outputs": [],
   "source": [
    "for i in data :\n",
    "    print(i)"
   ]
  },
  {
   "cell_type": "code",
   "execution_count": 36,
   "id": "4eabe908-b361-4fed-adb6-03b441f0fd52",
   "metadata": {},
   "outputs": [],
   "source": [
    "data = c.execute(\"select name,marks from FSDS\")"
   ]
  },
  {
   "cell_type": "code",
   "execution_count": 37,
   "id": "6bb35446-6272-4474-9cc3-41f4cb7834ea",
   "metadata": {},
   "outputs": [
    {
     "name": "stdout",
     "output_type": "stream",
     "text": [
      "('Sagar', 234.43)\n",
      "('Sagar', 234.43)\n",
      "('Sagar', 234.43)\n",
      "('Sagar', 234.43)\n",
      "('Sagar', 234.43)\n",
      "('Sagar', 234.43)\n",
      "('Sagar', 234.43)\n",
      "('Sagar', 234.43)\n",
      "('Sagar', 234.43)\n",
      "('Sagar', 234.43)\n",
      "('Sagar', 234.43)\n",
      "('Sagar', 234.43)\n",
      "('Sagar', 234.43)\n",
      "('Sagar', 234.43)\n",
      "('Sagar', 234.43)\n",
      "('Sagar', 234.43)\n",
      "('Sagar', 234.43)\n",
      "('Sagar', 234.43)\n",
      "('Sagar', 234.43)\n",
      "('Sagar', 234.43)\n",
      "('Sagar', 234.43)\n",
      "('Sagar', 234.43)\n",
      "('Sagar', 234.43)\n",
      "('Sagar', 234.43)\n",
      "('Sagar', 234.43)\n",
      "('Sagar', 234.43)\n",
      "('Sagar', 234.43)\n",
      "('Sagar', 234.43)\n",
      "('Sagar', 234.43)\n",
      "('Sagar', 234.43)\n",
      "('Sagar', 234.43)\n",
      "('Sagar', 234.43)\n",
      "('Sagar', 234.43)\n",
      "('Sagar', 234.43)\n",
      "('Sagar', 234.43)\n",
      "('Sagar', 234.43)\n",
      "('Sagar', 234.43)\n",
      "('Sagar', 234.43)\n",
      "('Sagar', 234.43)\n"
     ]
    }
   ],
   "source": [
    "for i in data :\n",
    "    print(i)"
   ]
  },
  {
   "cell_type": "code",
   "execution_count": 42,
   "id": "89b8c004-786e-49ab-b4a9-b157526d2c2c",
   "metadata": {},
   "outputs": [],
   "source": [
    "data = c.execute(\"select name , marks from FSDS order by marks\")"
   ]
  },
  {
   "cell_type": "code",
   "execution_count": 43,
   "id": "1b703c0b-895b-44a6-a4cc-771722384a3d",
   "metadata": {},
   "outputs": [
    {
     "name": "stdout",
     "output_type": "stream",
     "text": [
      "('Sagar', 234.43)\n",
      "('Sagar', 234.43)\n",
      "('Sagar', 234.43)\n",
      "('Sagar', 234.43)\n",
      "('Sagar', 234.43)\n",
      "('Sagar', 234.43)\n",
      "('Sagar', 234.43)\n",
      "('Sagar', 234.43)\n",
      "('Sagar', 234.43)\n",
      "('Sagar', 234.43)\n",
      "('Sagar', 234.43)\n",
      "('Sagar', 234.43)\n",
      "('Sagar', 234.43)\n",
      "('Sagar', 234.43)\n",
      "('Sagar', 234.43)\n",
      "('Sagar', 234.43)\n",
      "('Sagar', 234.43)\n",
      "('Sagar', 234.43)\n",
      "('Sagar', 234.43)\n",
      "('Sagar', 234.43)\n",
      "('Sagar', 234.43)\n",
      "('Sagar', 234.43)\n",
      "('Sagar', 234.43)\n",
      "('Sagar', 234.43)\n",
      "('Sagar', 234.43)\n",
      "('Sagar', 234.43)\n",
      "('Sagar', 234.43)\n",
      "('Sagar', 234.43)\n",
      "('Sagar', 234.43)\n",
      "('Sagar', 234.43)\n",
      "('Sagar', 234.43)\n",
      "('Sagar', 234.43)\n",
      "('Sagar', 234.43)\n",
      "('Sagar', 234.43)\n",
      "('Sagar', 234.43)\n",
      "('Sagar', 234.43)\n",
      "('Sagar', 234.43)\n",
      "('Sagar', 234.43)\n",
      "('Sagar', 234.43)\n",
      "('Sagar', 234.43)\n",
      "('Sagar', 23445.43)\n",
      "('Sagar', 25434.43)\n",
      "('Sagar', 234453.43)\n",
      "('Sagar', 234454.43)\n",
      "('Sagar', 234534.43)\n",
      "('Sagar', 234564.43)\n",
      "('Sagar', 2334544.43)\n",
      "('Sagar', 2334544.43)\n",
      "('Sagar', 2344554.43)\n"
     ]
    }
   ],
   "source": [
    "for i in data :\n",
    "    print(i)"
   ]
  },
  {
   "cell_type": "code",
   "execution_count": 41,
   "id": "d2d81ad2-486d-4126-83cd-d2639f1f43f7",
   "metadata": {},
   "outputs": [
    {
     "data": {
      "text/plain": [
       "<sqlite3.Cursor at 0x7f4e257ed0c0>"
      ]
     },
     "execution_count": 41,
     "metadata": {},
     "output_type": "execute_result"
    }
   ],
   "source": [
    "c.execute('insert into FSDS values(\"Sagar\",3051,234534.43)')\n",
    "c.execute('insert into FSDS values(\"Sagar\",3051,2334544.43)')\n",
    "c.execute('insert into FSDS values(\"Sagar\",3051,234454.43)')\n",
    "c.execute('insert into FSDS values(\"Sagar\",3051,234.43)')\n",
    "c.execute('insert into FSDS values(\"Sagar\",3051,2334544.43)')\n",
    "c.execute('insert into FSDS values(\"Sagar\",3051,25434.43)')\n",
    "c.execute('insert into FSDS values(\"Sagar\",3051,2344554.43)')\n",
    "c.execute('insert into FSDS values(\"Sagar\",3051,234453.43)')\n",
    "c.execute('insert into FSDS values(\"Sagar\",3051,23445.43)')\n",
    "c.execute('insert into FSDS values(\"Sagar\",3051,234564.43)')"
   ]
  },
  {
   "cell_type": "code",
   "execution_count": 44,
   "id": "3fb6a02d-f7d0-492e-9667-e5fcdf8fa693",
   "metadata": {},
   "outputs": [],
   "source": [
    "data = c.execute(\"select name , marks from FSDS order by marks\")"
   ]
  },
  {
   "cell_type": "code",
   "execution_count": 45,
   "id": "0879b84f-44d3-4b7b-a2dd-3dd2e47ebafa",
   "metadata": {},
   "outputs": [
    {
     "name": "stdout",
     "output_type": "stream",
     "text": [
      "('Sagar', 234.43)\n",
      "('Sagar', 234.43)\n",
      "('Sagar', 234.43)\n",
      "('Sagar', 234.43)\n",
      "('Sagar', 234.43)\n",
      "('Sagar', 234.43)\n",
      "('Sagar', 234.43)\n",
      "('Sagar', 234.43)\n",
      "('Sagar', 234.43)\n",
      "('Sagar', 234.43)\n",
      "('Sagar', 234.43)\n",
      "('Sagar', 234.43)\n",
      "('Sagar', 234.43)\n",
      "('Sagar', 234.43)\n",
      "('Sagar', 234.43)\n",
      "('Sagar', 234.43)\n",
      "('Sagar', 234.43)\n",
      "('Sagar', 234.43)\n",
      "('Sagar', 234.43)\n",
      "('Sagar', 234.43)\n",
      "('Sagar', 234.43)\n",
      "('Sagar', 234.43)\n",
      "('Sagar', 234.43)\n",
      "('Sagar', 234.43)\n",
      "('Sagar', 234.43)\n",
      "('Sagar', 234.43)\n",
      "('Sagar', 234.43)\n",
      "('Sagar', 234.43)\n",
      "('Sagar', 234.43)\n",
      "('Sagar', 234.43)\n",
      "('Sagar', 234.43)\n",
      "('Sagar', 234.43)\n",
      "('Sagar', 234.43)\n",
      "('Sagar', 234.43)\n",
      "('Sagar', 234.43)\n",
      "('Sagar', 234.43)\n",
      "('Sagar', 234.43)\n",
      "('Sagar', 234.43)\n",
      "('Sagar', 234.43)\n",
      "('Sagar', 234.43)\n",
      "('Sagar', 23445.43)\n",
      "('Sagar', 25434.43)\n",
      "('Sagar', 234453.43)\n",
      "('Sagar', 234454.43)\n",
      "('Sagar', 234534.43)\n",
      "('Sagar', 234564.43)\n",
      "('Sagar', 2334544.43)\n",
      "('Sagar', 2334544.43)\n",
      "('Sagar', 2344554.43)\n"
     ]
    }
   ],
   "source": [
    "for i in data :\n",
    "    print(i)"
   ]
  },
  {
   "cell_type": "code",
   "execution_count": 46,
   "id": "ff15958f-9d55-4bcb-9152-522a329d9abc",
   "metadata": {},
   "outputs": [],
   "source": [
    "db.close()"
   ]
  },
  {
   "cell_type": "code",
   "execution_count": 48,
   "id": "c520ef4f-0dfd-4374-a0d9-e0c5a8a588ba",
   "metadata": {},
   "outputs": [],
   "source": [
    "db = sqlite3.connect(\"person.db\")"
   ]
  },
  {
   "cell_type": "code",
   "execution_count": 50,
   "id": "a33721b1-d544-412a-b641-92e4b4418344",
   "metadata": {},
   "outputs": [],
   "source": [
    "c = db.cursor()"
   ]
  },
  {
   "cell_type": "code",
   "execution_count": 52,
   "id": "40bda217-b52a-4d34-adf4-6e7d48ca6cc3",
   "metadata": {},
   "outputs": [
    {
     "data": {
      "text/plain": [
       "<sqlite3.Cursor at 0x7f4e257eea40>"
      ]
     },
     "execution_count": 52,
     "metadata": {},
     "output_type": "execute_result"
    }
   ],
   "source": [
    "c.execute(\"create table person_table(name texr,emailid text ,age int ,salary real)\")"
   ]
  },
  {
   "cell_type": "code",
   "execution_count": 59,
   "id": "599bc893-ce80-4712-8130-2a085880b5d7",
   "metadata": {},
   "outputs": [
    {
     "data": {
      "text/plain": [
       "<sqlite3.Cursor at 0x7f4e257eea40>"
      ]
     },
     "execution_count": 59,
     "metadata": {},
     "output_type": "execute_result"
    }
   ],
   "source": [
    "c.execute('insert into person_table values(\"Sagar\",\"spgiradkar2002@gmail.com\",21,80000)')\n",
    "c.execute('insert into person_table values(\"Prakash\",\"spgiradkar2002@gmail.com\",21,80000)')\n",
    "c.execute('insert into person_table values(\"Pavan\",\"spgiradkar2002@gmail.com\",21,80000)')\n",
    "c.execute('insert into person_table values(\"Parth\",\"spgiradkar2002@gmail.com\",31,80000)')\n",
    "c.execute('insert into person_table values(\"Ashish\",\"spgiradkar2002@gmail.com\",41,80000)')\n",
    "c.execute('insert into person_table values(\"Nilesh\",\"spgiradkar2002@gmail.com\",25,80000)')\n",
    "c.execute('insert into person_table values(\"Karan\",\"spgiradkar2002@gmail.com\",21,340000)')\n",
    "c.execute('insert into person_table values(\"Kanta\",\"spgiradkar2002@gmail.com\",23,80000)')\n",
    "c.execute('insert into person_table values(\"shaya,\",\"spgiradkar2002@gmail.com\",21,80000)')"
   ]
  },
  {
   "cell_type": "code",
   "execution_count": 63,
   "id": "713c7a7a-57a4-42b0-8f95-d25fb3567a22",
   "metadata": {},
   "outputs": [
    {
     "name": "stdout",
     "output_type": "stream",
     "text": [
      "('Sagar', 'spgiradkar2002@gmail.com', 21, 80000.0)\n",
      "('Sagar', 'spgiradkar2002@gmail.com', 21, 80000.0)\n",
      "('Sagar', 'spgiradkar2002@gmail.com', 21, 80000.0)\n",
      "('Sagar', 'spgiradkar2002@gmail.com', 21, 80000.0)\n",
      "('Sagar', 'spgiradkar2002@gmail.com', 21, 80000.0)\n",
      "('Prakash', 'spgiradkar2002@gmail.com', 21, 80000.0)\n",
      "('Pavan', 'spgiradkar2002@gmail.com', 21, 80000.0)\n",
      "('Parth', 'spgiradkar2002@gmail.com', 31, 80000.0)\n",
      "('Ashish', 'spgiradkar2002@gmail.com', 41, 80000.0)\n",
      "('Nilesh', 'spgiradkar2002@gmail.com', 25, 80000.0)\n",
      "('Karan', 'spgiradkar2002@gmail.com', 21, 340000.0)\n",
      "('Kanta', 'spgiradkar2002@gmail.com', 23, 80000.0)\n",
      "('shaya,', 'spgiradkar2002@gmail.com', 21, 80000.0)\n"
     ]
    }
   ],
   "source": [
    "data = c.execute(\"select * from person_table\")\n",
    "for i in data:\n",
    "    print(i)"
   ]
  },
  {
   "cell_type": "code",
   "execution_count": 65,
   "id": "07acf1bc-aa7a-4daf-87bf-0ee9a2f931d8",
   "metadata": {},
   "outputs": [],
   "source": [
    "data = c.execute(\"select name , emailid from  person_table order by name\")"
   ]
  },
  {
   "cell_type": "code",
   "execution_count": 66,
   "id": "af7b77cb-55c7-4cde-a434-eecfb83bf00c",
   "metadata": {},
   "outputs": [
    {
     "name": "stdout",
     "output_type": "stream",
     "text": [
      "('Ashish', 'spgiradkar2002@gmail.com')\n",
      "('Kanta', 'spgiradkar2002@gmail.com')\n",
      "('Karan', 'spgiradkar2002@gmail.com')\n",
      "('Nilesh', 'spgiradkar2002@gmail.com')\n",
      "('Parth', 'spgiradkar2002@gmail.com')\n",
      "('Pavan', 'spgiradkar2002@gmail.com')\n",
      "('Prakash', 'spgiradkar2002@gmail.com')\n",
      "('Sagar', 'spgiradkar2002@gmail.com')\n",
      "('Sagar', 'spgiradkar2002@gmail.com')\n",
      "('Sagar', 'spgiradkar2002@gmail.com')\n",
      "('Sagar', 'spgiradkar2002@gmail.com')\n",
      "('Sagar', 'spgiradkar2002@gmail.com')\n",
      "('shaya,', 'spgiradkar2002@gmail.com')\n"
     ]
    }
   ],
   "source": [
    "for i in data :\n",
    "    print(i)"
   ]
  },
  {
   "cell_type": "code",
   "execution_count": 67,
   "id": "584f50e7-a748-4d4d-91f9-38738dcb88d3",
   "metadata": {},
   "outputs": [],
   "source": [
    "db.commit()"
   ]
  },
  {
   "cell_type": "code",
   "execution_count": 68,
   "id": "dd1a4ad6-fb5a-467a-b612-d4f19c474f9a",
   "metadata": {},
   "outputs": [],
   "source": [
    "db.close()"
   ]
  },
  {
   "cell_type": "code",
   "execution_count": 70,
   "id": "08808c9c-7904-48ae-9906-e863b1acf98a",
   "metadata": {},
   "outputs": [],
   "source": [
    "db = sqlite3.connect(\"sagar.db\")"
   ]
  },
  {
   "cell_type": "code",
   "execution_count": 71,
   "id": "69f1742e-e4fc-46c3-b465-d3b57e28153e",
   "metadata": {},
   "outputs": [],
   "source": [
    "c = db.cursor()"
   ]
  },
  {
   "cell_type": "code",
   "execution_count": 72,
   "id": "828b05b0-e533-4dd8-852f-4a661178d8a6",
   "metadata": {},
   "outputs": [],
   "source": [
    "data = c.execute(\"select * from FSDS\")"
   ]
  },
  {
   "cell_type": "code",
   "execution_count": 73,
   "id": "eae14b69-e255-42e4-965b-d615c3edeb5d",
   "metadata": {},
   "outputs": [
    {
     "name": "stdout",
     "output_type": "stream",
     "text": [
      "('Sagar', 3051, 234.43)\n",
      "('Sagar', 3051, 234.43)\n",
      "('Sagar', 3051, 234.43)\n",
      "('Sagar', 3051, 234.43)\n",
      "('Sagar', 3051, 234.43)\n",
      "('Sagar', 3051, 234.43)\n",
      "('Sagar', 3051, 234.43)\n",
      "('Sagar', 3051, 234.43)\n",
      "('Sagar', 3051, 234.43)\n",
      "('Sagar', 3051, 234.43)\n",
      "('Sagar', 3051, 234.43)\n",
      "('Sagar', 3051, 234.43)\n",
      "('Sagar', 3051, 234.43)\n",
      "('Sagar', 3051, 234.43)\n",
      "('Sagar', 3051, 234.43)\n",
      "('Sagar', 3051, 234.43)\n",
      "('Sagar', 3051, 234.43)\n",
      "('Sagar', 3051, 234.43)\n",
      "('Sagar', 3051, 234.43)\n",
      "('Sagar', 3051, 234.43)\n",
      "('Sagar', 3051, 234.43)\n",
      "('Sagar', 3051, 234.43)\n",
      "('Sagar', 3051, 234.43)\n",
      "('Sagar', 3051, 234.43)\n",
      "('Sagar', 3051, 234.43)\n",
      "('Sagar', 3051, 234.43)\n",
      "('Sagar', 3051, 234.43)\n",
      "('Sagar', 3051, 234.43)\n",
      "('Sagar', 3051, 234.43)\n",
      "('Sagar', 3051, 234.43)\n",
      "('Sagar', 3051, 234.43)\n",
      "('Sagar', 3051, 234.43)\n",
      "('Sagar', 3051, 234.43)\n",
      "('Sagar', 3051, 234.43)\n",
      "('Sagar', 3051, 234.43)\n",
      "('Sagar', 3051, 234.43)\n",
      "('Sagar', 3051, 234.43)\n",
      "('Sagar', 3051, 234.43)\n",
      "('Sagar', 3051, 234.43)\n"
     ]
    }
   ],
   "source": [
    "for i in data :\n",
    "    print(i)"
   ]
  },
  {
   "cell_type": "code",
   "execution_count": 74,
   "id": "6cea63d2-f88e-4825-947c-7b7614acaae4",
   "metadata": {},
   "outputs": [],
   "source": [
    "data = c.execute(\"drop table FSDS\")"
   ]
  },
  {
   "cell_type": "code",
   "execution_count": 75,
   "id": "c6f8e1f3-7a12-41e5-b4c2-808b2a5eabad",
   "metadata": {},
   "outputs": [
    {
     "ename": "OperationalError",
     "evalue": "no such table: FSDS",
     "output_type": "error",
     "traceback": [
      "\u001b[0;31m---------------------------------------------------------------------------\u001b[0m",
      "\u001b[0;31mOperationalError\u001b[0m                          Traceback (most recent call last)",
      "Cell \u001b[0;32mIn[75], line 1\u001b[0m\n\u001b[0;32m----> 1\u001b[0m \u001b[43mc\u001b[49m\u001b[38;5;241;43m.\u001b[39;49m\u001b[43mexecute\u001b[49m\u001b[43m(\u001b[49m\u001b[38;5;124;43m\"\u001b[39;49m\u001b[38;5;124;43mselect * from FSDS\u001b[39;49m\u001b[38;5;124;43m\"\u001b[39;49m\u001b[43m)\u001b[49m\n",
      "\u001b[0;31mOperationalError\u001b[0m: no such table: FSDS"
     ]
    }
   ],
   "source": [
    "c.execute(\"select * from FSDS\")"
   ]
  },
  {
   "cell_type": "code",
   "execution_count": 76,
   "id": "323ceabc-7ff1-4d17-9d15-2fb5420421ce",
   "metadata": {},
   "outputs": [
    {
     "name": "stdout",
     "output_type": "stream",
     "text": [
      "'19.3.1 mongoDB introduction.ipynb'   MongoDB-1.ipynb   MySQL-2.ipynb\n",
      "'19.3.2 pyMongo.ipynb'                MongoDb2.ipynb    person.db\n",
      "'19.3.3 Atlas.ipynb'                  \u001b[0m\u001b[34;42mmongo_img\u001b[0m/        sagar.db\n",
      " glass.data                           MySQL-1.ipynb     SqlLite-1.ipynb\n"
     ]
    }
   ],
   "source": [
    "ls"
   ]
  },
  {
   "cell_type": "code",
   "execution_count": 77,
   "id": "ee678023-cab0-4295-a6c4-e1514fd36923",
   "metadata": {},
   "outputs": [],
   "source": [
    "db.close()"
   ]
  },
  {
   "cell_type": "code",
   "execution_count": 81,
   "id": "cf92321a-2b55-4ee5-9d27-fdaee07d087d",
   "metadata": {},
   "outputs": [],
   "source": [
    "db = sqlite3.connect('person.db')"
   ]
  },
  {
   "cell_type": "code",
   "execution_count": 82,
   "id": "3a79fbb2-4e97-4ccb-a45a-bc95862c33a6",
   "metadata": {},
   "outputs": [],
   "source": [
    "c = db.cursor()"
   ]
  },
  {
   "cell_type": "code",
   "execution_count": 89,
   "id": "007693fe-d6af-41eb-ab96-e82e0a22960a",
   "metadata": {},
   "outputs": [],
   "source": [
    "data = c.execute(\"SELECT * from person_table limit 10\")"
   ]
  },
  {
   "cell_type": "code",
   "execution_count": 90,
   "id": "f22289fd-6d45-4b86-bc07-14ee8537e9f4",
   "metadata": {},
   "outputs": [
    {
     "name": "stdout",
     "output_type": "stream",
     "text": [
      "('Sagar', 'spgiradkar2002@gmail.com', 21, 80000.0)\n",
      "('Sagar', 'spgiradkar2002@gmail.com', 21, 80000.0)\n",
      "('Sagar', 'spgiradkar2002@gmail.com', 21, 80000.0)\n",
      "('Sagar', 'spgiradkar2002@gmail.com', 21, 80000.0)\n",
      "('Sagar', 'spgiradkar2002@gmail.com', 21, 80000.0)\n",
      "('Prakash', 'spgiradkar2002@gmail.com', 21, 80000.0)\n",
      "('Pavan', 'spgiradkar2002@gmail.com', 21, 80000.0)\n",
      "('Parth', 'spgiradkar2002@gmail.com', 31, 80000.0)\n",
      "('Ashish', 'spgiradkar2002@gmail.com', 41, 80000.0)\n",
      "('Nilesh', 'spgiradkar2002@gmail.com', 25, 80000.0)\n"
     ]
    }
   ],
   "source": [
    "for i in data :\n",
    "    print(i)"
   ]
  },
  {
   "cell_type": "code",
   "execution_count": 91,
   "id": "3f8b6924-6f17-47c2-bb6a-8a45b0e05639",
   "metadata": {},
   "outputs": [],
   "source": [
    " db.close()"
   ]
  },
  {
   "cell_type": "code",
   "execution_count": 94,
   "id": "f9cf3b4c-6866-42d9-8b57-8d04ecb3c5da",
   "metadata": {},
   "outputs": [],
   "source": [
    "db = sqlite3.connect(\"jobdb.db\")"
   ]
  },
  {
   "cell_type": "code",
   "execution_count": 95,
   "id": "5e827be5-cf32-471d-acc5-784a5aea529b",
   "metadata": {},
   "outputs": [],
   "source": [
    "c = db.cursor()"
   ]
  },
  {
   "cell_type": "code",
   "execution_count": 96,
   "id": "6a3b52b9-b2d4-428e-9597-17cff1f7c087",
   "metadata": {},
   "outputs": [
    {
     "data": {
      "text/plain": [
       "<sqlite3.Cursor at 0x7f4e25fbdb40>"
      ]
     },
     "execution_count": 96,
     "metadata": {},
     "output_type": "execute_result"
    }
   ],
   "source": [
    "c.execute(\"create table student(student_id int ,student_name text,student_mailid text ,marks int )\")"
   ]
  },
  {
   "cell_type": "code",
   "execution_count": 97,
   "id": "b10ea071-426b-4e90-a476-f07d04abbff5",
   "metadata": {},
   "outputs": [
    {
     "data": {
      "text/plain": [
       "<sqlite3.Cursor at 0x7f4e25fbdb40>"
      ]
     },
     "execution_count": 97,
     "metadata": {},
     "output_type": "execute_result"
    }
   ],
   "source": [
    "c.execute(\"create table address(student_id text, pincode int , location text, nearby text , phone_no int)\")"
   ]
  },
  {
   "cell_type": "code",
   "execution_count": 98,
   "id": "eca1992e-5481-4520-87d6-503eb3107575",
   "metadata": {},
   "outputs": [
    {
     "data": {
      "text/plain": [
       "<sqlite3.Cursor at 0x7f4e25fbdb40>"
      ]
     },
     "execution_count": 98,
     "metadata": {},
     "output_type": "execute_result"
    }
   ],
   "source": [
    "c.execute(\"drop table address\")"
   ]
  },
  {
   "cell_type": "code",
   "execution_count": 99,
   "id": "33497257-c219-4c39-b329-435e266adc72",
   "metadata": {},
   "outputs": [
    {
     "data": {
      "text/plain": [
       "<sqlite3.Cursor at 0x7f4e25fbdb40>"
      ]
     },
     "execution_count": 99,
     "metadata": {},
     "output_type": "execute_result"
    }
   ],
   "source": [
    "c.execute(\"create table address(student_id int, pincode int , location text, nearby text , phone_no int)\")"
   ]
  },
  {
   "cell_type": "code",
   "execution_count": 106,
   "id": "f3399f93-99d1-49ae-9b8d-05390368f098",
   "metadata": {},
   "outputs": [
    {
     "data": {
      "text/plain": [
       "<sqlite3.Cursor at 0x7f4e25fbdb40>"
      ]
     },
     "execution_count": 106,
     "metadata": {},
     "output_type": "execute_result"
    }
   ],
   "source": [
    "c.execute('insert into student values(2340,\"sagar\",\"abc@gmail.com\",23234)')\n",
    "c.execute('insert into student values(2341,\"sagar\",\"abc@gmail.com\",235234)')\n",
    "c.execute('insert into student values(2342,\"sagar\",\"abc@gmail.com\",23234)')\n",
    "c.execute('insert into student values(2343,\"sagar\",\"abc@gmail.com\",23234)')\n",
    "c.execute('insert into student values(2344,\"sagar\",\"abc@gmail.com\",5465)')\n",
    "c.execute('insert into student values(2345,\"sagar\",\"abc@gmail.com\",45423234)')\n",
    "c.execute('insert into student values(2346,\"sagar\",\"abc@gmail.com\",2343234)')\n",
    "c.execute('insert into student values(2347,\"sagar\",\"abc@gmail.com\",23234)')\n",
    "c.execute('insert into student values(2348,\"sagar\",\"abc@gmail.com\",23234)')\n",
    "c.execute('insert into student values(2349,\"sagar\",\"abc@gmail.com\",2334234)')"
   ]
  },
  {
   "cell_type": "code",
   "execution_count": 107,
   "id": "0a3e3b04-f614-4633-8ffb-1d93b8cc6de0",
   "metadata": {},
   "outputs": [],
   "source": [
    "data = c.execute(\"select * from student\")"
   ]
  },
  {
   "cell_type": "code",
   "execution_count": 108,
   "id": "876e622a-450f-4454-b21c-500d368f4869",
   "metadata": {},
   "outputs": [
    {
     "name": "stdout",
     "output_type": "stream",
     "text": [
      "(234, 'sagar', 'abc@gmail.com', 23234)\n",
      "(234, 'sagar', 'abc@gmail.com', 23234)\n",
      "(234, 'sagar', 'abc@gmail.com', 23234)\n",
      "(234, 'sagar', 'abc@gmail.com', 23234)\n",
      "(234, 'sagar', 'abc@gmail.com', 235234)\n",
      "(234, 'sagar', 'abc@gmail.com', 23234)\n",
      "(234, 'sagar', 'abc@gmail.com', 23234)\n",
      "(234, 'sagar', 'abc@gmail.com', 5465)\n",
      "(234, 'sagar', 'abc@gmail.com', 45423234)\n",
      "(234, 'sagar', 'abc@gmail.com', 2343234)\n",
      "(234, 'sagar', 'abc@gmail.com', 23234)\n",
      "(234, 'sagar', 'abc@gmail.com', 23234)\n",
      "(234, 'sagar', 'abc@gmail.com', 2334234)\n",
      "(2340, 'sagar', 'abc@gmail.com', 23234)\n",
      "(2341, 'sagar', 'abc@gmail.com', 235234)\n",
      "(2342, 'sagar', 'abc@gmail.com', 23234)\n",
      "(2343, 'sagar', 'abc@gmail.com', 23234)\n",
      "(2344, 'sagar', 'abc@gmail.com', 5465)\n",
      "(2345, 'sagar', 'abc@gmail.com', 45423234)\n",
      "(2346, 'sagar', 'abc@gmail.com', 2343234)\n",
      "(2347, 'sagar', 'abc@gmail.com', 23234)\n",
      "(2348, 'sagar', 'abc@gmail.com', 23234)\n",
      "(2349, 'sagar', 'abc@gmail.com', 2334234)\n"
     ]
    }
   ],
   "source": [
    "for i in data :\n",
    "    print(i)"
   ]
  },
  {
   "cell_type": "code",
   "execution_count": 120,
   "id": "3454b1f6-5da4-4b4d-a262-022d303dc98e",
   "metadata": {},
   "outputs": [
    {
     "data": {
      "text/plain": [
       "<sqlite3.Cursor at 0x7f4e25fbdb40>"
      ]
     },
     "execution_count": 120,
     "metadata": {},
     "output_type": "execute_result"
    }
   ],
   "source": [
    "c.execute('insert into address values(23434,502342,\"Pune\",\"Laxminagar\",9168801192)')\n",
    "c.execute('insert into address values(23445,502342,\"Pune\",\"Laxminagar\",9168801192)')\n",
    "c.execute('insert into address values(23434,502342,\"Pune\",\"Laxminagar\",9168801192)')\n",
    "c.execute('insert into address values(23434,502342,\"Pune\",\"Laxminagar\",9168801192)')\n",
    "c.execute('insert into address values(23434,502342,\"Pune\",\"Laxminagar\",9168801192)')\n",
    "c.execute('insert into address values(23344,502342,\"Pune\",\"Laxminagar\",9168801192)')\n",
    "c.execute('insert into address values(23434,502342,\"Pune\",\"Laxminagar\",9168801192)')\n",
    "c.execute('insert into address values(23467,502342,\"Pune\",\"Laxminagar\",9168801192)')\n",
    "c.execute('insert into address values(234786,502342,\"Pune\",\"Laxminagar\",9168801192)')\n",
    "c.execute('insert into address values(2347876,502342,\"Pune\",\"Laxminagar\",9168801192)')\n",
    "c.execute('insert into address values(23468,502342,\"Pune\",\"Laxminagar\",9168801192)')\n",
    "c.execute('insert into address values(2347686,502342,\"Pune\",\"Laxminagar\",9168801192)')\n",
    "c.execute('insert into address values(23478,502342,\"Pune\",\"Laxminagar\",9168801192)')"
   ]
  },
  {
   "cell_type": "code",
   "execution_count": 121,
   "id": "a26bc301-bedd-4ec1-a739-83079dd82b11",
   "metadata": {},
   "outputs": [],
   "source": [
    "data1 = c.execute(\"select * from address\")"
   ]
  },
  {
   "cell_type": "code",
   "execution_count": null,
   "id": "e7de82ba-84db-4265-a7bf-a315dca260df",
   "metadata": {},
   "outputs": [],
   "source": []
  },
  {
   "cell_type": "code",
   "execution_count": 122,
   "id": "ea3c5372-a21b-4d60-acc9-7d94d94add80",
   "metadata": {},
   "outputs": [
    {
     "name": "stdout",
     "output_type": "stream",
     "text": [
      "(234, 502342, 'Pune', 'Laxminagar', 9168801192)\n",
      "(234, 502342, 'Pune', 'Laxminagar', 9168801192)\n",
      "(234, 502342, 'Pune', 'Laxminagar', 9168801192)\n",
      "(234, 502342, 'Pune', 'Laxminagar', 9168801192)\n",
      "(234, 502342, 'Pune', 'Laxminagar', 9168801192)\n",
      "(234, 502342, 'Pune', 'Laxminagar', 9168801192)\n",
      "(234, 502342, 'Pune', 'Laxminagar', 9168801192)\n",
      "(234, 502342, 'Pune', 'Laxminagar', 9168801192)\n",
      "(234, 502342, 'Pune', 'Laxminagar', 9168801192)\n",
      "(234, 502342, 'Pune', 'Laxminagar', 9168801192)\n",
      "(234, 502342, 'Pune', 'Laxminagar', 9168801192)\n",
      "(234, 502342, 'Pune', 'Laxminagar', 9168801192)\n",
      "(234, 502342, 'Pune', 'Laxminagar', 9168801192)\n",
      "(234, 502342, 'Pune', 'Laxminagar', 9168801192)\n",
      "(234, 502342, 'Pune', 'Laxminagar', 9168801192)\n",
      "(234, 502342, 'Pune', 'Laxminagar', 9168801192)\n",
      "(234, 502342, 'Pune', 'Laxminagar', 9168801192)\n",
      "(23434, 502342, 'Pune', 'Laxminagar', 9168801192)\n",
      "(23445, 502342, 'Pune', 'Laxminagar', 9168801192)\n",
      "(23434, 502342, 'Pune', 'Laxminagar', 9168801192)\n",
      "(23434, 502342, 'Pune', 'Laxminagar', 9168801192)\n",
      "(23434, 502342, 'Pune', 'Laxminagar', 9168801192)\n",
      "(23344, 502342, 'Pune', 'Laxminagar', 9168801192)\n",
      "(23434, 502342, 'Pune', 'Laxminagar', 9168801192)\n",
      "(23467, 502342, 'Pune', 'Laxminagar', 9168801192)\n",
      "(234786, 502342, 'Pune', 'Laxminagar', 9168801192)\n",
      "(2347876, 502342, 'Pune', 'Laxminagar', 9168801192)\n",
      "(23468, 502342, 'Pune', 'Laxminagar', 9168801192)\n",
      "(2347686, 502342, 'Pune', 'Laxminagar', 9168801192)\n",
      "(23478, 502342, 'Pune', 'Laxminagar', 9168801192)\n",
      "(23434, 502342, 'Pune', 'Laxminagar', 9168801192)\n",
      "(23445, 502342, 'Pune', 'Laxminagar', 9168801192)\n",
      "(23434, 502342, 'Pune', 'Laxminagar', 9168801192)\n",
      "(23434, 502342, 'Pune', 'Laxminagar', 9168801192)\n",
      "(23434, 502342, 'Pune', 'Laxminagar', 9168801192)\n",
      "(23344, 502342, 'Pune', 'Laxminagar', 9168801192)\n",
      "(23434, 502342, 'Pune', 'Laxminagar', 9168801192)\n",
      "(23467, 502342, 'Pune', 'Laxminagar', 9168801192)\n",
      "(234786, 502342, 'Pune', 'Laxminagar', 9168801192)\n",
      "(2347876, 502342, 'Pune', 'Laxminagar', 9168801192)\n",
      "(23468, 502342, 'Pune', 'Laxminagar', 9168801192)\n",
      "(2347686, 502342, 'Pune', 'Laxminagar', 9168801192)\n",
      "(23478, 502342, 'Pune', 'Laxminagar', 9168801192)\n"
     ]
    }
   ],
   "source": [
    "for i in data1:\n",
    "    print(i)"
   ]
  },
  {
   "cell_type": "code",
   "execution_count": 124,
   "id": "7317544e-6908-48d1-86c9-206c905e4559",
   "metadata": {},
   "outputs": [],
   "source": [
    "data2 = c.execute('select * from student s left join address a on s.student_id = a.student_id')"
   ]
  },
  {
   "cell_type": "code",
   "execution_count": 125,
   "id": "36a6bc20-cf3e-424f-b33a-047c169e1d25",
   "metadata": {},
   "outputs": [
    {
     "name": "stdout",
     "output_type": "stream",
     "text": [
      "(234, 'sagar', 'abc@gmail.com', 23234, 234, 502342, 'Pune', 'Laxminagar', 9168801192)\n",
      "(234, 'sagar', 'abc@gmail.com', 23234, 234, 502342, 'Pune', 'Laxminagar', 9168801192)\n",
      "(234, 'sagar', 'abc@gmail.com', 23234, 234, 502342, 'Pune', 'Laxminagar', 9168801192)\n",
      "(234, 'sagar', 'abc@gmail.com', 23234, 234, 502342, 'Pune', 'Laxminagar', 9168801192)\n",
      "(234, 'sagar', 'abc@gmail.com', 23234, 234, 502342, 'Pune', 'Laxminagar', 9168801192)\n",
      "(234, 'sagar', 'abc@gmail.com', 23234, 234, 502342, 'Pune', 'Laxminagar', 9168801192)\n",
      "(234, 'sagar', 'abc@gmail.com', 23234, 234, 502342, 'Pune', 'Laxminagar', 9168801192)\n",
      "(234, 'sagar', 'abc@gmail.com', 23234, 234, 502342, 'Pune', 'Laxminagar', 9168801192)\n",
      "(234, 'sagar', 'abc@gmail.com', 23234, 234, 502342, 'Pune', 'Laxminagar', 9168801192)\n",
      "(234, 'sagar', 'abc@gmail.com', 23234, 234, 502342, 'Pune', 'Laxminagar', 9168801192)\n",
      "(234, 'sagar', 'abc@gmail.com', 23234, 234, 502342, 'Pune', 'Laxminagar', 9168801192)\n",
      "(234, 'sagar', 'abc@gmail.com', 23234, 234, 502342, 'Pune', 'Laxminagar', 9168801192)\n",
      "(234, 'sagar', 'abc@gmail.com', 23234, 234, 502342, 'Pune', 'Laxminagar', 9168801192)\n",
      "(234, 'sagar', 'abc@gmail.com', 23234, 234, 502342, 'Pune', 'Laxminagar', 9168801192)\n",
      "(234, 'sagar', 'abc@gmail.com', 23234, 234, 502342, 'Pune', 'Laxminagar', 9168801192)\n",
      "(234, 'sagar', 'abc@gmail.com', 23234, 234, 502342, 'Pune', 'Laxminagar', 9168801192)\n",
      "(234, 'sagar', 'abc@gmail.com', 23234, 234, 502342, 'Pune', 'Laxminagar', 9168801192)\n",
      "(234, 'sagar', 'abc@gmail.com', 23234, 234, 502342, 'Pune', 'Laxminagar', 9168801192)\n",
      "(234, 'sagar', 'abc@gmail.com', 23234, 234, 502342, 'Pune', 'Laxminagar', 9168801192)\n",
      "(234, 'sagar', 'abc@gmail.com', 23234, 234, 502342, 'Pune', 'Laxminagar', 9168801192)\n",
      "(234, 'sagar', 'abc@gmail.com', 23234, 234, 502342, 'Pune', 'Laxminagar', 9168801192)\n",
      "(234, 'sagar', 'abc@gmail.com', 23234, 234, 502342, 'Pune', 'Laxminagar', 9168801192)\n",
      "(234, 'sagar', 'abc@gmail.com', 23234, 234, 502342, 'Pune', 'Laxminagar', 9168801192)\n",
      "(234, 'sagar', 'abc@gmail.com', 23234, 234, 502342, 'Pune', 'Laxminagar', 9168801192)\n",
      "(234, 'sagar', 'abc@gmail.com', 23234, 234, 502342, 'Pune', 'Laxminagar', 9168801192)\n",
      "(234, 'sagar', 'abc@gmail.com', 23234, 234, 502342, 'Pune', 'Laxminagar', 9168801192)\n",
      "(234, 'sagar', 'abc@gmail.com', 23234, 234, 502342, 'Pune', 'Laxminagar', 9168801192)\n",
      "(234, 'sagar', 'abc@gmail.com', 23234, 234, 502342, 'Pune', 'Laxminagar', 9168801192)\n",
      "(234, 'sagar', 'abc@gmail.com', 23234, 234, 502342, 'Pune', 'Laxminagar', 9168801192)\n",
      "(234, 'sagar', 'abc@gmail.com', 23234, 234, 502342, 'Pune', 'Laxminagar', 9168801192)\n",
      "(234, 'sagar', 'abc@gmail.com', 23234, 234, 502342, 'Pune', 'Laxminagar', 9168801192)\n",
      "(234, 'sagar', 'abc@gmail.com', 23234, 234, 502342, 'Pune', 'Laxminagar', 9168801192)\n",
      "(234, 'sagar', 'abc@gmail.com', 23234, 234, 502342, 'Pune', 'Laxminagar', 9168801192)\n",
      "(234, 'sagar', 'abc@gmail.com', 23234, 234, 502342, 'Pune', 'Laxminagar', 9168801192)\n",
      "(234, 'sagar', 'abc@gmail.com', 23234, 234, 502342, 'Pune', 'Laxminagar', 9168801192)\n",
      "(234, 'sagar', 'abc@gmail.com', 23234, 234, 502342, 'Pune', 'Laxminagar', 9168801192)\n",
      "(234, 'sagar', 'abc@gmail.com', 23234, 234, 502342, 'Pune', 'Laxminagar', 9168801192)\n",
      "(234, 'sagar', 'abc@gmail.com', 23234, 234, 502342, 'Pune', 'Laxminagar', 9168801192)\n",
      "(234, 'sagar', 'abc@gmail.com', 23234, 234, 502342, 'Pune', 'Laxminagar', 9168801192)\n",
      "(234, 'sagar', 'abc@gmail.com', 23234, 234, 502342, 'Pune', 'Laxminagar', 9168801192)\n",
      "(234, 'sagar', 'abc@gmail.com', 23234, 234, 502342, 'Pune', 'Laxminagar', 9168801192)\n",
      "(234, 'sagar', 'abc@gmail.com', 23234, 234, 502342, 'Pune', 'Laxminagar', 9168801192)\n",
      "(234, 'sagar', 'abc@gmail.com', 23234, 234, 502342, 'Pune', 'Laxminagar', 9168801192)\n",
      "(234, 'sagar', 'abc@gmail.com', 23234, 234, 502342, 'Pune', 'Laxminagar', 9168801192)\n",
      "(234, 'sagar', 'abc@gmail.com', 23234, 234, 502342, 'Pune', 'Laxminagar', 9168801192)\n",
      "(234, 'sagar', 'abc@gmail.com', 23234, 234, 502342, 'Pune', 'Laxminagar', 9168801192)\n",
      "(234, 'sagar', 'abc@gmail.com', 23234, 234, 502342, 'Pune', 'Laxminagar', 9168801192)\n",
      "(234, 'sagar', 'abc@gmail.com', 23234, 234, 502342, 'Pune', 'Laxminagar', 9168801192)\n",
      "(234, 'sagar', 'abc@gmail.com', 23234, 234, 502342, 'Pune', 'Laxminagar', 9168801192)\n",
      "(234, 'sagar', 'abc@gmail.com', 23234, 234, 502342, 'Pune', 'Laxminagar', 9168801192)\n",
      "(234, 'sagar', 'abc@gmail.com', 23234, 234, 502342, 'Pune', 'Laxminagar', 9168801192)\n",
      "(234, 'sagar', 'abc@gmail.com', 23234, 234, 502342, 'Pune', 'Laxminagar', 9168801192)\n",
      "(234, 'sagar', 'abc@gmail.com', 23234, 234, 502342, 'Pune', 'Laxminagar', 9168801192)\n",
      "(234, 'sagar', 'abc@gmail.com', 23234, 234, 502342, 'Pune', 'Laxminagar', 9168801192)\n",
      "(234, 'sagar', 'abc@gmail.com', 23234, 234, 502342, 'Pune', 'Laxminagar', 9168801192)\n",
      "(234, 'sagar', 'abc@gmail.com', 23234, 234, 502342, 'Pune', 'Laxminagar', 9168801192)\n",
      "(234, 'sagar', 'abc@gmail.com', 23234, 234, 502342, 'Pune', 'Laxminagar', 9168801192)\n",
      "(234, 'sagar', 'abc@gmail.com', 23234, 234, 502342, 'Pune', 'Laxminagar', 9168801192)\n",
      "(234, 'sagar', 'abc@gmail.com', 23234, 234, 502342, 'Pune', 'Laxminagar', 9168801192)\n",
      "(234, 'sagar', 'abc@gmail.com', 23234, 234, 502342, 'Pune', 'Laxminagar', 9168801192)\n",
      "(234, 'sagar', 'abc@gmail.com', 23234, 234, 502342, 'Pune', 'Laxminagar', 9168801192)\n",
      "(234, 'sagar', 'abc@gmail.com', 23234, 234, 502342, 'Pune', 'Laxminagar', 9168801192)\n",
      "(234, 'sagar', 'abc@gmail.com', 23234, 234, 502342, 'Pune', 'Laxminagar', 9168801192)\n",
      "(234, 'sagar', 'abc@gmail.com', 23234, 234, 502342, 'Pune', 'Laxminagar', 9168801192)\n",
      "(234, 'sagar', 'abc@gmail.com', 23234, 234, 502342, 'Pune', 'Laxminagar', 9168801192)\n",
      "(234, 'sagar', 'abc@gmail.com', 23234, 234, 502342, 'Pune', 'Laxminagar', 9168801192)\n",
      "(234, 'sagar', 'abc@gmail.com', 23234, 234, 502342, 'Pune', 'Laxminagar', 9168801192)\n",
      "(234, 'sagar', 'abc@gmail.com', 23234, 234, 502342, 'Pune', 'Laxminagar', 9168801192)\n",
      "(234, 'sagar', 'abc@gmail.com', 235234, 234, 502342, 'Pune', 'Laxminagar', 9168801192)\n",
      "(234, 'sagar', 'abc@gmail.com', 235234, 234, 502342, 'Pune', 'Laxminagar', 9168801192)\n",
      "(234, 'sagar', 'abc@gmail.com', 235234, 234, 502342, 'Pune', 'Laxminagar', 9168801192)\n",
      "(234, 'sagar', 'abc@gmail.com', 235234, 234, 502342, 'Pune', 'Laxminagar', 9168801192)\n",
      "(234, 'sagar', 'abc@gmail.com', 235234, 234, 502342, 'Pune', 'Laxminagar', 9168801192)\n",
      "(234, 'sagar', 'abc@gmail.com', 235234, 234, 502342, 'Pune', 'Laxminagar', 9168801192)\n",
      "(234, 'sagar', 'abc@gmail.com', 235234, 234, 502342, 'Pune', 'Laxminagar', 9168801192)\n",
      "(234, 'sagar', 'abc@gmail.com', 235234, 234, 502342, 'Pune', 'Laxminagar', 9168801192)\n",
      "(234, 'sagar', 'abc@gmail.com', 235234, 234, 502342, 'Pune', 'Laxminagar', 9168801192)\n",
      "(234, 'sagar', 'abc@gmail.com', 235234, 234, 502342, 'Pune', 'Laxminagar', 9168801192)\n",
      "(234, 'sagar', 'abc@gmail.com', 235234, 234, 502342, 'Pune', 'Laxminagar', 9168801192)\n",
      "(234, 'sagar', 'abc@gmail.com', 235234, 234, 502342, 'Pune', 'Laxminagar', 9168801192)\n",
      "(234, 'sagar', 'abc@gmail.com', 235234, 234, 502342, 'Pune', 'Laxminagar', 9168801192)\n",
      "(234, 'sagar', 'abc@gmail.com', 235234, 234, 502342, 'Pune', 'Laxminagar', 9168801192)\n",
      "(234, 'sagar', 'abc@gmail.com', 235234, 234, 502342, 'Pune', 'Laxminagar', 9168801192)\n",
      "(234, 'sagar', 'abc@gmail.com', 235234, 234, 502342, 'Pune', 'Laxminagar', 9168801192)\n",
      "(234, 'sagar', 'abc@gmail.com', 235234, 234, 502342, 'Pune', 'Laxminagar', 9168801192)\n",
      "(234, 'sagar', 'abc@gmail.com', 23234, 234, 502342, 'Pune', 'Laxminagar', 9168801192)\n",
      "(234, 'sagar', 'abc@gmail.com', 23234, 234, 502342, 'Pune', 'Laxminagar', 9168801192)\n",
      "(234, 'sagar', 'abc@gmail.com', 23234, 234, 502342, 'Pune', 'Laxminagar', 9168801192)\n",
      "(234, 'sagar', 'abc@gmail.com', 23234, 234, 502342, 'Pune', 'Laxminagar', 9168801192)\n",
      "(234, 'sagar', 'abc@gmail.com', 23234, 234, 502342, 'Pune', 'Laxminagar', 9168801192)\n",
      "(234, 'sagar', 'abc@gmail.com', 23234, 234, 502342, 'Pune', 'Laxminagar', 9168801192)\n",
      "(234, 'sagar', 'abc@gmail.com', 23234, 234, 502342, 'Pune', 'Laxminagar', 9168801192)\n",
      "(234, 'sagar', 'abc@gmail.com', 23234, 234, 502342, 'Pune', 'Laxminagar', 9168801192)\n",
      "(234, 'sagar', 'abc@gmail.com', 23234, 234, 502342, 'Pune', 'Laxminagar', 9168801192)\n",
      "(234, 'sagar', 'abc@gmail.com', 23234, 234, 502342, 'Pune', 'Laxminagar', 9168801192)\n",
      "(234, 'sagar', 'abc@gmail.com', 23234, 234, 502342, 'Pune', 'Laxminagar', 9168801192)\n",
      "(234, 'sagar', 'abc@gmail.com', 23234, 234, 502342, 'Pune', 'Laxminagar', 9168801192)\n",
      "(234, 'sagar', 'abc@gmail.com', 23234, 234, 502342, 'Pune', 'Laxminagar', 9168801192)\n",
      "(234, 'sagar', 'abc@gmail.com', 23234, 234, 502342, 'Pune', 'Laxminagar', 9168801192)\n",
      "(234, 'sagar', 'abc@gmail.com', 23234, 234, 502342, 'Pune', 'Laxminagar', 9168801192)\n",
      "(234, 'sagar', 'abc@gmail.com', 23234, 234, 502342, 'Pune', 'Laxminagar', 9168801192)\n",
      "(234, 'sagar', 'abc@gmail.com', 23234, 234, 502342, 'Pune', 'Laxminagar', 9168801192)\n",
      "(234, 'sagar', 'abc@gmail.com', 23234, 234, 502342, 'Pune', 'Laxminagar', 9168801192)\n",
      "(234, 'sagar', 'abc@gmail.com', 23234, 234, 502342, 'Pune', 'Laxminagar', 9168801192)\n",
      "(234, 'sagar', 'abc@gmail.com', 23234, 234, 502342, 'Pune', 'Laxminagar', 9168801192)\n",
      "(234, 'sagar', 'abc@gmail.com', 23234, 234, 502342, 'Pune', 'Laxminagar', 9168801192)\n",
      "(234, 'sagar', 'abc@gmail.com', 23234, 234, 502342, 'Pune', 'Laxminagar', 9168801192)\n",
      "(234, 'sagar', 'abc@gmail.com', 23234, 234, 502342, 'Pune', 'Laxminagar', 9168801192)\n",
      "(234, 'sagar', 'abc@gmail.com', 23234, 234, 502342, 'Pune', 'Laxminagar', 9168801192)\n",
      "(234, 'sagar', 'abc@gmail.com', 23234, 234, 502342, 'Pune', 'Laxminagar', 9168801192)\n",
      "(234, 'sagar', 'abc@gmail.com', 23234, 234, 502342, 'Pune', 'Laxminagar', 9168801192)\n",
      "(234, 'sagar', 'abc@gmail.com', 23234, 234, 502342, 'Pune', 'Laxminagar', 9168801192)\n",
      "(234, 'sagar', 'abc@gmail.com', 23234, 234, 502342, 'Pune', 'Laxminagar', 9168801192)\n",
      "(234, 'sagar', 'abc@gmail.com', 23234, 234, 502342, 'Pune', 'Laxminagar', 9168801192)\n",
      "(234, 'sagar', 'abc@gmail.com', 23234, 234, 502342, 'Pune', 'Laxminagar', 9168801192)\n",
      "(234, 'sagar', 'abc@gmail.com', 23234, 234, 502342, 'Pune', 'Laxminagar', 9168801192)\n",
      "(234, 'sagar', 'abc@gmail.com', 23234, 234, 502342, 'Pune', 'Laxminagar', 9168801192)\n",
      "(234, 'sagar', 'abc@gmail.com', 23234, 234, 502342, 'Pune', 'Laxminagar', 9168801192)\n",
      "(234, 'sagar', 'abc@gmail.com', 23234, 234, 502342, 'Pune', 'Laxminagar', 9168801192)\n",
      "(234, 'sagar', 'abc@gmail.com', 5465, 234, 502342, 'Pune', 'Laxminagar', 9168801192)\n",
      "(234, 'sagar', 'abc@gmail.com', 5465, 234, 502342, 'Pune', 'Laxminagar', 9168801192)\n",
      "(234, 'sagar', 'abc@gmail.com', 5465, 234, 502342, 'Pune', 'Laxminagar', 9168801192)\n",
      "(234, 'sagar', 'abc@gmail.com', 5465, 234, 502342, 'Pune', 'Laxminagar', 9168801192)\n",
      "(234, 'sagar', 'abc@gmail.com', 5465, 234, 502342, 'Pune', 'Laxminagar', 9168801192)\n",
      "(234, 'sagar', 'abc@gmail.com', 5465, 234, 502342, 'Pune', 'Laxminagar', 9168801192)\n",
      "(234, 'sagar', 'abc@gmail.com', 5465, 234, 502342, 'Pune', 'Laxminagar', 9168801192)\n",
      "(234, 'sagar', 'abc@gmail.com', 5465, 234, 502342, 'Pune', 'Laxminagar', 9168801192)\n",
      "(234, 'sagar', 'abc@gmail.com', 5465, 234, 502342, 'Pune', 'Laxminagar', 9168801192)\n",
      "(234, 'sagar', 'abc@gmail.com', 5465, 234, 502342, 'Pune', 'Laxminagar', 9168801192)\n",
      "(234, 'sagar', 'abc@gmail.com', 5465, 234, 502342, 'Pune', 'Laxminagar', 9168801192)\n",
      "(234, 'sagar', 'abc@gmail.com', 5465, 234, 502342, 'Pune', 'Laxminagar', 9168801192)\n",
      "(234, 'sagar', 'abc@gmail.com', 5465, 234, 502342, 'Pune', 'Laxminagar', 9168801192)\n",
      "(234, 'sagar', 'abc@gmail.com', 5465, 234, 502342, 'Pune', 'Laxminagar', 9168801192)\n",
      "(234, 'sagar', 'abc@gmail.com', 5465, 234, 502342, 'Pune', 'Laxminagar', 9168801192)\n",
      "(234, 'sagar', 'abc@gmail.com', 5465, 234, 502342, 'Pune', 'Laxminagar', 9168801192)\n",
      "(234, 'sagar', 'abc@gmail.com', 5465, 234, 502342, 'Pune', 'Laxminagar', 9168801192)\n",
      "(234, 'sagar', 'abc@gmail.com', 45423234, 234, 502342, 'Pune', 'Laxminagar', 9168801192)\n",
      "(234, 'sagar', 'abc@gmail.com', 45423234, 234, 502342, 'Pune', 'Laxminagar', 9168801192)\n",
      "(234, 'sagar', 'abc@gmail.com', 45423234, 234, 502342, 'Pune', 'Laxminagar', 9168801192)\n",
      "(234, 'sagar', 'abc@gmail.com', 45423234, 234, 502342, 'Pune', 'Laxminagar', 9168801192)\n",
      "(234, 'sagar', 'abc@gmail.com', 45423234, 234, 502342, 'Pune', 'Laxminagar', 9168801192)\n",
      "(234, 'sagar', 'abc@gmail.com', 45423234, 234, 502342, 'Pune', 'Laxminagar', 9168801192)\n",
      "(234, 'sagar', 'abc@gmail.com', 45423234, 234, 502342, 'Pune', 'Laxminagar', 9168801192)\n",
      "(234, 'sagar', 'abc@gmail.com', 45423234, 234, 502342, 'Pune', 'Laxminagar', 9168801192)\n",
      "(234, 'sagar', 'abc@gmail.com', 45423234, 234, 502342, 'Pune', 'Laxminagar', 9168801192)\n",
      "(234, 'sagar', 'abc@gmail.com', 45423234, 234, 502342, 'Pune', 'Laxminagar', 9168801192)\n",
      "(234, 'sagar', 'abc@gmail.com', 45423234, 234, 502342, 'Pune', 'Laxminagar', 9168801192)\n",
      "(234, 'sagar', 'abc@gmail.com', 45423234, 234, 502342, 'Pune', 'Laxminagar', 9168801192)\n",
      "(234, 'sagar', 'abc@gmail.com', 45423234, 234, 502342, 'Pune', 'Laxminagar', 9168801192)\n",
      "(234, 'sagar', 'abc@gmail.com', 45423234, 234, 502342, 'Pune', 'Laxminagar', 9168801192)\n",
      "(234, 'sagar', 'abc@gmail.com', 45423234, 234, 502342, 'Pune', 'Laxminagar', 9168801192)\n",
      "(234, 'sagar', 'abc@gmail.com', 45423234, 234, 502342, 'Pune', 'Laxminagar', 9168801192)\n",
      "(234, 'sagar', 'abc@gmail.com', 45423234, 234, 502342, 'Pune', 'Laxminagar', 9168801192)\n",
      "(234, 'sagar', 'abc@gmail.com', 2343234, 234, 502342, 'Pune', 'Laxminagar', 9168801192)\n",
      "(234, 'sagar', 'abc@gmail.com', 2343234, 234, 502342, 'Pune', 'Laxminagar', 9168801192)\n",
      "(234, 'sagar', 'abc@gmail.com', 2343234, 234, 502342, 'Pune', 'Laxminagar', 9168801192)\n",
      "(234, 'sagar', 'abc@gmail.com', 2343234, 234, 502342, 'Pune', 'Laxminagar', 9168801192)\n",
      "(234, 'sagar', 'abc@gmail.com', 2343234, 234, 502342, 'Pune', 'Laxminagar', 9168801192)\n",
      "(234, 'sagar', 'abc@gmail.com', 2343234, 234, 502342, 'Pune', 'Laxminagar', 9168801192)\n",
      "(234, 'sagar', 'abc@gmail.com', 2343234, 234, 502342, 'Pune', 'Laxminagar', 9168801192)\n",
      "(234, 'sagar', 'abc@gmail.com', 2343234, 234, 502342, 'Pune', 'Laxminagar', 9168801192)\n",
      "(234, 'sagar', 'abc@gmail.com', 2343234, 234, 502342, 'Pune', 'Laxminagar', 9168801192)\n",
      "(234, 'sagar', 'abc@gmail.com', 2343234, 234, 502342, 'Pune', 'Laxminagar', 9168801192)\n",
      "(234, 'sagar', 'abc@gmail.com', 2343234, 234, 502342, 'Pune', 'Laxminagar', 9168801192)\n",
      "(234, 'sagar', 'abc@gmail.com', 2343234, 234, 502342, 'Pune', 'Laxminagar', 9168801192)\n",
      "(234, 'sagar', 'abc@gmail.com', 2343234, 234, 502342, 'Pune', 'Laxminagar', 9168801192)\n",
      "(234, 'sagar', 'abc@gmail.com', 2343234, 234, 502342, 'Pune', 'Laxminagar', 9168801192)\n",
      "(234, 'sagar', 'abc@gmail.com', 2343234, 234, 502342, 'Pune', 'Laxminagar', 9168801192)\n",
      "(234, 'sagar', 'abc@gmail.com', 2343234, 234, 502342, 'Pune', 'Laxminagar', 9168801192)\n",
      "(234, 'sagar', 'abc@gmail.com', 2343234, 234, 502342, 'Pune', 'Laxminagar', 9168801192)\n",
      "(234, 'sagar', 'abc@gmail.com', 23234, 234, 502342, 'Pune', 'Laxminagar', 9168801192)\n",
      "(234, 'sagar', 'abc@gmail.com', 23234, 234, 502342, 'Pune', 'Laxminagar', 9168801192)\n",
      "(234, 'sagar', 'abc@gmail.com', 23234, 234, 502342, 'Pune', 'Laxminagar', 9168801192)\n",
      "(234, 'sagar', 'abc@gmail.com', 23234, 234, 502342, 'Pune', 'Laxminagar', 9168801192)\n",
      "(234, 'sagar', 'abc@gmail.com', 23234, 234, 502342, 'Pune', 'Laxminagar', 9168801192)\n",
      "(234, 'sagar', 'abc@gmail.com', 23234, 234, 502342, 'Pune', 'Laxminagar', 9168801192)\n",
      "(234, 'sagar', 'abc@gmail.com', 23234, 234, 502342, 'Pune', 'Laxminagar', 9168801192)\n",
      "(234, 'sagar', 'abc@gmail.com', 23234, 234, 502342, 'Pune', 'Laxminagar', 9168801192)\n",
      "(234, 'sagar', 'abc@gmail.com', 23234, 234, 502342, 'Pune', 'Laxminagar', 9168801192)\n",
      "(234, 'sagar', 'abc@gmail.com', 23234, 234, 502342, 'Pune', 'Laxminagar', 9168801192)\n",
      "(234, 'sagar', 'abc@gmail.com', 23234, 234, 502342, 'Pune', 'Laxminagar', 9168801192)\n",
      "(234, 'sagar', 'abc@gmail.com', 23234, 234, 502342, 'Pune', 'Laxminagar', 9168801192)\n",
      "(234, 'sagar', 'abc@gmail.com', 23234, 234, 502342, 'Pune', 'Laxminagar', 9168801192)\n",
      "(234, 'sagar', 'abc@gmail.com', 23234, 234, 502342, 'Pune', 'Laxminagar', 9168801192)\n",
      "(234, 'sagar', 'abc@gmail.com', 23234, 234, 502342, 'Pune', 'Laxminagar', 9168801192)\n",
      "(234, 'sagar', 'abc@gmail.com', 23234, 234, 502342, 'Pune', 'Laxminagar', 9168801192)\n",
      "(234, 'sagar', 'abc@gmail.com', 23234, 234, 502342, 'Pune', 'Laxminagar', 9168801192)\n",
      "(234, 'sagar', 'abc@gmail.com', 23234, 234, 502342, 'Pune', 'Laxminagar', 9168801192)\n",
      "(234, 'sagar', 'abc@gmail.com', 23234, 234, 502342, 'Pune', 'Laxminagar', 9168801192)\n",
      "(234, 'sagar', 'abc@gmail.com', 23234, 234, 502342, 'Pune', 'Laxminagar', 9168801192)\n",
      "(234, 'sagar', 'abc@gmail.com', 23234, 234, 502342, 'Pune', 'Laxminagar', 9168801192)\n",
      "(234, 'sagar', 'abc@gmail.com', 23234, 234, 502342, 'Pune', 'Laxminagar', 9168801192)\n",
      "(234, 'sagar', 'abc@gmail.com', 23234, 234, 502342, 'Pune', 'Laxminagar', 9168801192)\n",
      "(234, 'sagar', 'abc@gmail.com', 23234, 234, 502342, 'Pune', 'Laxminagar', 9168801192)\n",
      "(234, 'sagar', 'abc@gmail.com', 23234, 234, 502342, 'Pune', 'Laxminagar', 9168801192)\n",
      "(234, 'sagar', 'abc@gmail.com', 23234, 234, 502342, 'Pune', 'Laxminagar', 9168801192)\n",
      "(234, 'sagar', 'abc@gmail.com', 23234, 234, 502342, 'Pune', 'Laxminagar', 9168801192)\n",
      "(234, 'sagar', 'abc@gmail.com', 23234, 234, 502342, 'Pune', 'Laxminagar', 9168801192)\n",
      "(234, 'sagar', 'abc@gmail.com', 23234, 234, 502342, 'Pune', 'Laxminagar', 9168801192)\n",
      "(234, 'sagar', 'abc@gmail.com', 23234, 234, 502342, 'Pune', 'Laxminagar', 9168801192)\n",
      "(234, 'sagar', 'abc@gmail.com', 23234, 234, 502342, 'Pune', 'Laxminagar', 9168801192)\n",
      "(234, 'sagar', 'abc@gmail.com', 23234, 234, 502342, 'Pune', 'Laxminagar', 9168801192)\n",
      "(234, 'sagar', 'abc@gmail.com', 23234, 234, 502342, 'Pune', 'Laxminagar', 9168801192)\n",
      "(234, 'sagar', 'abc@gmail.com', 23234, 234, 502342, 'Pune', 'Laxminagar', 9168801192)\n",
      "(234, 'sagar', 'abc@gmail.com', 2334234, 234, 502342, 'Pune', 'Laxminagar', 9168801192)\n",
      "(234, 'sagar', 'abc@gmail.com', 2334234, 234, 502342, 'Pune', 'Laxminagar', 9168801192)\n",
      "(234, 'sagar', 'abc@gmail.com', 2334234, 234, 502342, 'Pune', 'Laxminagar', 9168801192)\n",
      "(234, 'sagar', 'abc@gmail.com', 2334234, 234, 502342, 'Pune', 'Laxminagar', 9168801192)\n",
      "(234, 'sagar', 'abc@gmail.com', 2334234, 234, 502342, 'Pune', 'Laxminagar', 9168801192)\n",
      "(234, 'sagar', 'abc@gmail.com', 2334234, 234, 502342, 'Pune', 'Laxminagar', 9168801192)\n",
      "(234, 'sagar', 'abc@gmail.com', 2334234, 234, 502342, 'Pune', 'Laxminagar', 9168801192)\n",
      "(234, 'sagar', 'abc@gmail.com', 2334234, 234, 502342, 'Pune', 'Laxminagar', 9168801192)\n",
      "(234, 'sagar', 'abc@gmail.com', 2334234, 234, 502342, 'Pune', 'Laxminagar', 9168801192)\n",
      "(234, 'sagar', 'abc@gmail.com', 2334234, 234, 502342, 'Pune', 'Laxminagar', 9168801192)\n",
      "(234, 'sagar', 'abc@gmail.com', 2334234, 234, 502342, 'Pune', 'Laxminagar', 9168801192)\n",
      "(234, 'sagar', 'abc@gmail.com', 2334234, 234, 502342, 'Pune', 'Laxminagar', 9168801192)\n",
      "(234, 'sagar', 'abc@gmail.com', 2334234, 234, 502342, 'Pune', 'Laxminagar', 9168801192)\n",
      "(234, 'sagar', 'abc@gmail.com', 2334234, 234, 502342, 'Pune', 'Laxminagar', 9168801192)\n",
      "(234, 'sagar', 'abc@gmail.com', 2334234, 234, 502342, 'Pune', 'Laxminagar', 9168801192)\n",
      "(234, 'sagar', 'abc@gmail.com', 2334234, 234, 502342, 'Pune', 'Laxminagar', 9168801192)\n",
      "(234, 'sagar', 'abc@gmail.com', 2334234, 234, 502342, 'Pune', 'Laxminagar', 9168801192)\n",
      "(2340, 'sagar', 'abc@gmail.com', 23234, None, None, None, None, None)\n",
      "(2341, 'sagar', 'abc@gmail.com', 235234, None, None, None, None, None)\n",
      "(2342, 'sagar', 'abc@gmail.com', 23234, None, None, None, None, None)\n",
      "(2343, 'sagar', 'abc@gmail.com', 23234, None, None, None, None, None)\n",
      "(2344, 'sagar', 'abc@gmail.com', 5465, None, None, None, None, None)\n",
      "(2345, 'sagar', 'abc@gmail.com', 45423234, None, None, None, None, None)\n",
      "(2346, 'sagar', 'abc@gmail.com', 2343234, None, None, None, None, None)\n",
      "(2347, 'sagar', 'abc@gmail.com', 23234, None, None, None, None, None)\n",
      "(2348, 'sagar', 'abc@gmail.com', 23234, None, None, None, None, None)\n",
      "(2349, 'sagar', 'abc@gmail.com', 2334234, None, None, None, None, None)\n"
     ]
    }
   ],
   "source": [
    "for i in data2 :\n",
    "    print(i)"
   ]
  },
  {
   "cell_type": "code",
   "execution_count": 126,
   "id": "d4903850-7ddd-477e-8a00-0e85f70804a2",
   "metadata": {},
   "outputs": [],
   "source": [
    "data2 = c.execute('select * from student s left join address a on s.student_id = a.student_id where a.student_id is not null')"
   ]
  },
  {
   "cell_type": "code",
   "execution_count": 127,
   "id": "fb6e8213-52b3-4a40-86bf-aea157b7a551",
   "metadata": {},
   "outputs": [
    {
     "name": "stdout",
     "output_type": "stream",
     "text": [
      "(234, 'sagar', 'abc@gmail.com', 5465, 234, 502342, 'Pune', 'Laxminagar', 9168801192)\n",
      "(234, 'sagar', 'abc@gmail.com', 23234, 234, 502342, 'Pune', 'Laxminagar', 9168801192)\n",
      "(234, 'sagar', 'abc@gmail.com', 23234, 234, 502342, 'Pune', 'Laxminagar', 9168801192)\n",
      "(234, 'sagar', 'abc@gmail.com', 23234, 234, 502342, 'Pune', 'Laxminagar', 9168801192)\n",
      "(234, 'sagar', 'abc@gmail.com', 23234, 234, 502342, 'Pune', 'Laxminagar', 9168801192)\n",
      "(234, 'sagar', 'abc@gmail.com', 23234, 234, 502342, 'Pune', 'Laxminagar', 9168801192)\n",
      "(234, 'sagar', 'abc@gmail.com', 23234, 234, 502342, 'Pune', 'Laxminagar', 9168801192)\n",
      "(234, 'sagar', 'abc@gmail.com', 23234, 234, 502342, 'Pune', 'Laxminagar', 9168801192)\n",
      "(234, 'sagar', 'abc@gmail.com', 23234, 234, 502342, 'Pune', 'Laxminagar', 9168801192)\n",
      "(234, 'sagar', 'abc@gmail.com', 235234, 234, 502342, 'Pune', 'Laxminagar', 9168801192)\n",
      "(234, 'sagar', 'abc@gmail.com', 2334234, 234, 502342, 'Pune', 'Laxminagar', 9168801192)\n",
      "(234, 'sagar', 'abc@gmail.com', 2343234, 234, 502342, 'Pune', 'Laxminagar', 9168801192)\n",
      "(234, 'sagar', 'abc@gmail.com', 45423234, 234, 502342, 'Pune', 'Laxminagar', 9168801192)\n",
      "(234, 'sagar', 'abc@gmail.com', 5465, 234, 502342, 'Pune', 'Laxminagar', 9168801192)\n",
      "(234, 'sagar', 'abc@gmail.com', 23234, 234, 502342, 'Pune', 'Laxminagar', 9168801192)\n",
      "(234, 'sagar', 'abc@gmail.com', 23234, 234, 502342, 'Pune', 'Laxminagar', 9168801192)\n",
      "(234, 'sagar', 'abc@gmail.com', 23234, 234, 502342, 'Pune', 'Laxminagar', 9168801192)\n",
      "(234, 'sagar', 'abc@gmail.com', 23234, 234, 502342, 'Pune', 'Laxminagar', 9168801192)\n",
      "(234, 'sagar', 'abc@gmail.com', 23234, 234, 502342, 'Pune', 'Laxminagar', 9168801192)\n",
      "(234, 'sagar', 'abc@gmail.com', 23234, 234, 502342, 'Pune', 'Laxminagar', 9168801192)\n",
      "(234, 'sagar', 'abc@gmail.com', 23234, 234, 502342, 'Pune', 'Laxminagar', 9168801192)\n",
      "(234, 'sagar', 'abc@gmail.com', 23234, 234, 502342, 'Pune', 'Laxminagar', 9168801192)\n",
      "(234, 'sagar', 'abc@gmail.com', 235234, 234, 502342, 'Pune', 'Laxminagar', 9168801192)\n",
      "(234, 'sagar', 'abc@gmail.com', 2334234, 234, 502342, 'Pune', 'Laxminagar', 9168801192)\n",
      "(234, 'sagar', 'abc@gmail.com', 2343234, 234, 502342, 'Pune', 'Laxminagar', 9168801192)\n",
      "(234, 'sagar', 'abc@gmail.com', 45423234, 234, 502342, 'Pune', 'Laxminagar', 9168801192)\n",
      "(234, 'sagar', 'abc@gmail.com', 5465, 234, 502342, 'Pune', 'Laxminagar', 9168801192)\n",
      "(234, 'sagar', 'abc@gmail.com', 23234, 234, 502342, 'Pune', 'Laxminagar', 9168801192)\n",
      "(234, 'sagar', 'abc@gmail.com', 23234, 234, 502342, 'Pune', 'Laxminagar', 9168801192)\n",
      "(234, 'sagar', 'abc@gmail.com', 23234, 234, 502342, 'Pune', 'Laxminagar', 9168801192)\n",
      "(234, 'sagar', 'abc@gmail.com', 23234, 234, 502342, 'Pune', 'Laxminagar', 9168801192)\n",
      "(234, 'sagar', 'abc@gmail.com', 23234, 234, 502342, 'Pune', 'Laxminagar', 9168801192)\n",
      "(234, 'sagar', 'abc@gmail.com', 23234, 234, 502342, 'Pune', 'Laxminagar', 9168801192)\n",
      "(234, 'sagar', 'abc@gmail.com', 23234, 234, 502342, 'Pune', 'Laxminagar', 9168801192)\n",
      "(234, 'sagar', 'abc@gmail.com', 23234, 234, 502342, 'Pune', 'Laxminagar', 9168801192)\n",
      "(234, 'sagar', 'abc@gmail.com', 235234, 234, 502342, 'Pune', 'Laxminagar', 9168801192)\n",
      "(234, 'sagar', 'abc@gmail.com', 2334234, 234, 502342, 'Pune', 'Laxminagar', 9168801192)\n",
      "(234, 'sagar', 'abc@gmail.com', 2343234, 234, 502342, 'Pune', 'Laxminagar', 9168801192)\n",
      "(234, 'sagar', 'abc@gmail.com', 45423234, 234, 502342, 'Pune', 'Laxminagar', 9168801192)\n",
      "(234, 'sagar', 'abc@gmail.com', 5465, 234, 502342, 'Pune', 'Laxminagar', 9168801192)\n",
      "(234, 'sagar', 'abc@gmail.com', 23234, 234, 502342, 'Pune', 'Laxminagar', 9168801192)\n",
      "(234, 'sagar', 'abc@gmail.com', 23234, 234, 502342, 'Pune', 'Laxminagar', 9168801192)\n",
      "(234, 'sagar', 'abc@gmail.com', 23234, 234, 502342, 'Pune', 'Laxminagar', 9168801192)\n",
      "(234, 'sagar', 'abc@gmail.com', 23234, 234, 502342, 'Pune', 'Laxminagar', 9168801192)\n",
      "(234, 'sagar', 'abc@gmail.com', 23234, 234, 502342, 'Pune', 'Laxminagar', 9168801192)\n",
      "(234, 'sagar', 'abc@gmail.com', 23234, 234, 502342, 'Pune', 'Laxminagar', 9168801192)\n",
      "(234, 'sagar', 'abc@gmail.com', 23234, 234, 502342, 'Pune', 'Laxminagar', 9168801192)\n",
      "(234, 'sagar', 'abc@gmail.com', 23234, 234, 502342, 'Pune', 'Laxminagar', 9168801192)\n",
      "(234, 'sagar', 'abc@gmail.com', 235234, 234, 502342, 'Pune', 'Laxminagar', 9168801192)\n",
      "(234, 'sagar', 'abc@gmail.com', 2334234, 234, 502342, 'Pune', 'Laxminagar', 9168801192)\n",
      "(234, 'sagar', 'abc@gmail.com', 2343234, 234, 502342, 'Pune', 'Laxminagar', 9168801192)\n",
      "(234, 'sagar', 'abc@gmail.com', 45423234, 234, 502342, 'Pune', 'Laxminagar', 9168801192)\n",
      "(234, 'sagar', 'abc@gmail.com', 5465, 234, 502342, 'Pune', 'Laxminagar', 9168801192)\n",
      "(234, 'sagar', 'abc@gmail.com', 23234, 234, 502342, 'Pune', 'Laxminagar', 9168801192)\n",
      "(234, 'sagar', 'abc@gmail.com', 23234, 234, 502342, 'Pune', 'Laxminagar', 9168801192)\n",
      "(234, 'sagar', 'abc@gmail.com', 23234, 234, 502342, 'Pune', 'Laxminagar', 9168801192)\n",
      "(234, 'sagar', 'abc@gmail.com', 23234, 234, 502342, 'Pune', 'Laxminagar', 9168801192)\n",
      "(234, 'sagar', 'abc@gmail.com', 23234, 234, 502342, 'Pune', 'Laxminagar', 9168801192)\n",
      "(234, 'sagar', 'abc@gmail.com', 23234, 234, 502342, 'Pune', 'Laxminagar', 9168801192)\n",
      "(234, 'sagar', 'abc@gmail.com', 23234, 234, 502342, 'Pune', 'Laxminagar', 9168801192)\n",
      "(234, 'sagar', 'abc@gmail.com', 23234, 234, 502342, 'Pune', 'Laxminagar', 9168801192)\n",
      "(234, 'sagar', 'abc@gmail.com', 235234, 234, 502342, 'Pune', 'Laxminagar', 9168801192)\n",
      "(234, 'sagar', 'abc@gmail.com', 2334234, 234, 502342, 'Pune', 'Laxminagar', 9168801192)\n",
      "(234, 'sagar', 'abc@gmail.com', 2343234, 234, 502342, 'Pune', 'Laxminagar', 9168801192)\n",
      "(234, 'sagar', 'abc@gmail.com', 45423234, 234, 502342, 'Pune', 'Laxminagar', 9168801192)\n",
      "(234, 'sagar', 'abc@gmail.com', 5465, 234, 502342, 'Pune', 'Laxminagar', 9168801192)\n",
      "(234, 'sagar', 'abc@gmail.com', 23234, 234, 502342, 'Pune', 'Laxminagar', 9168801192)\n",
      "(234, 'sagar', 'abc@gmail.com', 23234, 234, 502342, 'Pune', 'Laxminagar', 9168801192)\n",
      "(234, 'sagar', 'abc@gmail.com', 23234, 234, 502342, 'Pune', 'Laxminagar', 9168801192)\n",
      "(234, 'sagar', 'abc@gmail.com', 23234, 234, 502342, 'Pune', 'Laxminagar', 9168801192)\n",
      "(234, 'sagar', 'abc@gmail.com', 23234, 234, 502342, 'Pune', 'Laxminagar', 9168801192)\n",
      "(234, 'sagar', 'abc@gmail.com', 23234, 234, 502342, 'Pune', 'Laxminagar', 9168801192)\n",
      "(234, 'sagar', 'abc@gmail.com', 23234, 234, 502342, 'Pune', 'Laxminagar', 9168801192)\n",
      "(234, 'sagar', 'abc@gmail.com', 23234, 234, 502342, 'Pune', 'Laxminagar', 9168801192)\n",
      "(234, 'sagar', 'abc@gmail.com', 235234, 234, 502342, 'Pune', 'Laxminagar', 9168801192)\n",
      "(234, 'sagar', 'abc@gmail.com', 2334234, 234, 502342, 'Pune', 'Laxminagar', 9168801192)\n",
      "(234, 'sagar', 'abc@gmail.com', 2343234, 234, 502342, 'Pune', 'Laxminagar', 9168801192)\n",
      "(234, 'sagar', 'abc@gmail.com', 45423234, 234, 502342, 'Pune', 'Laxminagar', 9168801192)\n",
      "(234, 'sagar', 'abc@gmail.com', 5465, 234, 502342, 'Pune', 'Laxminagar', 9168801192)\n",
      "(234, 'sagar', 'abc@gmail.com', 23234, 234, 502342, 'Pune', 'Laxminagar', 9168801192)\n",
      "(234, 'sagar', 'abc@gmail.com', 23234, 234, 502342, 'Pune', 'Laxminagar', 9168801192)\n",
      "(234, 'sagar', 'abc@gmail.com', 23234, 234, 502342, 'Pune', 'Laxminagar', 9168801192)\n",
      "(234, 'sagar', 'abc@gmail.com', 23234, 234, 502342, 'Pune', 'Laxminagar', 9168801192)\n",
      "(234, 'sagar', 'abc@gmail.com', 23234, 234, 502342, 'Pune', 'Laxminagar', 9168801192)\n",
      "(234, 'sagar', 'abc@gmail.com', 23234, 234, 502342, 'Pune', 'Laxminagar', 9168801192)\n",
      "(234, 'sagar', 'abc@gmail.com', 23234, 234, 502342, 'Pune', 'Laxminagar', 9168801192)\n",
      "(234, 'sagar', 'abc@gmail.com', 23234, 234, 502342, 'Pune', 'Laxminagar', 9168801192)\n",
      "(234, 'sagar', 'abc@gmail.com', 235234, 234, 502342, 'Pune', 'Laxminagar', 9168801192)\n",
      "(234, 'sagar', 'abc@gmail.com', 2334234, 234, 502342, 'Pune', 'Laxminagar', 9168801192)\n",
      "(234, 'sagar', 'abc@gmail.com', 2343234, 234, 502342, 'Pune', 'Laxminagar', 9168801192)\n",
      "(234, 'sagar', 'abc@gmail.com', 45423234, 234, 502342, 'Pune', 'Laxminagar', 9168801192)\n",
      "(234, 'sagar', 'abc@gmail.com', 5465, 234, 502342, 'Pune', 'Laxminagar', 9168801192)\n",
      "(234, 'sagar', 'abc@gmail.com', 23234, 234, 502342, 'Pune', 'Laxminagar', 9168801192)\n",
      "(234, 'sagar', 'abc@gmail.com', 23234, 234, 502342, 'Pune', 'Laxminagar', 9168801192)\n",
      "(234, 'sagar', 'abc@gmail.com', 23234, 234, 502342, 'Pune', 'Laxminagar', 9168801192)\n",
      "(234, 'sagar', 'abc@gmail.com', 23234, 234, 502342, 'Pune', 'Laxminagar', 9168801192)\n",
      "(234, 'sagar', 'abc@gmail.com', 23234, 234, 502342, 'Pune', 'Laxminagar', 9168801192)\n",
      "(234, 'sagar', 'abc@gmail.com', 23234, 234, 502342, 'Pune', 'Laxminagar', 9168801192)\n",
      "(234, 'sagar', 'abc@gmail.com', 23234, 234, 502342, 'Pune', 'Laxminagar', 9168801192)\n",
      "(234, 'sagar', 'abc@gmail.com', 23234, 234, 502342, 'Pune', 'Laxminagar', 9168801192)\n",
      "(234, 'sagar', 'abc@gmail.com', 235234, 234, 502342, 'Pune', 'Laxminagar', 9168801192)\n",
      "(234, 'sagar', 'abc@gmail.com', 2334234, 234, 502342, 'Pune', 'Laxminagar', 9168801192)\n",
      "(234, 'sagar', 'abc@gmail.com', 2343234, 234, 502342, 'Pune', 'Laxminagar', 9168801192)\n",
      "(234, 'sagar', 'abc@gmail.com', 45423234, 234, 502342, 'Pune', 'Laxminagar', 9168801192)\n",
      "(234, 'sagar', 'abc@gmail.com', 5465, 234, 502342, 'Pune', 'Laxminagar', 9168801192)\n",
      "(234, 'sagar', 'abc@gmail.com', 23234, 234, 502342, 'Pune', 'Laxminagar', 9168801192)\n",
      "(234, 'sagar', 'abc@gmail.com', 23234, 234, 502342, 'Pune', 'Laxminagar', 9168801192)\n",
      "(234, 'sagar', 'abc@gmail.com', 23234, 234, 502342, 'Pune', 'Laxminagar', 9168801192)\n",
      "(234, 'sagar', 'abc@gmail.com', 23234, 234, 502342, 'Pune', 'Laxminagar', 9168801192)\n",
      "(234, 'sagar', 'abc@gmail.com', 23234, 234, 502342, 'Pune', 'Laxminagar', 9168801192)\n",
      "(234, 'sagar', 'abc@gmail.com', 23234, 234, 502342, 'Pune', 'Laxminagar', 9168801192)\n",
      "(234, 'sagar', 'abc@gmail.com', 23234, 234, 502342, 'Pune', 'Laxminagar', 9168801192)\n",
      "(234, 'sagar', 'abc@gmail.com', 23234, 234, 502342, 'Pune', 'Laxminagar', 9168801192)\n",
      "(234, 'sagar', 'abc@gmail.com', 235234, 234, 502342, 'Pune', 'Laxminagar', 9168801192)\n",
      "(234, 'sagar', 'abc@gmail.com', 2334234, 234, 502342, 'Pune', 'Laxminagar', 9168801192)\n",
      "(234, 'sagar', 'abc@gmail.com', 2343234, 234, 502342, 'Pune', 'Laxminagar', 9168801192)\n",
      "(234, 'sagar', 'abc@gmail.com', 45423234, 234, 502342, 'Pune', 'Laxminagar', 9168801192)\n",
      "(234, 'sagar', 'abc@gmail.com', 5465, 234, 502342, 'Pune', 'Laxminagar', 9168801192)\n",
      "(234, 'sagar', 'abc@gmail.com', 23234, 234, 502342, 'Pune', 'Laxminagar', 9168801192)\n",
      "(234, 'sagar', 'abc@gmail.com', 23234, 234, 502342, 'Pune', 'Laxminagar', 9168801192)\n",
      "(234, 'sagar', 'abc@gmail.com', 23234, 234, 502342, 'Pune', 'Laxminagar', 9168801192)\n",
      "(234, 'sagar', 'abc@gmail.com', 23234, 234, 502342, 'Pune', 'Laxminagar', 9168801192)\n",
      "(234, 'sagar', 'abc@gmail.com', 23234, 234, 502342, 'Pune', 'Laxminagar', 9168801192)\n",
      "(234, 'sagar', 'abc@gmail.com', 23234, 234, 502342, 'Pune', 'Laxminagar', 9168801192)\n",
      "(234, 'sagar', 'abc@gmail.com', 23234, 234, 502342, 'Pune', 'Laxminagar', 9168801192)\n",
      "(234, 'sagar', 'abc@gmail.com', 23234, 234, 502342, 'Pune', 'Laxminagar', 9168801192)\n",
      "(234, 'sagar', 'abc@gmail.com', 235234, 234, 502342, 'Pune', 'Laxminagar', 9168801192)\n",
      "(234, 'sagar', 'abc@gmail.com', 2334234, 234, 502342, 'Pune', 'Laxminagar', 9168801192)\n",
      "(234, 'sagar', 'abc@gmail.com', 2343234, 234, 502342, 'Pune', 'Laxminagar', 9168801192)\n",
      "(234, 'sagar', 'abc@gmail.com', 45423234, 234, 502342, 'Pune', 'Laxminagar', 9168801192)\n",
      "(234, 'sagar', 'abc@gmail.com', 5465, 234, 502342, 'Pune', 'Laxminagar', 9168801192)\n",
      "(234, 'sagar', 'abc@gmail.com', 23234, 234, 502342, 'Pune', 'Laxminagar', 9168801192)\n",
      "(234, 'sagar', 'abc@gmail.com', 23234, 234, 502342, 'Pune', 'Laxminagar', 9168801192)\n",
      "(234, 'sagar', 'abc@gmail.com', 23234, 234, 502342, 'Pune', 'Laxminagar', 9168801192)\n",
      "(234, 'sagar', 'abc@gmail.com', 23234, 234, 502342, 'Pune', 'Laxminagar', 9168801192)\n",
      "(234, 'sagar', 'abc@gmail.com', 23234, 234, 502342, 'Pune', 'Laxminagar', 9168801192)\n",
      "(234, 'sagar', 'abc@gmail.com', 23234, 234, 502342, 'Pune', 'Laxminagar', 9168801192)\n",
      "(234, 'sagar', 'abc@gmail.com', 23234, 234, 502342, 'Pune', 'Laxminagar', 9168801192)\n",
      "(234, 'sagar', 'abc@gmail.com', 23234, 234, 502342, 'Pune', 'Laxminagar', 9168801192)\n",
      "(234, 'sagar', 'abc@gmail.com', 235234, 234, 502342, 'Pune', 'Laxminagar', 9168801192)\n",
      "(234, 'sagar', 'abc@gmail.com', 2334234, 234, 502342, 'Pune', 'Laxminagar', 9168801192)\n",
      "(234, 'sagar', 'abc@gmail.com', 2343234, 234, 502342, 'Pune', 'Laxminagar', 9168801192)\n",
      "(234, 'sagar', 'abc@gmail.com', 45423234, 234, 502342, 'Pune', 'Laxminagar', 9168801192)\n",
      "(234, 'sagar', 'abc@gmail.com', 5465, 234, 502342, 'Pune', 'Laxminagar', 9168801192)\n",
      "(234, 'sagar', 'abc@gmail.com', 23234, 234, 502342, 'Pune', 'Laxminagar', 9168801192)\n",
      "(234, 'sagar', 'abc@gmail.com', 23234, 234, 502342, 'Pune', 'Laxminagar', 9168801192)\n",
      "(234, 'sagar', 'abc@gmail.com', 23234, 234, 502342, 'Pune', 'Laxminagar', 9168801192)\n",
      "(234, 'sagar', 'abc@gmail.com', 23234, 234, 502342, 'Pune', 'Laxminagar', 9168801192)\n",
      "(234, 'sagar', 'abc@gmail.com', 23234, 234, 502342, 'Pune', 'Laxminagar', 9168801192)\n",
      "(234, 'sagar', 'abc@gmail.com', 23234, 234, 502342, 'Pune', 'Laxminagar', 9168801192)\n",
      "(234, 'sagar', 'abc@gmail.com', 23234, 234, 502342, 'Pune', 'Laxminagar', 9168801192)\n",
      "(234, 'sagar', 'abc@gmail.com', 23234, 234, 502342, 'Pune', 'Laxminagar', 9168801192)\n",
      "(234, 'sagar', 'abc@gmail.com', 235234, 234, 502342, 'Pune', 'Laxminagar', 9168801192)\n",
      "(234, 'sagar', 'abc@gmail.com', 2334234, 234, 502342, 'Pune', 'Laxminagar', 9168801192)\n",
      "(234, 'sagar', 'abc@gmail.com', 2343234, 234, 502342, 'Pune', 'Laxminagar', 9168801192)\n",
      "(234, 'sagar', 'abc@gmail.com', 45423234, 234, 502342, 'Pune', 'Laxminagar', 9168801192)\n",
      "(234, 'sagar', 'abc@gmail.com', 5465, 234, 502342, 'Pune', 'Laxminagar', 9168801192)\n",
      "(234, 'sagar', 'abc@gmail.com', 23234, 234, 502342, 'Pune', 'Laxminagar', 9168801192)\n",
      "(234, 'sagar', 'abc@gmail.com', 23234, 234, 502342, 'Pune', 'Laxminagar', 9168801192)\n",
      "(234, 'sagar', 'abc@gmail.com', 23234, 234, 502342, 'Pune', 'Laxminagar', 9168801192)\n",
      "(234, 'sagar', 'abc@gmail.com', 23234, 234, 502342, 'Pune', 'Laxminagar', 9168801192)\n",
      "(234, 'sagar', 'abc@gmail.com', 23234, 234, 502342, 'Pune', 'Laxminagar', 9168801192)\n",
      "(234, 'sagar', 'abc@gmail.com', 23234, 234, 502342, 'Pune', 'Laxminagar', 9168801192)\n",
      "(234, 'sagar', 'abc@gmail.com', 23234, 234, 502342, 'Pune', 'Laxminagar', 9168801192)\n",
      "(234, 'sagar', 'abc@gmail.com', 23234, 234, 502342, 'Pune', 'Laxminagar', 9168801192)\n",
      "(234, 'sagar', 'abc@gmail.com', 235234, 234, 502342, 'Pune', 'Laxminagar', 9168801192)\n",
      "(234, 'sagar', 'abc@gmail.com', 2334234, 234, 502342, 'Pune', 'Laxminagar', 9168801192)\n",
      "(234, 'sagar', 'abc@gmail.com', 2343234, 234, 502342, 'Pune', 'Laxminagar', 9168801192)\n",
      "(234, 'sagar', 'abc@gmail.com', 45423234, 234, 502342, 'Pune', 'Laxminagar', 9168801192)\n",
      "(234, 'sagar', 'abc@gmail.com', 5465, 234, 502342, 'Pune', 'Laxminagar', 9168801192)\n",
      "(234, 'sagar', 'abc@gmail.com', 23234, 234, 502342, 'Pune', 'Laxminagar', 9168801192)\n",
      "(234, 'sagar', 'abc@gmail.com', 23234, 234, 502342, 'Pune', 'Laxminagar', 9168801192)\n",
      "(234, 'sagar', 'abc@gmail.com', 23234, 234, 502342, 'Pune', 'Laxminagar', 9168801192)\n",
      "(234, 'sagar', 'abc@gmail.com', 23234, 234, 502342, 'Pune', 'Laxminagar', 9168801192)\n",
      "(234, 'sagar', 'abc@gmail.com', 23234, 234, 502342, 'Pune', 'Laxminagar', 9168801192)\n",
      "(234, 'sagar', 'abc@gmail.com', 23234, 234, 502342, 'Pune', 'Laxminagar', 9168801192)\n",
      "(234, 'sagar', 'abc@gmail.com', 23234, 234, 502342, 'Pune', 'Laxminagar', 9168801192)\n",
      "(234, 'sagar', 'abc@gmail.com', 23234, 234, 502342, 'Pune', 'Laxminagar', 9168801192)\n",
      "(234, 'sagar', 'abc@gmail.com', 235234, 234, 502342, 'Pune', 'Laxminagar', 9168801192)\n",
      "(234, 'sagar', 'abc@gmail.com', 2334234, 234, 502342, 'Pune', 'Laxminagar', 9168801192)\n",
      "(234, 'sagar', 'abc@gmail.com', 2343234, 234, 502342, 'Pune', 'Laxminagar', 9168801192)\n",
      "(234, 'sagar', 'abc@gmail.com', 45423234, 234, 502342, 'Pune', 'Laxminagar', 9168801192)\n",
      "(234, 'sagar', 'abc@gmail.com', 5465, 234, 502342, 'Pune', 'Laxminagar', 9168801192)\n",
      "(234, 'sagar', 'abc@gmail.com', 23234, 234, 502342, 'Pune', 'Laxminagar', 9168801192)\n",
      "(234, 'sagar', 'abc@gmail.com', 23234, 234, 502342, 'Pune', 'Laxminagar', 9168801192)\n",
      "(234, 'sagar', 'abc@gmail.com', 23234, 234, 502342, 'Pune', 'Laxminagar', 9168801192)\n",
      "(234, 'sagar', 'abc@gmail.com', 23234, 234, 502342, 'Pune', 'Laxminagar', 9168801192)\n",
      "(234, 'sagar', 'abc@gmail.com', 23234, 234, 502342, 'Pune', 'Laxminagar', 9168801192)\n",
      "(234, 'sagar', 'abc@gmail.com', 23234, 234, 502342, 'Pune', 'Laxminagar', 9168801192)\n",
      "(234, 'sagar', 'abc@gmail.com', 23234, 234, 502342, 'Pune', 'Laxminagar', 9168801192)\n",
      "(234, 'sagar', 'abc@gmail.com', 23234, 234, 502342, 'Pune', 'Laxminagar', 9168801192)\n",
      "(234, 'sagar', 'abc@gmail.com', 235234, 234, 502342, 'Pune', 'Laxminagar', 9168801192)\n",
      "(234, 'sagar', 'abc@gmail.com', 2334234, 234, 502342, 'Pune', 'Laxminagar', 9168801192)\n",
      "(234, 'sagar', 'abc@gmail.com', 2343234, 234, 502342, 'Pune', 'Laxminagar', 9168801192)\n",
      "(234, 'sagar', 'abc@gmail.com', 45423234, 234, 502342, 'Pune', 'Laxminagar', 9168801192)\n",
      "(234, 'sagar', 'abc@gmail.com', 5465, 234, 502342, 'Pune', 'Laxminagar', 9168801192)\n",
      "(234, 'sagar', 'abc@gmail.com', 23234, 234, 502342, 'Pune', 'Laxminagar', 9168801192)\n",
      "(234, 'sagar', 'abc@gmail.com', 23234, 234, 502342, 'Pune', 'Laxminagar', 9168801192)\n",
      "(234, 'sagar', 'abc@gmail.com', 23234, 234, 502342, 'Pune', 'Laxminagar', 9168801192)\n",
      "(234, 'sagar', 'abc@gmail.com', 23234, 234, 502342, 'Pune', 'Laxminagar', 9168801192)\n",
      "(234, 'sagar', 'abc@gmail.com', 23234, 234, 502342, 'Pune', 'Laxminagar', 9168801192)\n",
      "(234, 'sagar', 'abc@gmail.com', 23234, 234, 502342, 'Pune', 'Laxminagar', 9168801192)\n",
      "(234, 'sagar', 'abc@gmail.com', 23234, 234, 502342, 'Pune', 'Laxminagar', 9168801192)\n",
      "(234, 'sagar', 'abc@gmail.com', 23234, 234, 502342, 'Pune', 'Laxminagar', 9168801192)\n",
      "(234, 'sagar', 'abc@gmail.com', 235234, 234, 502342, 'Pune', 'Laxminagar', 9168801192)\n",
      "(234, 'sagar', 'abc@gmail.com', 2334234, 234, 502342, 'Pune', 'Laxminagar', 9168801192)\n",
      "(234, 'sagar', 'abc@gmail.com', 2343234, 234, 502342, 'Pune', 'Laxminagar', 9168801192)\n",
      "(234, 'sagar', 'abc@gmail.com', 45423234, 234, 502342, 'Pune', 'Laxminagar', 9168801192)\n",
      "(234, 'sagar', 'abc@gmail.com', 5465, 234, 502342, 'Pune', 'Laxminagar', 9168801192)\n",
      "(234, 'sagar', 'abc@gmail.com', 23234, 234, 502342, 'Pune', 'Laxminagar', 9168801192)\n",
      "(234, 'sagar', 'abc@gmail.com', 23234, 234, 502342, 'Pune', 'Laxminagar', 9168801192)\n",
      "(234, 'sagar', 'abc@gmail.com', 23234, 234, 502342, 'Pune', 'Laxminagar', 9168801192)\n",
      "(234, 'sagar', 'abc@gmail.com', 23234, 234, 502342, 'Pune', 'Laxminagar', 9168801192)\n",
      "(234, 'sagar', 'abc@gmail.com', 23234, 234, 502342, 'Pune', 'Laxminagar', 9168801192)\n",
      "(234, 'sagar', 'abc@gmail.com', 23234, 234, 502342, 'Pune', 'Laxminagar', 9168801192)\n",
      "(234, 'sagar', 'abc@gmail.com', 23234, 234, 502342, 'Pune', 'Laxminagar', 9168801192)\n",
      "(234, 'sagar', 'abc@gmail.com', 23234, 234, 502342, 'Pune', 'Laxminagar', 9168801192)\n",
      "(234, 'sagar', 'abc@gmail.com', 235234, 234, 502342, 'Pune', 'Laxminagar', 9168801192)\n",
      "(234, 'sagar', 'abc@gmail.com', 2334234, 234, 502342, 'Pune', 'Laxminagar', 9168801192)\n",
      "(234, 'sagar', 'abc@gmail.com', 2343234, 234, 502342, 'Pune', 'Laxminagar', 9168801192)\n",
      "(234, 'sagar', 'abc@gmail.com', 45423234, 234, 502342, 'Pune', 'Laxminagar', 9168801192)\n"
     ]
    }
   ],
   "source": [
    "for i in data2:\n",
    "    print(i)"
   ]
  },
  {
   "cell_type": "code",
   "execution_count": 128,
   "id": "9d563d1b-6557-42ba-93f2-c3524392657b",
   "metadata": {},
   "outputs": [],
   "source": [
    "data2 = c.execute('select * from address a left join student s on s.student_id = a.student_id where a.student_id is not null')"
   ]
  },
  {
   "cell_type": "code",
   "execution_count": 129,
   "id": "52e21c3b-403b-4d48-a200-44e7b0b1cc34",
   "metadata": {},
   "outputs": [
    {
     "name": "stdout",
     "output_type": "stream",
     "text": [
      "(234, 502342, 'Pune', 'Laxminagar', 9168801192, 234, 'sagar', 'abc@gmail.com', 5465)\n",
      "(234, 502342, 'Pune', 'Laxminagar', 9168801192, 234, 'sagar', 'abc@gmail.com', 23234)\n",
      "(234, 502342, 'Pune', 'Laxminagar', 9168801192, 234, 'sagar', 'abc@gmail.com', 23234)\n",
      "(234, 502342, 'Pune', 'Laxminagar', 9168801192, 234, 'sagar', 'abc@gmail.com', 23234)\n",
      "(234, 502342, 'Pune', 'Laxminagar', 9168801192, 234, 'sagar', 'abc@gmail.com', 23234)\n",
      "(234, 502342, 'Pune', 'Laxminagar', 9168801192, 234, 'sagar', 'abc@gmail.com', 23234)\n",
      "(234, 502342, 'Pune', 'Laxminagar', 9168801192, 234, 'sagar', 'abc@gmail.com', 23234)\n",
      "(234, 502342, 'Pune', 'Laxminagar', 9168801192, 234, 'sagar', 'abc@gmail.com', 23234)\n",
      "(234, 502342, 'Pune', 'Laxminagar', 9168801192, 234, 'sagar', 'abc@gmail.com', 23234)\n",
      "(234, 502342, 'Pune', 'Laxminagar', 9168801192, 234, 'sagar', 'abc@gmail.com', 235234)\n",
      "(234, 502342, 'Pune', 'Laxminagar', 9168801192, 234, 'sagar', 'abc@gmail.com', 2334234)\n",
      "(234, 502342, 'Pune', 'Laxminagar', 9168801192, 234, 'sagar', 'abc@gmail.com', 2343234)\n",
      "(234, 502342, 'Pune', 'Laxminagar', 9168801192, 234, 'sagar', 'abc@gmail.com', 45423234)\n",
      "(234, 502342, 'Pune', 'Laxminagar', 9168801192, 234, 'sagar', 'abc@gmail.com', 5465)\n",
      "(234, 502342, 'Pune', 'Laxminagar', 9168801192, 234, 'sagar', 'abc@gmail.com', 23234)\n",
      "(234, 502342, 'Pune', 'Laxminagar', 9168801192, 234, 'sagar', 'abc@gmail.com', 23234)\n",
      "(234, 502342, 'Pune', 'Laxminagar', 9168801192, 234, 'sagar', 'abc@gmail.com', 23234)\n",
      "(234, 502342, 'Pune', 'Laxminagar', 9168801192, 234, 'sagar', 'abc@gmail.com', 23234)\n",
      "(234, 502342, 'Pune', 'Laxminagar', 9168801192, 234, 'sagar', 'abc@gmail.com', 23234)\n",
      "(234, 502342, 'Pune', 'Laxminagar', 9168801192, 234, 'sagar', 'abc@gmail.com', 23234)\n",
      "(234, 502342, 'Pune', 'Laxminagar', 9168801192, 234, 'sagar', 'abc@gmail.com', 23234)\n",
      "(234, 502342, 'Pune', 'Laxminagar', 9168801192, 234, 'sagar', 'abc@gmail.com', 23234)\n",
      "(234, 502342, 'Pune', 'Laxminagar', 9168801192, 234, 'sagar', 'abc@gmail.com', 235234)\n",
      "(234, 502342, 'Pune', 'Laxminagar', 9168801192, 234, 'sagar', 'abc@gmail.com', 2334234)\n",
      "(234, 502342, 'Pune', 'Laxminagar', 9168801192, 234, 'sagar', 'abc@gmail.com', 2343234)\n",
      "(234, 502342, 'Pune', 'Laxminagar', 9168801192, 234, 'sagar', 'abc@gmail.com', 45423234)\n",
      "(234, 502342, 'Pune', 'Laxminagar', 9168801192, 234, 'sagar', 'abc@gmail.com', 5465)\n",
      "(234, 502342, 'Pune', 'Laxminagar', 9168801192, 234, 'sagar', 'abc@gmail.com', 23234)\n",
      "(234, 502342, 'Pune', 'Laxminagar', 9168801192, 234, 'sagar', 'abc@gmail.com', 23234)\n",
      "(234, 502342, 'Pune', 'Laxminagar', 9168801192, 234, 'sagar', 'abc@gmail.com', 23234)\n",
      "(234, 502342, 'Pune', 'Laxminagar', 9168801192, 234, 'sagar', 'abc@gmail.com', 23234)\n",
      "(234, 502342, 'Pune', 'Laxminagar', 9168801192, 234, 'sagar', 'abc@gmail.com', 23234)\n",
      "(234, 502342, 'Pune', 'Laxminagar', 9168801192, 234, 'sagar', 'abc@gmail.com', 23234)\n",
      "(234, 502342, 'Pune', 'Laxminagar', 9168801192, 234, 'sagar', 'abc@gmail.com', 23234)\n",
      "(234, 502342, 'Pune', 'Laxminagar', 9168801192, 234, 'sagar', 'abc@gmail.com', 23234)\n",
      "(234, 502342, 'Pune', 'Laxminagar', 9168801192, 234, 'sagar', 'abc@gmail.com', 235234)\n",
      "(234, 502342, 'Pune', 'Laxminagar', 9168801192, 234, 'sagar', 'abc@gmail.com', 2334234)\n",
      "(234, 502342, 'Pune', 'Laxminagar', 9168801192, 234, 'sagar', 'abc@gmail.com', 2343234)\n",
      "(234, 502342, 'Pune', 'Laxminagar', 9168801192, 234, 'sagar', 'abc@gmail.com', 45423234)\n",
      "(234, 502342, 'Pune', 'Laxminagar', 9168801192, 234, 'sagar', 'abc@gmail.com', 5465)\n",
      "(234, 502342, 'Pune', 'Laxminagar', 9168801192, 234, 'sagar', 'abc@gmail.com', 23234)\n",
      "(234, 502342, 'Pune', 'Laxminagar', 9168801192, 234, 'sagar', 'abc@gmail.com', 23234)\n",
      "(234, 502342, 'Pune', 'Laxminagar', 9168801192, 234, 'sagar', 'abc@gmail.com', 23234)\n",
      "(234, 502342, 'Pune', 'Laxminagar', 9168801192, 234, 'sagar', 'abc@gmail.com', 23234)\n",
      "(234, 502342, 'Pune', 'Laxminagar', 9168801192, 234, 'sagar', 'abc@gmail.com', 23234)\n",
      "(234, 502342, 'Pune', 'Laxminagar', 9168801192, 234, 'sagar', 'abc@gmail.com', 23234)\n",
      "(234, 502342, 'Pune', 'Laxminagar', 9168801192, 234, 'sagar', 'abc@gmail.com', 23234)\n",
      "(234, 502342, 'Pune', 'Laxminagar', 9168801192, 234, 'sagar', 'abc@gmail.com', 23234)\n",
      "(234, 502342, 'Pune', 'Laxminagar', 9168801192, 234, 'sagar', 'abc@gmail.com', 235234)\n",
      "(234, 502342, 'Pune', 'Laxminagar', 9168801192, 234, 'sagar', 'abc@gmail.com', 2334234)\n",
      "(234, 502342, 'Pune', 'Laxminagar', 9168801192, 234, 'sagar', 'abc@gmail.com', 2343234)\n",
      "(234, 502342, 'Pune', 'Laxminagar', 9168801192, 234, 'sagar', 'abc@gmail.com', 45423234)\n",
      "(234, 502342, 'Pune', 'Laxminagar', 9168801192, 234, 'sagar', 'abc@gmail.com', 5465)\n",
      "(234, 502342, 'Pune', 'Laxminagar', 9168801192, 234, 'sagar', 'abc@gmail.com', 23234)\n",
      "(234, 502342, 'Pune', 'Laxminagar', 9168801192, 234, 'sagar', 'abc@gmail.com', 23234)\n",
      "(234, 502342, 'Pune', 'Laxminagar', 9168801192, 234, 'sagar', 'abc@gmail.com', 23234)\n",
      "(234, 502342, 'Pune', 'Laxminagar', 9168801192, 234, 'sagar', 'abc@gmail.com', 23234)\n",
      "(234, 502342, 'Pune', 'Laxminagar', 9168801192, 234, 'sagar', 'abc@gmail.com', 23234)\n",
      "(234, 502342, 'Pune', 'Laxminagar', 9168801192, 234, 'sagar', 'abc@gmail.com', 23234)\n",
      "(234, 502342, 'Pune', 'Laxminagar', 9168801192, 234, 'sagar', 'abc@gmail.com', 23234)\n",
      "(234, 502342, 'Pune', 'Laxminagar', 9168801192, 234, 'sagar', 'abc@gmail.com', 23234)\n",
      "(234, 502342, 'Pune', 'Laxminagar', 9168801192, 234, 'sagar', 'abc@gmail.com', 235234)\n",
      "(234, 502342, 'Pune', 'Laxminagar', 9168801192, 234, 'sagar', 'abc@gmail.com', 2334234)\n",
      "(234, 502342, 'Pune', 'Laxminagar', 9168801192, 234, 'sagar', 'abc@gmail.com', 2343234)\n",
      "(234, 502342, 'Pune', 'Laxminagar', 9168801192, 234, 'sagar', 'abc@gmail.com', 45423234)\n",
      "(234, 502342, 'Pune', 'Laxminagar', 9168801192, 234, 'sagar', 'abc@gmail.com', 5465)\n",
      "(234, 502342, 'Pune', 'Laxminagar', 9168801192, 234, 'sagar', 'abc@gmail.com', 23234)\n",
      "(234, 502342, 'Pune', 'Laxminagar', 9168801192, 234, 'sagar', 'abc@gmail.com', 23234)\n",
      "(234, 502342, 'Pune', 'Laxminagar', 9168801192, 234, 'sagar', 'abc@gmail.com', 23234)\n",
      "(234, 502342, 'Pune', 'Laxminagar', 9168801192, 234, 'sagar', 'abc@gmail.com', 23234)\n",
      "(234, 502342, 'Pune', 'Laxminagar', 9168801192, 234, 'sagar', 'abc@gmail.com', 23234)\n",
      "(234, 502342, 'Pune', 'Laxminagar', 9168801192, 234, 'sagar', 'abc@gmail.com', 23234)\n",
      "(234, 502342, 'Pune', 'Laxminagar', 9168801192, 234, 'sagar', 'abc@gmail.com', 23234)\n",
      "(234, 502342, 'Pune', 'Laxminagar', 9168801192, 234, 'sagar', 'abc@gmail.com', 23234)\n",
      "(234, 502342, 'Pune', 'Laxminagar', 9168801192, 234, 'sagar', 'abc@gmail.com', 235234)\n",
      "(234, 502342, 'Pune', 'Laxminagar', 9168801192, 234, 'sagar', 'abc@gmail.com', 2334234)\n",
      "(234, 502342, 'Pune', 'Laxminagar', 9168801192, 234, 'sagar', 'abc@gmail.com', 2343234)\n",
      "(234, 502342, 'Pune', 'Laxminagar', 9168801192, 234, 'sagar', 'abc@gmail.com', 45423234)\n",
      "(234, 502342, 'Pune', 'Laxminagar', 9168801192, 234, 'sagar', 'abc@gmail.com', 5465)\n",
      "(234, 502342, 'Pune', 'Laxminagar', 9168801192, 234, 'sagar', 'abc@gmail.com', 23234)\n",
      "(234, 502342, 'Pune', 'Laxminagar', 9168801192, 234, 'sagar', 'abc@gmail.com', 23234)\n",
      "(234, 502342, 'Pune', 'Laxminagar', 9168801192, 234, 'sagar', 'abc@gmail.com', 23234)\n",
      "(234, 502342, 'Pune', 'Laxminagar', 9168801192, 234, 'sagar', 'abc@gmail.com', 23234)\n",
      "(234, 502342, 'Pune', 'Laxminagar', 9168801192, 234, 'sagar', 'abc@gmail.com', 23234)\n",
      "(234, 502342, 'Pune', 'Laxminagar', 9168801192, 234, 'sagar', 'abc@gmail.com', 23234)\n",
      "(234, 502342, 'Pune', 'Laxminagar', 9168801192, 234, 'sagar', 'abc@gmail.com', 23234)\n",
      "(234, 502342, 'Pune', 'Laxminagar', 9168801192, 234, 'sagar', 'abc@gmail.com', 23234)\n",
      "(234, 502342, 'Pune', 'Laxminagar', 9168801192, 234, 'sagar', 'abc@gmail.com', 235234)\n",
      "(234, 502342, 'Pune', 'Laxminagar', 9168801192, 234, 'sagar', 'abc@gmail.com', 2334234)\n",
      "(234, 502342, 'Pune', 'Laxminagar', 9168801192, 234, 'sagar', 'abc@gmail.com', 2343234)\n",
      "(234, 502342, 'Pune', 'Laxminagar', 9168801192, 234, 'sagar', 'abc@gmail.com', 45423234)\n",
      "(234, 502342, 'Pune', 'Laxminagar', 9168801192, 234, 'sagar', 'abc@gmail.com', 5465)\n",
      "(234, 502342, 'Pune', 'Laxminagar', 9168801192, 234, 'sagar', 'abc@gmail.com', 23234)\n",
      "(234, 502342, 'Pune', 'Laxminagar', 9168801192, 234, 'sagar', 'abc@gmail.com', 23234)\n",
      "(234, 502342, 'Pune', 'Laxminagar', 9168801192, 234, 'sagar', 'abc@gmail.com', 23234)\n",
      "(234, 502342, 'Pune', 'Laxminagar', 9168801192, 234, 'sagar', 'abc@gmail.com', 23234)\n",
      "(234, 502342, 'Pune', 'Laxminagar', 9168801192, 234, 'sagar', 'abc@gmail.com', 23234)\n",
      "(234, 502342, 'Pune', 'Laxminagar', 9168801192, 234, 'sagar', 'abc@gmail.com', 23234)\n",
      "(234, 502342, 'Pune', 'Laxminagar', 9168801192, 234, 'sagar', 'abc@gmail.com', 23234)\n",
      "(234, 502342, 'Pune', 'Laxminagar', 9168801192, 234, 'sagar', 'abc@gmail.com', 23234)\n",
      "(234, 502342, 'Pune', 'Laxminagar', 9168801192, 234, 'sagar', 'abc@gmail.com', 235234)\n",
      "(234, 502342, 'Pune', 'Laxminagar', 9168801192, 234, 'sagar', 'abc@gmail.com', 2334234)\n",
      "(234, 502342, 'Pune', 'Laxminagar', 9168801192, 234, 'sagar', 'abc@gmail.com', 2343234)\n",
      "(234, 502342, 'Pune', 'Laxminagar', 9168801192, 234, 'sagar', 'abc@gmail.com', 45423234)\n",
      "(234, 502342, 'Pune', 'Laxminagar', 9168801192, 234, 'sagar', 'abc@gmail.com', 5465)\n",
      "(234, 502342, 'Pune', 'Laxminagar', 9168801192, 234, 'sagar', 'abc@gmail.com', 23234)\n",
      "(234, 502342, 'Pune', 'Laxminagar', 9168801192, 234, 'sagar', 'abc@gmail.com', 23234)\n",
      "(234, 502342, 'Pune', 'Laxminagar', 9168801192, 234, 'sagar', 'abc@gmail.com', 23234)\n",
      "(234, 502342, 'Pune', 'Laxminagar', 9168801192, 234, 'sagar', 'abc@gmail.com', 23234)\n",
      "(234, 502342, 'Pune', 'Laxminagar', 9168801192, 234, 'sagar', 'abc@gmail.com', 23234)\n",
      "(234, 502342, 'Pune', 'Laxminagar', 9168801192, 234, 'sagar', 'abc@gmail.com', 23234)\n",
      "(234, 502342, 'Pune', 'Laxminagar', 9168801192, 234, 'sagar', 'abc@gmail.com', 23234)\n",
      "(234, 502342, 'Pune', 'Laxminagar', 9168801192, 234, 'sagar', 'abc@gmail.com', 23234)\n",
      "(234, 502342, 'Pune', 'Laxminagar', 9168801192, 234, 'sagar', 'abc@gmail.com', 235234)\n",
      "(234, 502342, 'Pune', 'Laxminagar', 9168801192, 234, 'sagar', 'abc@gmail.com', 2334234)\n",
      "(234, 502342, 'Pune', 'Laxminagar', 9168801192, 234, 'sagar', 'abc@gmail.com', 2343234)\n",
      "(234, 502342, 'Pune', 'Laxminagar', 9168801192, 234, 'sagar', 'abc@gmail.com', 45423234)\n",
      "(234, 502342, 'Pune', 'Laxminagar', 9168801192, 234, 'sagar', 'abc@gmail.com', 5465)\n",
      "(234, 502342, 'Pune', 'Laxminagar', 9168801192, 234, 'sagar', 'abc@gmail.com', 23234)\n",
      "(234, 502342, 'Pune', 'Laxminagar', 9168801192, 234, 'sagar', 'abc@gmail.com', 23234)\n",
      "(234, 502342, 'Pune', 'Laxminagar', 9168801192, 234, 'sagar', 'abc@gmail.com', 23234)\n",
      "(234, 502342, 'Pune', 'Laxminagar', 9168801192, 234, 'sagar', 'abc@gmail.com', 23234)\n",
      "(234, 502342, 'Pune', 'Laxminagar', 9168801192, 234, 'sagar', 'abc@gmail.com', 23234)\n",
      "(234, 502342, 'Pune', 'Laxminagar', 9168801192, 234, 'sagar', 'abc@gmail.com', 23234)\n",
      "(234, 502342, 'Pune', 'Laxminagar', 9168801192, 234, 'sagar', 'abc@gmail.com', 23234)\n",
      "(234, 502342, 'Pune', 'Laxminagar', 9168801192, 234, 'sagar', 'abc@gmail.com', 23234)\n",
      "(234, 502342, 'Pune', 'Laxminagar', 9168801192, 234, 'sagar', 'abc@gmail.com', 235234)\n",
      "(234, 502342, 'Pune', 'Laxminagar', 9168801192, 234, 'sagar', 'abc@gmail.com', 2334234)\n",
      "(234, 502342, 'Pune', 'Laxminagar', 9168801192, 234, 'sagar', 'abc@gmail.com', 2343234)\n",
      "(234, 502342, 'Pune', 'Laxminagar', 9168801192, 234, 'sagar', 'abc@gmail.com', 45423234)\n",
      "(234, 502342, 'Pune', 'Laxminagar', 9168801192, 234, 'sagar', 'abc@gmail.com', 5465)\n",
      "(234, 502342, 'Pune', 'Laxminagar', 9168801192, 234, 'sagar', 'abc@gmail.com', 23234)\n",
      "(234, 502342, 'Pune', 'Laxminagar', 9168801192, 234, 'sagar', 'abc@gmail.com', 23234)\n",
      "(234, 502342, 'Pune', 'Laxminagar', 9168801192, 234, 'sagar', 'abc@gmail.com', 23234)\n",
      "(234, 502342, 'Pune', 'Laxminagar', 9168801192, 234, 'sagar', 'abc@gmail.com', 23234)\n",
      "(234, 502342, 'Pune', 'Laxminagar', 9168801192, 234, 'sagar', 'abc@gmail.com', 23234)\n",
      "(234, 502342, 'Pune', 'Laxminagar', 9168801192, 234, 'sagar', 'abc@gmail.com', 23234)\n",
      "(234, 502342, 'Pune', 'Laxminagar', 9168801192, 234, 'sagar', 'abc@gmail.com', 23234)\n",
      "(234, 502342, 'Pune', 'Laxminagar', 9168801192, 234, 'sagar', 'abc@gmail.com', 23234)\n",
      "(234, 502342, 'Pune', 'Laxminagar', 9168801192, 234, 'sagar', 'abc@gmail.com', 235234)\n",
      "(234, 502342, 'Pune', 'Laxminagar', 9168801192, 234, 'sagar', 'abc@gmail.com', 2334234)\n",
      "(234, 502342, 'Pune', 'Laxminagar', 9168801192, 234, 'sagar', 'abc@gmail.com', 2343234)\n",
      "(234, 502342, 'Pune', 'Laxminagar', 9168801192, 234, 'sagar', 'abc@gmail.com', 45423234)\n",
      "(234, 502342, 'Pune', 'Laxminagar', 9168801192, 234, 'sagar', 'abc@gmail.com', 5465)\n",
      "(234, 502342, 'Pune', 'Laxminagar', 9168801192, 234, 'sagar', 'abc@gmail.com', 23234)\n",
      "(234, 502342, 'Pune', 'Laxminagar', 9168801192, 234, 'sagar', 'abc@gmail.com', 23234)\n",
      "(234, 502342, 'Pune', 'Laxminagar', 9168801192, 234, 'sagar', 'abc@gmail.com', 23234)\n",
      "(234, 502342, 'Pune', 'Laxminagar', 9168801192, 234, 'sagar', 'abc@gmail.com', 23234)\n",
      "(234, 502342, 'Pune', 'Laxminagar', 9168801192, 234, 'sagar', 'abc@gmail.com', 23234)\n",
      "(234, 502342, 'Pune', 'Laxminagar', 9168801192, 234, 'sagar', 'abc@gmail.com', 23234)\n",
      "(234, 502342, 'Pune', 'Laxminagar', 9168801192, 234, 'sagar', 'abc@gmail.com', 23234)\n",
      "(234, 502342, 'Pune', 'Laxminagar', 9168801192, 234, 'sagar', 'abc@gmail.com', 23234)\n",
      "(234, 502342, 'Pune', 'Laxminagar', 9168801192, 234, 'sagar', 'abc@gmail.com', 235234)\n",
      "(234, 502342, 'Pune', 'Laxminagar', 9168801192, 234, 'sagar', 'abc@gmail.com', 2334234)\n",
      "(234, 502342, 'Pune', 'Laxminagar', 9168801192, 234, 'sagar', 'abc@gmail.com', 2343234)\n",
      "(234, 502342, 'Pune', 'Laxminagar', 9168801192, 234, 'sagar', 'abc@gmail.com', 45423234)\n",
      "(234, 502342, 'Pune', 'Laxminagar', 9168801192, 234, 'sagar', 'abc@gmail.com', 5465)\n",
      "(234, 502342, 'Pune', 'Laxminagar', 9168801192, 234, 'sagar', 'abc@gmail.com', 23234)\n",
      "(234, 502342, 'Pune', 'Laxminagar', 9168801192, 234, 'sagar', 'abc@gmail.com', 23234)\n",
      "(234, 502342, 'Pune', 'Laxminagar', 9168801192, 234, 'sagar', 'abc@gmail.com', 23234)\n",
      "(234, 502342, 'Pune', 'Laxminagar', 9168801192, 234, 'sagar', 'abc@gmail.com', 23234)\n",
      "(234, 502342, 'Pune', 'Laxminagar', 9168801192, 234, 'sagar', 'abc@gmail.com', 23234)\n",
      "(234, 502342, 'Pune', 'Laxminagar', 9168801192, 234, 'sagar', 'abc@gmail.com', 23234)\n",
      "(234, 502342, 'Pune', 'Laxminagar', 9168801192, 234, 'sagar', 'abc@gmail.com', 23234)\n",
      "(234, 502342, 'Pune', 'Laxminagar', 9168801192, 234, 'sagar', 'abc@gmail.com', 23234)\n",
      "(234, 502342, 'Pune', 'Laxminagar', 9168801192, 234, 'sagar', 'abc@gmail.com', 235234)\n",
      "(234, 502342, 'Pune', 'Laxminagar', 9168801192, 234, 'sagar', 'abc@gmail.com', 2334234)\n",
      "(234, 502342, 'Pune', 'Laxminagar', 9168801192, 234, 'sagar', 'abc@gmail.com', 2343234)\n",
      "(234, 502342, 'Pune', 'Laxminagar', 9168801192, 234, 'sagar', 'abc@gmail.com', 45423234)\n",
      "(234, 502342, 'Pune', 'Laxminagar', 9168801192, 234, 'sagar', 'abc@gmail.com', 5465)\n",
      "(234, 502342, 'Pune', 'Laxminagar', 9168801192, 234, 'sagar', 'abc@gmail.com', 23234)\n",
      "(234, 502342, 'Pune', 'Laxminagar', 9168801192, 234, 'sagar', 'abc@gmail.com', 23234)\n",
      "(234, 502342, 'Pune', 'Laxminagar', 9168801192, 234, 'sagar', 'abc@gmail.com', 23234)\n",
      "(234, 502342, 'Pune', 'Laxminagar', 9168801192, 234, 'sagar', 'abc@gmail.com', 23234)\n",
      "(234, 502342, 'Pune', 'Laxminagar', 9168801192, 234, 'sagar', 'abc@gmail.com', 23234)\n",
      "(234, 502342, 'Pune', 'Laxminagar', 9168801192, 234, 'sagar', 'abc@gmail.com', 23234)\n",
      "(234, 502342, 'Pune', 'Laxminagar', 9168801192, 234, 'sagar', 'abc@gmail.com', 23234)\n",
      "(234, 502342, 'Pune', 'Laxminagar', 9168801192, 234, 'sagar', 'abc@gmail.com', 23234)\n",
      "(234, 502342, 'Pune', 'Laxminagar', 9168801192, 234, 'sagar', 'abc@gmail.com', 235234)\n",
      "(234, 502342, 'Pune', 'Laxminagar', 9168801192, 234, 'sagar', 'abc@gmail.com', 2334234)\n",
      "(234, 502342, 'Pune', 'Laxminagar', 9168801192, 234, 'sagar', 'abc@gmail.com', 2343234)\n",
      "(234, 502342, 'Pune', 'Laxminagar', 9168801192, 234, 'sagar', 'abc@gmail.com', 45423234)\n",
      "(234, 502342, 'Pune', 'Laxminagar', 9168801192, 234, 'sagar', 'abc@gmail.com', 5465)\n",
      "(234, 502342, 'Pune', 'Laxminagar', 9168801192, 234, 'sagar', 'abc@gmail.com', 23234)\n",
      "(234, 502342, 'Pune', 'Laxminagar', 9168801192, 234, 'sagar', 'abc@gmail.com', 23234)\n",
      "(234, 502342, 'Pune', 'Laxminagar', 9168801192, 234, 'sagar', 'abc@gmail.com', 23234)\n",
      "(234, 502342, 'Pune', 'Laxminagar', 9168801192, 234, 'sagar', 'abc@gmail.com', 23234)\n",
      "(234, 502342, 'Pune', 'Laxminagar', 9168801192, 234, 'sagar', 'abc@gmail.com', 23234)\n",
      "(234, 502342, 'Pune', 'Laxminagar', 9168801192, 234, 'sagar', 'abc@gmail.com', 23234)\n",
      "(234, 502342, 'Pune', 'Laxminagar', 9168801192, 234, 'sagar', 'abc@gmail.com', 23234)\n",
      "(234, 502342, 'Pune', 'Laxminagar', 9168801192, 234, 'sagar', 'abc@gmail.com', 23234)\n",
      "(234, 502342, 'Pune', 'Laxminagar', 9168801192, 234, 'sagar', 'abc@gmail.com', 235234)\n",
      "(234, 502342, 'Pune', 'Laxminagar', 9168801192, 234, 'sagar', 'abc@gmail.com', 2334234)\n",
      "(234, 502342, 'Pune', 'Laxminagar', 9168801192, 234, 'sagar', 'abc@gmail.com', 2343234)\n",
      "(234, 502342, 'Pune', 'Laxminagar', 9168801192, 234, 'sagar', 'abc@gmail.com', 45423234)\n",
      "(234, 502342, 'Pune', 'Laxminagar', 9168801192, 234, 'sagar', 'abc@gmail.com', 5465)\n",
      "(234, 502342, 'Pune', 'Laxminagar', 9168801192, 234, 'sagar', 'abc@gmail.com', 23234)\n",
      "(234, 502342, 'Pune', 'Laxminagar', 9168801192, 234, 'sagar', 'abc@gmail.com', 23234)\n",
      "(234, 502342, 'Pune', 'Laxminagar', 9168801192, 234, 'sagar', 'abc@gmail.com', 23234)\n",
      "(234, 502342, 'Pune', 'Laxminagar', 9168801192, 234, 'sagar', 'abc@gmail.com', 23234)\n",
      "(234, 502342, 'Pune', 'Laxminagar', 9168801192, 234, 'sagar', 'abc@gmail.com', 23234)\n",
      "(234, 502342, 'Pune', 'Laxminagar', 9168801192, 234, 'sagar', 'abc@gmail.com', 23234)\n",
      "(234, 502342, 'Pune', 'Laxminagar', 9168801192, 234, 'sagar', 'abc@gmail.com', 23234)\n",
      "(234, 502342, 'Pune', 'Laxminagar', 9168801192, 234, 'sagar', 'abc@gmail.com', 23234)\n",
      "(234, 502342, 'Pune', 'Laxminagar', 9168801192, 234, 'sagar', 'abc@gmail.com', 235234)\n",
      "(234, 502342, 'Pune', 'Laxminagar', 9168801192, 234, 'sagar', 'abc@gmail.com', 2334234)\n",
      "(234, 502342, 'Pune', 'Laxminagar', 9168801192, 234, 'sagar', 'abc@gmail.com', 2343234)\n",
      "(234, 502342, 'Pune', 'Laxminagar', 9168801192, 234, 'sagar', 'abc@gmail.com', 45423234)\n",
      "(234, 502342, 'Pune', 'Laxminagar', 9168801192, 234, 'sagar', 'abc@gmail.com', 5465)\n",
      "(234, 502342, 'Pune', 'Laxminagar', 9168801192, 234, 'sagar', 'abc@gmail.com', 23234)\n",
      "(234, 502342, 'Pune', 'Laxminagar', 9168801192, 234, 'sagar', 'abc@gmail.com', 23234)\n",
      "(234, 502342, 'Pune', 'Laxminagar', 9168801192, 234, 'sagar', 'abc@gmail.com', 23234)\n",
      "(234, 502342, 'Pune', 'Laxminagar', 9168801192, 234, 'sagar', 'abc@gmail.com', 23234)\n",
      "(234, 502342, 'Pune', 'Laxminagar', 9168801192, 234, 'sagar', 'abc@gmail.com', 23234)\n",
      "(234, 502342, 'Pune', 'Laxminagar', 9168801192, 234, 'sagar', 'abc@gmail.com', 23234)\n",
      "(234, 502342, 'Pune', 'Laxminagar', 9168801192, 234, 'sagar', 'abc@gmail.com', 23234)\n",
      "(234, 502342, 'Pune', 'Laxminagar', 9168801192, 234, 'sagar', 'abc@gmail.com', 23234)\n",
      "(234, 502342, 'Pune', 'Laxminagar', 9168801192, 234, 'sagar', 'abc@gmail.com', 235234)\n",
      "(234, 502342, 'Pune', 'Laxminagar', 9168801192, 234, 'sagar', 'abc@gmail.com', 2334234)\n",
      "(234, 502342, 'Pune', 'Laxminagar', 9168801192, 234, 'sagar', 'abc@gmail.com', 2343234)\n",
      "(234, 502342, 'Pune', 'Laxminagar', 9168801192, 234, 'sagar', 'abc@gmail.com', 45423234)\n",
      "(23434, 502342, 'Pune', 'Laxminagar', 9168801192, None, None, None, None)\n",
      "(23445, 502342, 'Pune', 'Laxminagar', 9168801192, None, None, None, None)\n",
      "(23434, 502342, 'Pune', 'Laxminagar', 9168801192, None, None, None, None)\n",
      "(23434, 502342, 'Pune', 'Laxminagar', 9168801192, None, None, None, None)\n",
      "(23434, 502342, 'Pune', 'Laxminagar', 9168801192, None, None, None, None)\n",
      "(23344, 502342, 'Pune', 'Laxminagar', 9168801192, None, None, None, None)\n",
      "(23434, 502342, 'Pune', 'Laxminagar', 9168801192, None, None, None, None)\n",
      "(23467, 502342, 'Pune', 'Laxminagar', 9168801192, None, None, None, None)\n",
      "(234786, 502342, 'Pune', 'Laxminagar', 9168801192, None, None, None, None)\n",
      "(2347876, 502342, 'Pune', 'Laxminagar', 9168801192, None, None, None, None)\n",
      "(23468, 502342, 'Pune', 'Laxminagar', 9168801192, None, None, None, None)\n",
      "(2347686, 502342, 'Pune', 'Laxminagar', 9168801192, None, None, None, None)\n",
      "(23478, 502342, 'Pune', 'Laxminagar', 9168801192, None, None, None, None)\n",
      "(23434, 502342, 'Pune', 'Laxminagar', 9168801192, None, None, None, None)\n",
      "(23445, 502342, 'Pune', 'Laxminagar', 9168801192, None, None, None, None)\n",
      "(23434, 502342, 'Pune', 'Laxminagar', 9168801192, None, None, None, None)\n",
      "(23434, 502342, 'Pune', 'Laxminagar', 9168801192, None, None, None, None)\n",
      "(23434, 502342, 'Pune', 'Laxminagar', 9168801192, None, None, None, None)\n",
      "(23344, 502342, 'Pune', 'Laxminagar', 9168801192, None, None, None, None)\n",
      "(23434, 502342, 'Pune', 'Laxminagar', 9168801192, None, None, None, None)\n",
      "(23467, 502342, 'Pune', 'Laxminagar', 9168801192, None, None, None, None)\n",
      "(234786, 502342, 'Pune', 'Laxminagar', 9168801192, None, None, None, None)\n",
      "(2347876, 502342, 'Pune', 'Laxminagar', 9168801192, None, None, None, None)\n",
      "(23468, 502342, 'Pune', 'Laxminagar', 9168801192, None, None, None, None)\n",
      "(2347686, 502342, 'Pune', 'Laxminagar', 9168801192, None, None, None, None)\n",
      "(23478, 502342, 'Pune', 'Laxminagar', 9168801192, None, None, None, None)\n"
     ]
    }
   ],
   "source": [
    "for i in data2:\n",
    "    print(i)"
   ]
  },
  {
   "cell_type": "code",
   "execution_count": 130,
   "id": "0c5c22db-2588-40bd-bbfd-4183bbace70d",
   "metadata": {},
   "outputs": [
    {
     "name": "stdout",
     "output_type": "stream",
     "text": [
      "(234, 'sagar', 'abc@gmail.com', 23234)\n",
      "(234, 'sagar', 'abc@gmail.com', 23234)\n",
      "(234, 'sagar', 'abc@gmail.com', 23234)\n",
      "(234, 'sagar', 'abc@gmail.com', 23234)\n",
      "(234, 'sagar', 'abc@gmail.com', 235234)\n",
      "(234, 'sagar', 'abc@gmail.com', 23234)\n",
      "(234, 'sagar', 'abc@gmail.com', 23234)\n",
      "(234, 'sagar', 'abc@gmail.com', 5465)\n",
      "(234, 'sagar', 'abc@gmail.com', 45423234)\n",
      "(234, 'sagar', 'abc@gmail.com', 2343234)\n",
      "(234, 'sagar', 'abc@gmail.com', 23234)\n",
      "(234, 'sagar', 'abc@gmail.com', 23234)\n",
      "(234, 'sagar', 'abc@gmail.com', 2334234)\n",
      "(2340, 'sagar', 'abc@gmail.com', 23234)\n",
      "(2341, 'sagar', 'abc@gmail.com', 235234)\n",
      "(2342, 'sagar', 'abc@gmail.com', 23234)\n",
      "(2343, 'sagar', 'abc@gmail.com', 23234)\n",
      "(2344, 'sagar', 'abc@gmail.com', 5465)\n",
      "(2345, 'sagar', 'abc@gmail.com', 45423234)\n",
      "(2346, 'sagar', 'abc@gmail.com', 2343234)\n",
      "(2347, 'sagar', 'abc@gmail.com', 23234)\n",
      "(2348, 'sagar', 'abc@gmail.com', 23234)\n",
      "(2349, 'sagar', 'abc@gmail.com', 2334234)\n"
     ]
    }
   ],
   "source": [
    "for i in c.execute(\"select * from student\"):\n",
    "    print(i)"
   ]
  },
  {
   "cell_type": "code",
   "execution_count": 136,
   "id": "856bf45a-b489-4e64-9487-48e0663d3024",
   "metadata": {},
   "outputs": [
    {
     "name": "stdout",
     "output_type": "stream",
     "text": [
      "(234, 'sagar', 'abc@gmail.com', 235234)\n",
      "(234, 'sagar', 'abc@gmail.com', 45423234)\n",
      "(234, 'sagar', 'abc@gmail.com', 2343234)\n",
      "(234, 'sagar', 'abc@gmail.com', 2334234)\n"
     ]
    }
   ],
   "source": [
    "for i in c.execute(\"select * from student where marks > 60000\"):\n",
    "    print(i)"
   ]
  },
  {
   "cell_type": "code",
   "execution_count": 135,
   "id": "6c72b566-7ab1-4b4f-8cf6-80ea139120b3",
   "metadata": {},
   "outputs": [
    {
     "data": {
      "text/plain": [
       "<sqlite3.Cursor at 0x7f4e25fbdb40>"
      ]
     },
     "execution_count": 135,
     "metadata": {},
     "output_type": "execute_result"
    }
   ],
   "source": [
    "c.execute('delete from student where student_id > 2000')"
   ]
  },
  {
   "cell_type": "code",
   "execution_count": 137,
   "id": "8a31a9fd-a03d-477b-bb51-408fa16ec02c",
   "metadata": {},
   "outputs": [
    {
     "name": "stdout",
     "output_type": "stream",
     "text": [
      "(234, 'sagar', 'abc@gmail.com', 23234)\n",
      "(234, 'sagar', 'abc@gmail.com', 23234)\n",
      "(234, 'sagar', 'abc@gmail.com', 23234)\n",
      "(234, 'sagar', 'abc@gmail.com', 23234)\n",
      "(234, 'sagar', 'abc@gmail.com', 235234)\n",
      "(234, 'sagar', 'abc@gmail.com', 23234)\n",
      "(234, 'sagar', 'abc@gmail.com', 23234)\n",
      "(234, 'sagar', 'abc@gmail.com', 5465)\n",
      "(234, 'sagar', 'abc@gmail.com', 45423234)\n",
      "(234, 'sagar', 'abc@gmail.com', 2343234)\n",
      "(234, 'sagar', 'abc@gmail.com', 23234)\n",
      "(234, 'sagar', 'abc@gmail.com', 23234)\n",
      "(234, 'sagar', 'abc@gmail.com', 2334234)\n"
     ]
    }
   ],
   "source": [
    "for i in c.execute(\"select * from student\"):\n",
    "    print(i)"
   ]
  },
  {
   "cell_type": "code",
   "execution_count": 138,
   "id": "d51d7293-7c5a-48be-9227-2438e441db5f",
   "metadata": {},
   "outputs": [
    {
     "data": {
      "text/plain": [
       "[(234, 'sagar', 'abc@gmail.com', 23234),\n",
       " (234, 'sagar', 'abc@gmail.com', 23234),\n",
       " (234, 'sagar', 'abc@gmail.com', 23234),\n",
       " (234, 'sagar', 'abc@gmail.com', 23234),\n",
       " (234, 'sagar', 'abc@gmail.com', 235234),\n",
       " (234, 'sagar', 'abc@gmail.com', 23234),\n",
       " (234, 'sagar', 'abc@gmail.com', 23234),\n",
       " (234, 'sagar', 'abc@gmail.com', 5465),\n",
       " (234, 'sagar', 'abc@gmail.com', 45423234),\n",
       " (234, 'sagar', 'abc@gmail.com', 2343234),\n",
       " (234, 'sagar', 'abc@gmail.com', 23234),\n",
       " (234, 'sagar', 'abc@gmail.com', 23234),\n",
       " (234, 'sagar', 'abc@gmail.com', 2334234)]"
      ]
     },
     "execution_count": 138,
     "metadata": {},
     "output_type": "execute_result"
    }
   ],
   "source": [
    "data = c.execute(\"select * from student\")\n",
    "data.fetchall()"
   ]
  },
  {
   "cell_type": "code",
   "execution_count": 144,
   "id": "2985876c-2fc1-467b-acb1-3661b2a98241",
   "metadata": {},
   "outputs": [],
   "source": [
    "data = c.execute(\"update student set student_id = 1000 where student_id=234\")"
   ]
  },
  {
   "cell_type": "code",
   "execution_count": 145,
   "id": "9b1e59f4-4581-4d8b-b1db-450e94688044",
   "metadata": {},
   "outputs": [
    {
     "data": {
      "text/plain": [
       "[(1000, 'sagar', 'abc@gmail.com', 23234),\n",
       " (1000, 'sagar', 'abc@gmail.com', 23234),\n",
       " (1000, 'sagar', 'abc@gmail.com', 23234),\n",
       " (1000, 'sagar', 'abc@gmail.com', 23234),\n",
       " (1000, 'sagar', 'abc@gmail.com', 235234),\n",
       " (1000, 'sagar', 'abc@gmail.com', 23234),\n",
       " (1000, 'sagar', 'abc@gmail.com', 23234),\n",
       " (1000, 'sagar', 'abc@gmail.com', 5465),\n",
       " (1000, 'sagar', 'abc@gmail.com', 45423234),\n",
       " (1000, 'sagar', 'abc@gmail.com', 2343234),\n",
       " (1000, 'sagar', 'abc@gmail.com', 23234),\n",
       " (1000, 'sagar', 'abc@gmail.com', 23234),\n",
       " (1000, 'sagar', 'abc@gmail.com', 2334234)]"
      ]
     },
     "execution_count": 145,
     "metadata": {},
     "output_type": "execute_result"
    }
   ],
   "source": [
    "data = c.execute(\"select * from student\")\n",
    "data.fetchall()"
   ]
  },
  {
   "cell_type": "code",
   "execution_count": 146,
   "id": "976d16df-e6a4-4235-98da-691dc25329a6",
   "metadata": {},
   "outputs": [],
   "source": [
    "db.close()"
   ]
  },
  {
   "cell_type": "code",
   "execution_count": 147,
   "id": "6f20263b-fbe3-44be-b4ee-52c416f0379f",
   "metadata": {},
   "outputs": [],
   "source": [
    "l = [1,2,3,4,5,6,6,7,8,8,9]"
   ]
  },
  {
   "cell_type": "code",
   "execution_count": 147,
   "id": "9328685f-2152-4942-bfc8-2ae6ac9a90dc",
   "metadata": {},
   "outputs": [],
   "source": [
    "l = [1,2,3,4,5,6,6,7,8,8,9]"
   ]
  },
  {
   "cell_type": "code",
   "execution_count": 158,
   "id": "0d3b0c06-decb-47d2-851b-5bfe808b4e2a",
   "metadata": {},
   "outputs": [],
   "source": [
    "def test(a) :\n",
    "    return a+5\n"
   ]
  },
  {
   "cell_type": "code",
   "execution_count": 148,
   "id": "b9cbd912-2bda-4e77-a3aa-3426e37b5a67",
   "metadata": {},
   "outputs": [],
   "source": [
    "l1= []\n",
    "for i in l:\n",
    "    l1.append(i+5)"
   ]
  },
  {
   "cell_type": "code",
   "execution_count": 149,
   "id": "93de11cb-4505-4431-9de9-dd968406c1a2",
   "metadata": {},
   "outputs": [
    {
     "data": {
      "text/plain": [
       "[6, 7, 8, 9, 10, 11, 11, 12, 13, 13, 14]"
      ]
     },
     "execution_count": 149,
     "metadata": {},
     "output_type": "execute_result"
    }
   ],
   "source": [
    "l1"
   ]
  },
  {
   "cell_type": "code",
   "execution_count": 152,
   "id": "fb349d75-7126-4039-833a-2138ee6c0024",
   "metadata": {},
   "outputs": [
    {
     "data": {
      "text/plain": [
       "[6, 7, 8, 9, 10, 11, 11, 12, 13, 13, 14]"
      ]
     },
     "execution_count": 152,
     "metadata": {},
     "output_type": "execute_result"
    }
   ],
   "source": [
    "[i +5 for i in l]"
   ]
  },
  {
   "cell_type": "code",
   "execution_count": 153,
   "id": "a9022726-df19-42e4-b06e-2d181b7b96ec",
   "metadata": {},
   "outputs": [
    {
     "data": {
      "text/plain": [
       "[1.0,\n",
       " 1.4142135623730951,\n",
       " 1.7320508075688772,\n",
       " 2.0,\n",
       " 2.23606797749979,\n",
       " 2.449489742783178,\n",
       " 2.449489742783178,\n",
       " 2.6457513110645907,\n",
       " 2.8284271247461903,\n",
       " 2.8284271247461903,\n",
       " 3.0]"
      ]
     },
     "execution_count": 153,
     "metadata": {},
     "output_type": "execute_result"
    }
   ],
   "source": [
    "[(i)**(1/2) for i in l]"
   ]
  },
  {
   "cell_type": "code",
   "execution_count": 161,
   "id": "4eccc85c-9f05-46eb-8c49-54451fe8ddfe",
   "metadata": {},
   "outputs": [
    {
     "data": {
      "text/plain": [
       "[6, 7, 8, 9, 10, 11, 11, 12, 13, 13, 14]"
      ]
     },
     "execution_count": 161,
     "metadata": {},
     "output_type": "execute_result"
    }
   ],
   "source": [
    "list(map(test,l))"
   ]
  },
  {
   "cell_type": "markdown",
   "id": "fcebc809-931c-4a41-952d-7a3f6b20f588",
   "metadata": {},
   "source": [
    "map() functin"
   ]
  },
  {
   "cell_type": "code",
   "execution_count": 162,
   "id": "f5447293-fabb-49d8-ac66-4696168990d1",
   "metadata": {},
   "outputs": [],
   "source": [
    "def test1(a):\n",
    "    return a*3454+454"
   ]
  },
  {
   "cell_type": "code",
   "execution_count": 163,
   "id": "aff6dd09-a3a8-4bf0-9fba-86a0c7bfc692",
   "metadata": {},
   "outputs": [
    {
     "data": {
      "text/plain": [
       "[3908, 7362, 10816, 14270, 17724, 21178, 21178, 24632, 28086, 28086, 31540]"
      ]
     },
     "execution_count": 163,
     "metadata": {},
     "output_type": "execute_result"
    }
   ],
   "source": [
    "list(map(test1,l))"
   ]
  },
  {
   "cell_type": "code",
   "execution_count": 164,
   "id": "bb76096f-fc8b-4794-bdd5-8f3b6fc45234",
   "metadata": {},
   "outputs": [],
   "source": [
    "l1 = ['133','23434','434','3454','45454','45456']"
   ]
  },
  {
   "cell_type": "code",
   "execution_count": 165,
   "id": "6bc5c254-8596-4a75-a4ba-9400246156a8",
   "metadata": {},
   "outputs": [
    {
     "data": {
      "text/plain": [
       "['133', '23434', '434', '3454', '45454', '45456']"
      ]
     },
     "execution_count": 165,
     "metadata": {},
     "output_type": "execute_result"
    }
   ],
   "source": [
    "l1"
   ]
  },
  {
   "cell_type": "code",
   "execution_count": 166,
   "id": "f7c892ea-f9fe-4b1f-b58d-1871e326b866",
   "metadata": {},
   "outputs": [],
   "source": [
    "def test2(a):\n",
    "    return int(a)"
   ]
  },
  {
   "cell_type": "code",
   "execution_count": 168,
   "id": "ab88b267-7f6f-40e0-8419-fa3384a42c38",
   "metadata": {},
   "outputs": [
    {
     "data": {
      "text/plain": [
       "4534"
      ]
     },
     "execution_count": 168,
     "metadata": {},
     "output_type": "execute_result"
    }
   ],
   "source": [
    "test2(\"4534\")"
   ]
  },
  {
   "cell_type": "code",
   "execution_count": 169,
   "id": "cc17a6ff-6792-43f7-ac4a-71f6cff8bd04",
   "metadata": {},
   "outputs": [
    {
     "data": {
      "text/plain": [
       "[133, 23434, 434, 3454, 45454, 45456]"
      ]
     },
     "execution_count": 169,
     "metadata": {},
     "output_type": "execute_result"
    }
   ],
   "source": [
    "list(map(test2,l1))"
   ]
  },
  {
   "cell_type": "code",
   "execution_count": 171,
   "id": "628b51cd-fd3a-4095-9b72-2c02701968d2",
   "metadata": {},
   "outputs": [
    {
     "data": {
      "text/plain": [
       "[133, 23434, 434, 3454, 45454, 45456]"
      ]
     },
     "execution_count": 171,
     "metadata": {},
     "output_type": "execute_result"
    }
   ],
   "source": [
    "list(map(lambda x : int(x) ,l1))"
   ]
  },
  {
   "cell_type": "code",
   "execution_count": 174,
   "id": "34bb38a3-c40a-4f9c-b33c-7f4cd0fed5d6",
   "metadata": {},
   "outputs": [],
   "source": [
    "l = list(map(lambda x : x +5 ,l))"
   ]
  },
  {
   "cell_type": "code",
   "execution_count": 175,
   "id": "331b902a-1b96-42a8-bde0-a0856fe849fa",
   "metadata": {},
   "outputs": [
    {
     "data": {
      "text/plain": [
       "[6, 7, 8, 9, 10, 11, 11, 12, 13, 13, 14]"
      ]
     },
     "execution_count": 175,
     "metadata": {},
     "output_type": "execute_result"
    }
   ],
   "source": [
    "l"
   ]
  },
  {
   "cell_type": "code",
   "execution_count": 195,
   "id": "c042ec0e-53f1-4b50-ab04-417f327b43fa",
   "metadata": {},
   "outputs": [],
   "source": [
    "l = [234,345,56,456,563,473,735,5656,5767,867,57,456,356,3567,467,357356,73567,6736,356]"
   ]
  },
  {
   "cell_type": "code",
   "execution_count": 196,
   "id": "6a465b26-61b1-45ce-85bb-d3aa3f698f03",
   "metadata": {},
   "outputs": [
    {
     "data": {
      "text/plain": [
       "[234,\n",
       " 345,\n",
       " 56,\n",
       " 456,\n",
       " 563,\n",
       " 473,\n",
       " 735,\n",
       " 5656,\n",
       " 5767,\n",
       " 867,\n",
       " 57,\n",
       " 456,\n",
       " 356,\n",
       " 3567,\n",
       " 467,\n",
       " 357356,\n",
       " 73567,\n",
       " 6736,\n",
       " 356]"
      ]
     },
     "execution_count": 196,
     "metadata": {},
     "output_type": "execute_result"
    }
   ],
   "source": [
    "l"
   ]
  },
  {
   "cell_type": "code",
   "execution_count": 197,
   "id": "008007c2-15c9-45af-8217-a7376cc23eb5",
   "metadata": {},
   "outputs": [],
   "source": [
    "def test4(a):\n",
    "    if a%2 == 0:\n",
    "        print(a)"
   ]
  },
  {
   "cell_type": "code",
   "execution_count": 198,
   "id": "b0bc1bf1-70d9-4a84-a416-4ad1f0f6f7a8",
   "metadata": {},
   "outputs": [
    {
     "data": {
      "text/plain": [
       "[234, 56, 456, 5656, 456, 356, 357356, 6736, 356]"
      ]
     },
     "execution_count": 198,
     "metadata": {},
     "output_type": "execute_result"
    }
   ],
   "source": [
    "[i for i in l if i%2 == 0 ]"
   ]
  },
  {
   "cell_type": "code",
   "execution_count": 194,
   "id": "9e0fb15b-bf54-4b8f-af22-6a0f438455b5",
   "metadata": {},
   "outputs": [
    {
     "name": "stdout",
     "output_type": "stream",
     "text": [
      "234\n",
      "56\n",
      "456\n",
      "357356\n",
      "6736\n",
      "356\n"
     ]
    },
    {
     "data": {
      "text/plain": [
       "[]"
      ]
     },
     "execution_count": 194,
     "metadata": {},
     "output_type": "execute_result"
    }
   ],
   "source": [
    "list(filter(test4,l))"
   ]
  },
  {
   "cell_type": "code",
   "execution_count": 199,
   "id": "1eaf9762-fc39-417d-a0bc-d19737e29b18",
   "metadata": {},
   "outputs": [
    {
     "data": {
      "text/plain": [
       "[234, 56, 456, 5656, 456, 356, 357356, 6736, 356]"
      ]
     },
     "execution_count": 199,
     "metadata": {},
     "output_type": "execute_result"
    }
   ],
   "source": [
    "list(filter(lambda x :x%2 ==0,l))"
   ]
  },
  {
   "cell_type": "code",
   "execution_count": 201,
   "id": "f9d23908-7de6-4110-8986-34273907ce40",
   "metadata": {},
   "outputs": [
    {
     "data": {
      "text/plain": [
       "[234,\n",
       " 345,\n",
       " 56,\n",
       " 456,\n",
       " 563,\n",
       " 473,\n",
       " 735,\n",
       " 5656,\n",
       " 5767,\n",
       " 867,\n",
       " 57,\n",
       " 456,\n",
       " 356,\n",
       " 3567,\n",
       " 467,\n",
       " 357356,\n",
       " 73567,\n",
       " 6736,\n",
       " 356]"
      ]
     },
     "execution_count": 201,
     "metadata": {},
     "output_type": "execute_result"
    }
   ],
   "source": [
    "list(filter(lambda x :x+5,l))"
   ]
  },
  {
   "cell_type": "code",
   "execution_count": 202,
   "id": "4197a03b-ab82-47ad-af9a-f92bed940e81",
   "metadata": {},
   "outputs": [
    {
     "data": {
      "text/plain": [
       "[234, 345, 456, 735, 867, 57, 456, 3567]"
      ]
     },
     "execution_count": 202,
     "metadata": {},
     "output_type": "execute_result"
    }
   ],
   "source": [
    "list(filter(lambda x :x%3 == 0 ,l))"
   ]
  },
  {
   "cell_type": "code",
   "execution_count": null,
   "id": "a55fcc58-4ae4-410a-8f1b-05a9189f7949",
   "metadata": {},
   "outputs": [],
   "source": [
    "\n",
    "\n"
   ]
  },
  {
   "cell_type": "code",
   "execution_count": 203,
   "id": "62625f27-4f6f-4009-a899-5b230675a9e2",
   "metadata": {},
   "outputs": [],
   "source": [
    "from functools import reduce"
   ]
  },
  {
   "cell_type": "code",
   "execution_count": 205,
   "id": "65e536d4-9ee0-4af8-8b8c-254a9fde3496",
   "metadata": {},
   "outputs": [],
   "source": [
    "l = [2,345,345,456,3456,4563,563456,345]"
   ]
  },
  {
   "cell_type": "code",
   "execution_count": 206,
   "id": "3bfdc20d-8dc2-495e-91cf-81bc17e7908a",
   "metadata": {},
   "outputs": [
    {
     "data": {
      "text/plain": [
       "[2, 345, 345, 456, 3456, 4563, 563456, 345]"
      ]
     },
     "execution_count": 206,
     "metadata": {},
     "output_type": "execute_result"
    }
   ],
   "source": [
    "l"
   ]
  },
  {
   "cell_type": "code",
   "execution_count": 207,
   "id": "7f265c03-eb0e-4c9b-aa05-9f85c5d3ed01",
   "metadata": {},
   "outputs": [
    {
     "data": {
      "text/plain": [
       "572968"
      ]
     },
     "execution_count": 207,
     "metadata": {},
     "output_type": "execute_result"
    }
   ],
   "source": [
    "sum(l)"
   ]
  },
  {
   "cell_type": "code",
   "execution_count": 216,
   "id": "9bd94bad-ffc3-42fa-a97f-409f6f939893",
   "metadata": {},
   "outputs": [],
   "source": [
    "def test5(a,b):\n",
    "    return a+b"
   ]
  },
  {
   "cell_type": "code",
   "execution_count": 217,
   "id": "4c3c9d1d-7484-44f0-b4eb-88d3234023d5",
   "metadata": {},
   "outputs": [],
   "source": [
    "def test6(a,b):\n",
    "    return a*b"
   ]
  },
  {
   "cell_type": "code",
   "execution_count": 218,
   "id": "ab48c28a-423c-43d3-a554-4aaf6dd14ce1",
   "metadata": {},
   "outputs": [
    {
     "data": {
      "text/plain": [
       "572968"
      ]
     },
     "execution_count": 218,
     "metadata": {},
     "output_type": "execute_result"
    }
   ],
   "source": [
    "reduce(test5 ,l)"
   ]
  },
  {
   "cell_type": "code",
   "execution_count": 219,
   "id": "45017472-77f5-4a57-89a6-7a5a299b29a5",
   "metadata": {},
   "outputs": [
    {
     "data": {
      "text/plain": [
       "332763998380045959168000"
      ]
     },
     "execution_count": 219,
     "metadata": {},
     "output_type": "execute_result"
    }
   ],
   "source": [
    "reduce(test6 ,l)"
   ]
  },
  {
   "cell_type": "code",
   "execution_count": 221,
   "id": "a2dbe280-1a15-4c86-a4c3-c438249b7068",
   "metadata": {},
   "outputs": [
    {
     "data": {
      "text/plain": [
       "[(2, '133'),\n",
       " (345, '23434'),\n",
       " (345, '434'),\n",
       " (456, '3454'),\n",
       " (3456, '45454'),\n",
       " (4563, '45456')]"
      ]
     },
     "execution_count": 221,
     "metadata": {},
     "output_type": "execute_result"
    }
   ],
   "source": [
    "list(zip(l,l1))"
   ]
  },
  {
   "cell_type": "code",
   "execution_count": 223,
   "id": "10a98d35-d619-4949-8fbb-c804253fb45c",
   "metadata": {},
   "outputs": [
    {
     "data": {
      "text/plain": [
       "[(2, '133', 'sagar'),\n",
       " (345, '23434', 'sunny'),\n",
       " (345, '434', '9898'),\n",
       " (456, '3454', 'huhiu')]"
      ]
     },
     "execution_count": 223,
     "metadata": {},
     "output_type": "execute_result"
    }
   ],
   "source": [
    "l2 = [\"sagar\",\"sunny\",\"9898\",\"huhiu\"]\n",
    "list(zip(l,l1,l2))"
   ]
  },
  {
   "cell_type": "code",
   "execution_count": null,
   "id": "e2696059-c704-44e9-840e-c4ea3174b238",
   "metadata": {},
   "outputs": [],
   "source": []
  }
 ],
 "metadata": {
  "kernelspec": {
   "display_name": "Python 3 (ipykernel)",
   "language": "python",
   "name": "python3"
  },
  "language_info": {
   "codemirror_mode": {
    "name": "ipython",
    "version": 3
   },
   "file_extension": ".py",
   "mimetype": "text/x-python",
   "name": "python",
   "nbconvert_exporter": "python",
   "pygments_lexer": "ipython3",
   "version": "3.11.4"
  }
 },
 "nbformat": 4,
 "nbformat_minor": 5
}
