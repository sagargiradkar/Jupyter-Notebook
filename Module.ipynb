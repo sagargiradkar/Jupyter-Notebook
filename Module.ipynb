{
 "cells": [
  {
   "cell_type": "code",
   "execution_count": 1,
   "metadata": {},
   "outputs": [
    {
     "name": "stdout",
     "output_type": "stream",
     "text": [
      "Modules in python\n"
     ]
    }
   ],
   "source": [
    "print(\"Modules in python\")"
   ]
  },
  {
   "cell_type": "code",
   "execution_count": 2,
   "metadata": {},
   "outputs": [],
   "source": [
    "import os"
   ]
  },
  {
   "cell_type": "code",
   "execution_count": 3,
   "metadata": {},
   "outputs": [],
   "source": [
    "def test(a,b):\n",
    "    return a+b"
   ]
  },
  {
   "cell_type": "code",
   "execution_count": 4,
   "metadata": {},
   "outputs": [
    {
     "data": {
      "text/plain": [
       "5"
      ]
     },
     "execution_count": 4,
     "metadata": {},
     "output_type": "execute_result"
    }
   ],
   "source": [
    "test(2,3)"
   ]
  },
  {
   "cell_type": "code",
   "execution_count": 8,
   "metadata": {},
   "outputs": [
    {
     "name": "stdout",
     "output_type": "stream",
     "text": [
      " Dictionary.ipynb            function.ipynb\r\n",
      " Exception_Handling.ipynb   'iNeuron - FSDS .pdf'\r\n",
      " File.ipynb                  if,if-else,elif.ipynb\r\n",
      " Function_1.ipynb            lambda_function.ipynb\r\n",
      " Generator.ipynb             python.txt\r\n",
      "'Iterator Practice.ipynb'    sagar.txt\r\n",
      " Iterator.ipynb              test.log\r\n",
      " Loggin-Python.ipynb         test.py\r\n",
      " Module.ipynb                test1.txt\r\n",
      " Set.ipynb                   test11.txt\r\n",
      "'String and List.ipynb'      test2.log\r\n",
      " Tuple.ipynb                 test2.txt\r\n",
      " firstFile.ipynb             test3.log\r\n",
      "'for loop.ipynb'             text.txt\r\n",
      "'for-else statement.ipynb'  'while loop , range.ipynb'\r\n"
     ]
    }
   ],
   "source": [
    "ls"
   ]
  },
  {
   "cell_type": "code",
   "execution_count": 10,
   "metadata": {},
   "outputs": [
    {
     "name": "stdout",
     "output_type": "stream",
     "text": [
      " Dictionary.ipynb            function.ipynb\r\n",
      " Exception_Handling.ipynb   'iNeuron - FSDS .pdf'\r\n",
      " File.ipynb                  if,if-else,elif.ipynb\r\n",
      " Function_1.ipynb            lambda_function.ipynb\r\n",
      " Generator.ipynb             python.txt\r\n",
      "'Iterator Practice.ipynb'    sagar.txt\r\n",
      " Iterator.ipynb              test.log\r\n",
      " Loggin-Python.ipynb         test.py\r\n",
      " Module.ipynb                test1.txt\r\n",
      " Set.ipynb                   test11.txt\r\n",
      "'String and List.ipynb'      test2.log\r\n",
      " Tuple.ipynb                 test2.txt\r\n",
      " \u001b[0m\u001b[01;34m__pycache__\u001b[0m/                test3.log\r\n",
      " firstFile.ipynb             text.txt\r\n",
      "'for loop.ipynb'            'while loop , range.ipynb'\r\n",
      "'for-else statement.ipynb'\r\n"
     ]
    }
   ],
   "source": [
    "ls"
   ]
  },
  {
   "cell_type": "code",
   "execution_count": 1,
   "metadata": {},
   "outputs": [],
   "source": [
    "import test"
   ]
  },
  {
   "cell_type": "code",
   "execution_count": 2,
   "metadata": {},
   "outputs": [
    {
     "data": {
      "text/plain": [
       "67687"
      ]
     },
     "execution_count": 2,
     "metadata": {},
     "output_type": "execute_result"
    }
   ],
   "source": [
    "a = 10\n",
    "b = 100\n",
    "test.test(67678,9)"
   ]
  },
  {
   "cell_type": "code",
   "execution_count": 3,
   "metadata": {},
   "outputs": [
    {
     "data": {
      "text/plain": [
       "12"
      ]
     },
     "execution_count": 3,
     "metadata": {},
     "output_type": "execute_result"
    }
   ],
   "source": [
    "test.test(6,6)"
   ]
  },
  {
   "cell_type": "code",
   "execution_count": 4,
   "metadata": {},
   "outputs": [
    {
     "data": {
      "text/plain": [
       "69084"
      ]
     },
     "execution_count": 4,
     "metadata": {},
     "output_type": "execute_result"
    }
   ],
   "source": [
    "test.test1(7676,9)"
   ]
  },
  {
   "cell_type": "code",
   "execution_count": 5,
   "metadata": {},
   "outputs": [
    {
     "data": {
      "text/plain": [
       "10.0"
      ]
     },
     "execution_count": 5,
     "metadata": {},
     "output_type": "execute_result"
    }
   ],
   "source": [
    "test.test2(100,10)"
   ]
  },
  {
   "cell_type": "code",
   "execution_count": 6,
   "metadata": {},
   "outputs": [
    {
     "name": "stdout",
     "output_type": "stream",
     "text": [
      "This is module i created\n"
     ]
    }
   ],
   "source": [
    "test.test4()"
   ]
  },
  {
   "cell_type": "code",
   "execution_count": 7,
   "metadata": {},
   "outputs": [],
   "source": [
    "from test import test4"
   ]
  },
  {
   "cell_type": "code",
   "execution_count": 8,
   "metadata": {},
   "outputs": [
    {
     "name": "stdout",
     "output_type": "stream",
     "text": [
      "This is module i created\n"
     ]
    }
   ],
   "source": [
    "test4()"
   ]
  },
  {
   "cell_type": "code",
   "execution_count": 9,
   "metadata": {},
   "outputs": [],
   "source": [
    "from test import *"
   ]
  },
  {
   "cell_type": "code",
   "execution_count": 10,
   "metadata": {},
   "outputs": [
    {
     "data": {
      "text/plain": [
       "362388"
      ]
     },
     "execution_count": 10,
     "metadata": {},
     "output_type": "execute_result"
    }
   ],
   "source": [
    "test1(46,7878)"
   ]
  },
  {
   "cell_type": "code",
   "execution_count": null,
   "metadata": {},
   "outputs": [],
   "source": []
  }
 ],
 "metadata": {
  "kernelspec": {
   "display_name": "Python 3",
   "language": "python",
   "name": "python3"
  },
  "language_info": {
   "codemirror_mode": {
    "name": "ipython",
    "version": 3
   },
   "file_extension": ".py",
   "mimetype": "text/x-python",
   "name": "python",
   "nbconvert_exporter": "python",
   "pygments_lexer": "ipython3",
   "version": "3.7.3"
  }
 },
 "nbformat": 4,
 "nbformat_minor": 2
}
