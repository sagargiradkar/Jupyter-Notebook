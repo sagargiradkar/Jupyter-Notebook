{
 "cells": [
  {
   "cell_type": "code",
   "execution_count": 4,
   "metadata": {},
   "outputs": [
    {
     "name": "stdout",
     "output_type": "stream",
     "text": [
      "26\n",
      "26\n"
     ]
    }
   ],
   "source": [
    "s = \"This is basic python class\"\n",
    "print(len(s))\n",
    "count=0\n",
    "for i in s:\n",
    "    count=count+1\n",
    "    \n",
    "print(count)"
   ]
  },
  {
   "cell_type": "code",
   "execution_count": 5,
   "metadata": {},
   "outputs": [
    {
     "data": {
      "text/plain": [
       "'rakdarig hsakarp ragas'"
      ]
     },
     "execution_count": 5,
     "metadata": {},
     "output_type": "execute_result"
    }
   ],
   "source": [
    "s = \"sagar prakash giradkar\"\n",
    "s[::-1]"
   ]
  },
  {
   "cell_type": "code",
   "execution_count": 10,
   "metadata": {},
   "outputs": [],
   "source": [
    "s = \"prakash giradkar pauna khurd po mangli\""
   ]
  },
  {
   "cell_type": "code",
   "execution_count": 11,
   "metadata": {},
   "outputs": [
    {
     "name": "stdout",
     "output_type": "stream",
     "text": [
      "ilgnam op druhk anuap rakdarig hsakarp"
     ]
    }
   ],
   "source": [
    "for i in range(len(s)-1,-1,-1):\n",
    "    print(s[i] ,end=\"\")"
   ]
  },
  {
   "cell_type": "code",
   "execution_count": 16,
   "metadata": {},
   "outputs": [
    {
     "name": "stdout",
     "output_type": "stream",
     "text": [
      "ilgnam op druhk anuap rakdarig hsakarp"
     ]
    }
   ],
   "source": [
    "i=len(s)-1\n",
    "while(i>=0):\n",
    "    print(s[i],end=\"\")\n",
    "    i-=1"
   ]
  },
  {
   "cell_type": "code",
   "execution_count": 2,
   "metadata": {},
   "outputs": [
    {
     "name": "stdout",
     "output_type": "stream",
     "text": [
      "Vowel i\n",
      "Not vowel n\n",
      "Vowel e\n",
      "Vowel u\n",
      "Not vowel r\n",
      "Vowel o\n",
      "Not vowel n\n",
      "Not vowel  \n",
      "Not vowel p\n",
      "Not vowel r\n",
      "Vowel a\n",
      "Not vowel k\n",
      "Vowel a\n",
      "Not vowel s\n",
      "Not vowel h\n",
      "Not vowel  \n",
      "Not vowel g\n",
      "Vowel i\n",
      "Not vowel r\n",
      "Vowel a\n",
      "Not vowel d\n",
      "Not vowel j\n",
      "Not vowel k\n",
      "Vowel a\n",
      "Not vowel r\n"
     ]
    }
   ],
   "source": [
    "s = \"ineuron prakash giradjkar\"\n",
    "v = \"AaEeIiOoUu\"\n",
    "for i in s:\n",
    "    if i in v:\n",
    "        print(\"Vowel\",i)\n",
    "    else:\n",
    "        print(\"Not vowel\",i)"
   ]
  },
  {
   "cell_type": "code",
   "execution_count": 3,
   "metadata": {},
   "outputs": [
    {
     "data": {
      "text/plain": [
       "False"
      ]
     },
     "execution_count": 3,
     "metadata": {},
     "output_type": "execute_result"
    }
   ],
   "source": [
    "s in \"sagar\""
   ]
  },
  {
   "cell_type": "code",
   "execution_count": 4,
   "metadata": {},
   "outputs": [
    {
     "data": {
      "text/plain": [
       "True"
      ]
     },
     "execution_count": 4,
     "metadata": {},
     "output_type": "execute_result"
    }
   ],
   "source": [
    "s not in \"sagar\""
   ]
  },
  {
   "cell_type": "code",
   "execution_count": 5,
   "metadata": {},
   "outputs": [
    {
     "data": {
      "text/plain": [
       "True"
      ]
     },
     "execution_count": 5,
     "metadata": {},
     "output_type": "execute_result"
    }
   ],
   "source": [
    "\"u\" in \"sugar\""
   ]
  },
  {
   "cell_type": "code",
   "execution_count": 6,
   "metadata": {},
   "outputs": [
    {
     "data": {
      "text/plain": [
       "'ineuron prakash giradjkar'"
      ]
     },
     "execution_count": 6,
     "metadata": {},
     "output_type": "execute_result"
    }
   ],
   "source": [
    "s"
   ]
  },
  {
   "cell_type": "code",
   "execution_count": 8,
   "metadata": {},
   "outputs": [
    {
     "data": {
      "text/plain": [
       "True"
      ]
     },
     "execution_count": 8,
     "metadata": {},
     "output_type": "execute_result"
    }
   ],
   "source": [
    "\"s\" in s"
   ]
  },
  {
   "cell_type": "code",
   "execution_count": 15,
   "metadata": {},
   "outputs": [
    {
     "name": "stdout",
     "output_type": "stream",
     "text": [
      "malayalam\n",
      "Pallindrom malayalam\n"
     ]
    }
   ],
   "source": [
    "s = input()\n",
    "l = s[::-1]\n",
    "if(s==l):\n",
    "    print(\"Pallindrom\",s)\n",
    "else:\n",
    "    print(\"Not a pallindrome\",s)"
   ]
  },
  {
   "cell_type": "code",
   "execution_count": 16,
   "metadata": {},
   "outputs": [
    {
     "name": "stdout",
     "output_type": "stream",
     "text": [
      "tenet\n",
      "Pallindrom tenet\n"
     ]
    }
   ],
   "source": [
    "s = input()\n",
    "l = s[::-1]\n",
    "if(s==l):\n",
    "    print(\"Pallindrom\",s)\n",
    "else:\n",
    "    print(\"Not a pallindrome\",s)"
   ]
  },
  {
   "cell_type": "code",
   "execution_count": null,
   "metadata": {},
   "outputs": [],
   "source": []
  }
 ],
 "metadata": {
  "kernelspec": {
   "display_name": "Python 3",
   "language": "python",
   "name": "python3"
  },
  "language_info": {
   "codemirror_mode": {
    "name": "ipython",
    "version": 3
   },
   "file_extension": ".py",
   "mimetype": "text/x-python",
   "name": "python",
   "nbconvert_exporter": "python",
   "pygments_lexer": "ipython3",
   "version": "3.7.3"
  }
 },
 "nbformat": 4,
 "nbformat_minor": 2
}
