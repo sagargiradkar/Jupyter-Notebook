{
 "cells": [
  {
   "cell_type": "code",
   "execution_count": 2,
   "id": "96284109-1312-4533-9c64-53541960ae44",
   "metadata": {},
   "outputs": [],
   "source": [
    "import numpy as np"
   ]
  },
  {
   "cell_type": "code",
   "execution_count": 12,
   "id": "8c33ded7-e113-4d54-af99-1b181e85cdcf",
   "metadata": {},
   "outputs": [],
   "source": [
    "l = [\"sagar\",2,3,5,6,34,5,4,56,44,56,6,56,56,56,56]"
   ]
  },
  {
   "cell_type": "code",
   "execution_count": 13,
   "id": "7cd6e145-bbc6-44de-93b7-b211382690c1",
   "metadata": {},
   "outputs": [
    {
     "data": {
      "text/plain": [
       "list"
      ]
     },
     "execution_count": 13,
     "metadata": {},
     "output_type": "execute_result"
    }
   ],
   "source": [
    "type(l)"
   ]
  },
  {
   "cell_type": "code",
   "execution_count": 14,
   "id": "d0816bba-d3f3-44ab-93c8-c1fac8ca588b",
   "metadata": {},
   "outputs": [
    {
     "data": {
      "text/plain": [
       "array(['sagar', '2', '3', '5', '6', '34', '5', '4', '56', '44', '56', '6',\n",
       "       '56', '56', '56', '56'], dtype='<U21')"
      ]
     },
     "execution_count": 14,
     "metadata": {},
     "output_type": "execute_result"
    }
   ],
   "source": [
    "numpy.array(l)"
   ]
  },
  {
   "cell_type": "code",
   "execution_count": 15,
   "id": "69c1d787-8b7b-47a9-9610-51d5111d7174",
   "metadata": {},
   "outputs": [
    {
     "data": {
      "text/plain": [
       "numpy.ndarray"
      ]
     },
     "execution_count": 15,
     "metadata": {},
     "output_type": "execute_result"
    }
   ],
   "source": [
    "type(numpy.array(l))"
   ]
  },
  {
   "cell_type": "code",
   "execution_count": 16,
   "id": "258bada4-7ce9-4b20-87b2-1db2bf271e7a",
   "metadata": {},
   "outputs": [
    {
     "data": {
      "text/plain": [
       "array(['sagar', '2', '3', '5', '6', '34', '5', '4', '56', '44', '56', '6',\n",
       "       '56', '56', '56', '56'], dtype='<U21')"
      ]
     },
     "execution_count": 16,
     "metadata": {},
     "output_type": "execute_result"
    }
   ],
   "source": [
    "np.array(l)"
   ]
  },
  {
   "cell_type": "code",
   "execution_count": 18,
   "id": "e7b42af7-aaee-4e22-84f6-d609e40abc59",
   "metadata": {},
   "outputs": [
    {
     "data": {
      "text/plain": [
       "numpy.ndarray"
      ]
     },
     "execution_count": 18,
     "metadata": {},
     "output_type": "execute_result"
    }
   ],
   "source": [
    "type(np.array(l))"
   ]
  },
  {
   "cell_type": "code",
   "execution_count": 35,
   "id": "5b84efc0-fe91-481a-9412-92a648d295e8",
   "metadata": {},
   "outputs": [],
   "source": [
    "n = np.array([3,45,45,65,65.67,76.0])"
   ]
  },
  {
   "cell_type": "code",
   "execution_count": 21,
   "id": "fbd7306a-dc76-40fe-9ed6-97783908b6d9",
   "metadata": {},
   "outputs": [
    {
     "data": {
      "text/plain": [
       "array([[1, 2],\n",
       "       [2, 3]])"
      ]
     },
     "execution_count": 21,
     "metadata": {},
     "output_type": "execute_result"
    }
   ],
   "source": [
    "np.array([[1,2],[2,3]])"
   ]
  },
  {
   "cell_type": "code",
   "execution_count": 23,
   "id": "57c27ea5-10ca-4918-8780-c27853df4399",
   "metadata": {},
   "outputs": [],
   "source": [
    "a = np.array([[\"sagar\",\"prakash\"],[23,45]])"
   ]
  },
  {
   "cell_type": "code",
   "execution_count": 24,
   "id": "9bce40d1-4bd8-41a5-ba5b-0ea69000c507",
   "metadata": {},
   "outputs": [
    {
     "data": {
      "text/plain": [
       "array([['sagar', 'prakash'],\n",
       "       ['23', '45']], dtype='<U21')"
      ]
     },
     "execution_count": 24,
     "metadata": {},
     "output_type": "execute_result"
    }
   ],
   "source": [
    "a"
   ]
  },
  {
   "cell_type": "code",
   "execution_count": 26,
   "id": "51c50415-b519-4b02-b81e-25d62cefd0f3",
   "metadata": {},
   "outputs": [],
   "source": [
    "b = np.array([[1,2,4,5],[35,4,3,34]])"
   ]
  },
  {
   "cell_type": "code",
   "execution_count": 27,
   "id": "29daa411-9dcc-4e47-93c7-b2280aadb91b",
   "metadata": {},
   "outputs": [
    {
     "data": {
      "text/plain": [
       "array([[ 1,  2,  4,  5],\n",
       "       [35,  4,  3, 34]])"
      ]
     },
     "execution_count": 27,
     "metadata": {},
     "output_type": "execute_result"
    }
   ],
   "source": [
    "b"
   ]
  },
  {
   "cell_type": "code",
   "execution_count": 28,
   "id": "e9c6ca97-0975-4546-8df2-589e8cd999fd",
   "metadata": {},
   "outputs": [
    {
     "data": {
      "text/plain": [
       "array(['23', '45'], dtype='<U21')"
      ]
     },
     "execution_count": 28,
     "metadata": {},
     "output_type": "execute_result"
    }
   ],
   "source": [
    "a[1]"
   ]
  },
  {
   "cell_type": "code",
   "execution_count": 29,
   "id": "143b3911-194d-4b2d-b887-b4db139d225e",
   "metadata": {},
   "outputs": [
    {
     "data": {
      "text/plain": [
       "'23'"
      ]
     },
     "execution_count": 29,
     "metadata": {},
     "output_type": "execute_result"
    }
   ],
   "source": [
    "a[1][0]"
   ]
  },
  {
   "cell_type": "code",
   "execution_count": 30,
   "id": "1182ff10-9b2f-49f6-8288-bac4508ad7a5",
   "metadata": {},
   "outputs": [
    {
     "data": {
      "text/plain": [
       "'45'"
      ]
     },
     "execution_count": 30,
     "metadata": {},
     "output_type": "execute_result"
    }
   ],
   "source": [
    "a[1][1]"
   ]
  },
  {
   "cell_type": "code",
   "execution_count": 31,
   "id": "c7fc774f-c214-49f5-97f2-1f57410df0f9",
   "metadata": {},
   "outputs": [
    {
     "data": {
      "text/plain": [
       "array([[ 1,  2,  4,  5],\n",
       "       [35,  4,  3, 34]])"
      ]
     },
     "execution_count": 31,
     "metadata": {},
     "output_type": "execute_result"
    }
   ],
   "source": [
    "b"
   ]
  },
  {
   "cell_type": "code",
   "execution_count": 34,
   "id": "8e58f371-853c-403e-a560-cb7b853ec50e",
   "metadata": {},
   "outputs": [
    {
     "data": {
      "text/plain": [
       "4"
      ]
     },
     "execution_count": 34,
     "metadata": {},
     "output_type": "execute_result"
    }
   ],
   "source": [
    "b[0][2]"
   ]
  },
  {
   "cell_type": "code",
   "execution_count": 42,
   "id": "fc793a5b-d8ad-4afb-b407-a656626b71f4",
   "metadata": {},
   "outputs": [],
   "source": [
    "a2 = np.array([1,2,3,4,4,5],ndmin = 4)"
   ]
  },
  {
   "cell_type": "code",
   "execution_count": 46,
   "id": "7d5f581a-dd18-4e83-b5fd-ce916d5dbbc1",
   "metadata": {},
   "outputs": [
    {
     "data": {
      "text/plain": [
       "1"
      ]
     },
     "execution_count": 46,
     "metadata": {},
     "output_type": "execute_result"
    }
   ],
   "source": [
    "a2[0][0][0][0]"
   ]
  },
  {
   "cell_type": "code",
   "execution_count": 47,
   "id": "f610b032-e449-468f-9c74-065f9c21013c",
   "metadata": {},
   "outputs": [
    {
     "data": {
      "text/plain": [
       "array([['sagar', 'prakash'],\n",
       "       ['23', '45']], dtype='<U21')"
      ]
     },
     "execution_count": 47,
     "metadata": {},
     "output_type": "execute_result"
    }
   ],
   "source": [
    "a"
   ]
  },
  {
   "cell_type": "code",
   "execution_count": 52,
   "id": "5e242e4c-1781-4ffa-a82b-3de859491fb7",
   "metadata": {},
   "outputs": [
    {
     "data": {
      "text/plain": [
       "array([  1,   2,   4,  55,   6,  45, 656,   5,  65, 656,  63,   3])"
      ]
     },
     "execution_count": 52,
     "metadata": {},
     "output_type": "execute_result"
    }
   ],
   "source": [
    "np.asarray([1,2,4,55,6,45,656,5,65,656,63,3])"
   ]
  },
  {
   "cell_type": "code",
   "execution_count": 53,
   "id": "b191fabe-c859-49fa-90e5-64015a5e0afa",
   "metadata": {},
   "outputs": [
    {
     "data": {
      "text/plain": [
       "array([  1,   2,   4,  55,   6,  45, 656,   5,  65, 656,  63,   3])"
      ]
     },
     "execution_count": 53,
     "metadata": {},
     "output_type": "execute_result"
    }
   ],
   "source": [
    "np.asanyarray([1,2,4,55,6,45,656,5,65,656,63,3])"
   ]
  },
  {
   "cell_type": "code",
   "execution_count": 54,
   "id": "4d589fe5-bb6c-4085-8b13-727dd9e13341",
   "metadata": {},
   "outputs": [
    {
     "data": {
      "text/plain": [
       "matrix([[1, 2, 3, 4, 5]])"
      ]
     },
     "execution_count": 54,
     "metadata": {},
     "output_type": "execute_result"
    }
   ],
   "source": [
    "np.mat([1,2,3,4,5])"
   ]
  },
  {
   "cell_type": "code",
   "execution_count": 57,
   "id": "8799e576-9e5c-415c-8aca-d48072a9460c",
   "metadata": {},
   "outputs": [],
   "source": [
    "a = [1,2,4,5,6,7,8]"
   ]
  },
  {
   "cell_type": "code",
   "execution_count": 58,
   "id": "9e24bbc5-ce92-4359-89a7-9e4f5a84245b",
   "metadata": {},
   "outputs": [
    {
     "data": {
      "text/plain": [
       "array([1, 2, 4, 5, 6, 7, 8])"
      ]
     },
     "execution_count": 58,
     "metadata": {},
     "output_type": "execute_result"
    }
   ],
   "source": [
    "np.asarray(a)"
   ]
  },
  {
   "cell_type": "code",
   "execution_count": 59,
   "id": "84f5f66e-8833-4026-a5f5-c2f77596e432",
   "metadata": {},
   "outputs": [
    {
     "data": {
      "text/plain": [
       "matrix([[1, 2, 4, 5, 6, 7, 8]])"
      ]
     },
     "execution_count": 59,
     "metadata": {},
     "output_type": "execute_result"
    }
   ],
   "source": [
    "np.mat(a)"
   ]
  },
  {
   "cell_type": "code",
   "execution_count": 60,
   "id": "756b49f2-1089-41e2-bcf1-1b43c636c251",
   "metadata": {},
   "outputs": [
    {
     "data": {
      "text/plain": [
       "array([1, 2, 4, 5, 6, 7, 8])"
      ]
     },
     "execution_count": 60,
     "metadata": {},
     "output_type": "execute_result"
    }
   ],
   "source": [
    "np.asanyarray(a)"
   ]
  },
  {
   "cell_type": "code",
   "execution_count": 61,
   "id": "8b65f72a-4860-40ad-a7d1-ecd00fb2e1ab",
   "metadata": {},
   "outputs": [
    {
     "data": {
      "text/plain": [
       "array([1, 2, 4, 5, 6, 7, 8])"
      ]
     },
     "execution_count": 61,
     "metadata": {},
     "output_type": "execute_result"
    }
   ],
   "source": [
    "np.asarray(a)"
   ]
  },
  {
   "cell_type": "code",
   "execution_count": 62,
   "id": "e0b29809-d921-466e-8550-20e4f3d62ca6",
   "metadata": {},
   "outputs": [
    {
     "data": {
      "text/plain": [
       "matrix([[1, 2, 4, 5, 6, 7, 8]])"
      ]
     },
     "execution_count": 62,
     "metadata": {},
     "output_type": "execute_result"
    }
   ],
   "source": [
    "np.asanyarray(np.mat(a))"
   ]
  },
  {
   "cell_type": "code",
   "execution_count": 66,
   "id": "302c82a7-e5a0-49f9-a010-da085a4529ac",
   "metadata": {},
   "outputs": [
    {
     "data": {
      "text/plain": [
       "array([[ True, False, False, False, False, False, False, False, False],\n",
       "       [False,  True, False, False, False, False, False, False, False],\n",
       "       [False, False,  True, False, False, False, False, False, False],\n",
       "       [False, False, False,  True, False, False, False, False, False],\n",
       "       [False, False, False, False,  True, False, False, False, False],\n",
       "       [False, False, False, False, False,  True, False, False, False],\n",
       "       [False, False, False, False, False, False,  True, False, False],\n",
       "       [False, False, False, False, False, False, False,  True, False],\n",
       "       [False, False, False, False, False, False, False, False,  True]])"
      ]
     },
     "execution_count": 66,
     "metadata": {},
     "output_type": "execute_result"
    }
   ],
   "source": [
    "np.fromfunction(lambda i,j : i == j ,(9,9))"
   ]
  },
  {
   "cell_type": "code",
   "execution_count": 67,
   "id": "9979beba-c511-42d6-8fce-746a8b8e4715",
   "metadata": {},
   "outputs": [
    {
     "data": {
      "text/plain": [
       "array([[0., 0., 0., 0.],\n",
       "       [0., 1., 2., 3.],\n",
       "       [0., 2., 4., 6.],\n",
       "       [0., 3., 6., 9.]])"
      ]
     },
     "execution_count": 67,
     "metadata": {},
     "output_type": "execute_result"
    }
   ],
   "source": [
    "np.fromfunction(lambda i , j : i*j , (4,4))"
   ]
  },
  {
   "cell_type": "code",
   "execution_count": 69,
   "id": "76e8f953-b30c-4ec2-bab8-0b97834cffe9",
   "metadata": {},
   "outputs": [
    {
     "data": {
      "text/plain": [
       "array([[ 1,  0,  0,  0],\n",
       "       [ 1,  1,  1,  1],\n",
       "       [ 1,  2,  4,  8],\n",
       "       [ 1,  3,  9, 27]])"
      ]
     },
     "execution_count": 69,
     "metadata": {},
     "output_type": "execute_result"
    }
   ],
   "source": [
    "np.fromfunction(lambda i , j : i**j , (4,4),dtype=int)"
   ]
  },
  {
   "cell_type": "code",
   "execution_count": 70,
   "id": "42a13843-3403-409a-ad6d-4532fcd4fa4b",
   "metadata": {},
   "outputs": [
    {
     "data": {
      "text/plain": [
       "matrix([[ 1,  0,  0,  0],\n",
       "        [ 1,  1,  1,  1],\n",
       "        [ 1,  2,  4,  8],\n",
       "        [ 1,  3,  9, 27]])"
      ]
     },
     "execution_count": 70,
     "metadata": {},
     "output_type": "execute_result"
    }
   ],
   "source": [
    "np.mat(np.fromfunction(lambda i , j : i**j , (4,4),dtype=int))"
   ]
  },
  {
   "cell_type": "code",
   "execution_count": 73,
   "id": "ba5fa666-c26e-4509-92fb-d1439cdfb78a",
   "metadata": {},
   "outputs": [
    {
     "data": {
      "text/plain": [
       "array([[[0, 0],\n",
       "        [0, 0],\n",
       "        [0, 0],\n",
       "        [0, 0]],\n",
       "\n",
       "       [[0, 0],\n",
       "        [0, 1],\n",
       "        [0, 2],\n",
       "        [0, 3]],\n",
       "\n",
       "       [[0, 0],\n",
       "        [0, 2],\n",
       "        [0, 4],\n",
       "        [0, 6]],\n",
       "\n",
       "       [[0, 0],\n",
       "        [0, 3],\n",
       "        [0, 6],\n",
       "        [0, 9]]])"
      ]
     },
     "execution_count": 73,
     "metadata": {},
     "output_type": "execute_result"
    }
   ],
   "source": [
    "np.fromfunction(lambda i , j ,z : i*j*z , (4,4,2),dtype=int)"
   ]
  },
  {
   "cell_type": "code",
   "execution_count": null,
   "id": "61f30913-4c13-40b2-a318-dfdf5dbdfe5a",
   "metadata": {},
   "outputs": [],
   "source": []
  }
 ],
 "metadata": {
  "kernelspec": {
   "display_name": "Python 3 (ipykernel)",
   "language": "python",
   "name": "python3"
  },
  "language_info": {
   "codemirror_mode": {
    "name": "ipython",
    "version": 3
   },
   "file_extension": ".py",
   "mimetype": "text/x-python",
   "name": "python",
   "nbconvert_exporter": "python",
   "pygments_lexer": "ipython3",
   "version": "3.11.4"
  }
 },
 "nbformat": 4,
 "nbformat_minor": 5
}
