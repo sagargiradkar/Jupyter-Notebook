{
 "cells": [
  {
   "cell_type": "code",
   "execution_count": 1,
   "metadata": {},
   "outputs": [
    {
     "name": "stdout",
     "output_type": "stream",
     "text": [
      "1\n",
      "2\n",
      "3\n",
      "4\n",
      "5\n",
      "6\n",
      "6\n",
      "7\n",
      "8\n"
     ]
    }
   ],
   "source": [
    "l = [1,2,3,4,5,6,6,7,8]\n",
    "for i in l :\n",
    "    print(i)"
   ]
  },
  {
   "cell_type": "code",
   "execution_count": 2,
   "metadata": {},
   "outputs": [
    {
     "name": "stdout",
     "output_type": "stream",
     "text": [
      "s\n",
      "a\n",
      "g\n",
      "a\n",
      "r\n"
     ]
    }
   ],
   "source": [
    "s = \"sagar\"\n",
    "for i in s:\n",
    "    print(i)"
   ]
  },
  {
   "cell_type": "code",
   "execution_count": 4,
   "metadata": {},
   "outputs": [
    {
     "name": "stdout",
     "output_type": "stream",
     "text": [
      "s\n",
      "a\n",
      "g\n",
      "a\n",
      "r\n"
     ]
    }
   ],
   "source": [
    "for i in \"sagar\":\n",
    "    print(i)"
   ]
  },
  {
   "cell_type": "code",
   "execution_count": 1,
   "metadata": {},
   "outputs": [
    {
     "name": "stdout",
     "output_type": "stream",
     "text": [
      "s\n",
      "a\n",
      "g\n",
      "a\n",
      "r\n",
      "p\n",
      "r\n",
      "a\n",
      "k\n",
      "a\n",
      "s\n",
      "h\n",
      "G\n",
      "i\n",
      "r\n",
      "a\n",
      "d\n",
      "k\n",
      "a\n",
      "r\n"
     ]
    }
   ],
   "source": [
    " for i in \"sagarprakashGiradkar\":\n",
    "        print(i)"
   ]
  },
  {
   "cell_type": "code",
   "execution_count": 2,
   "metadata": {},
   "outputs": [
    {
     "name": "stdout",
     "output_type": "stream",
     "text": [
      "1\n",
      "2\n",
      "3\n",
      "4\n",
      "5\n",
      "6\n",
      "7\n",
      "7\n"
     ]
    }
   ],
   "source": [
    "t = (1,2,3,4,5,6,7,7)\n",
    "for i in t:\n",
    "    print(i)"
   ]
  },
  {
   "cell_type": "code",
   "execution_count": 3,
   "metadata": {},
   "outputs": [
    {
     "name": "stdout",
     "output_type": "stream",
     "text": [
      "1\n",
      "2\n",
      "3\n",
      "4\n",
      "5\n",
      "6\n",
      "7\n",
      "6\n",
      "4\n",
      "4\n",
      "3\n",
      "4\n",
      "4.56\n",
      "5.6\n",
      "(4.5+5j)\n"
     ]
    }
   ],
   "source": [
    "l = [1,2,3,4,5,6,7,6,4,4,3,4,4.56,5.6,4.5+5j]\n",
    "for i in l :\n",
    "    print(i)"
   ]
  },
  {
   "cell_type": "code",
   "execution_count": 4,
   "metadata": {},
   "outputs": [
    {
     "name": "stdout",
     "output_type": "stream",
     "text": [
      "<class 'int'>\n",
      "<class 'int'>\n",
      "<class 'int'>\n",
      "<class 'int'>\n",
      "<class 'int'>\n",
      "<class 'int'>\n",
      "<class 'int'>\n",
      "<class 'int'>\n",
      "<class 'int'>\n",
      "<class 'int'>\n",
      "<class 'int'>\n",
      "<class 'int'>\n",
      "<class 'float'>\n",
      "<class 'float'>\n",
      "<class 'complex'>\n"
     ]
    }
   ],
   "source": [
    "l = [1,2,3,4,5,6,7,6,4,4,3,4,4.56,5.6,4.5+5j]\n",
    "for i in l :\n",
    "    print(type(i))"
   ]
  },
  {
   "cell_type": "code",
   "execution_count": 5,
   "metadata": {},
   "outputs": [
    {
     "name": "stdout",
     "output_type": "stream",
     "text": [
      "<class 'int'>\n",
      "<class 'int'>\n",
      "<class 'int'>\n",
      "<class 'int'>\n",
      "<class 'int'>\n",
      "<class 'int'>\n",
      "<class 'int'>\n",
      "<class 'int'>\n",
      "<class 'int'>\n",
      "<class 'int'>\n",
      "<class 'int'>\n",
      "<class 'int'>\n",
      "<class 'float'>\n",
      "<class 'float'>\n",
      "<class 'complex'>\n",
      "<class 'str'>\n",
      "<class 'list'>\n",
      "<class 'set'>\n",
      "<class 'tuple'>\n"
     ]
    }
   ],
   "source": [
    "l = [1,2,3,4,5,6,7,6,4,4,3,4,4.56,5.6,4.5+5j,\"sagar\",[34,56,77,7],{67,675,567},(4,6)]\n",
    "for i in l :\n",
    "    print(type(i))"
   ]
  },
  {
   "cell_type": "code",
   "execution_count": 6,
   "metadata": {},
   "outputs": [
    {
     "data": {
      "text/plain": [
       "list"
      ]
     },
     "execution_count": 6,
     "metadata": {},
     "output_type": "execute_result"
    }
   ],
   "source": [
    "type(l)"
   ]
  },
  {
   "cell_type": "code",
   "execution_count": 7,
   "metadata": {},
   "outputs": [
    {
     "name": "stdout",
     "output_type": "stream",
     "text": [
      "<class 'int'> type of  1\n",
      "<class 'int'> type of  2\n",
      "<class 'int'> type of  3\n",
      "<class 'int'> type of  4\n",
      "<class 'int'> type of  5\n",
      "<class 'int'> type of  6\n",
      "<class 'int'> type of  7\n",
      "<class 'int'> type of  6\n",
      "<class 'int'> type of  4\n",
      "<class 'int'> type of  4\n",
      "<class 'int'> type of  3\n",
      "<class 'int'> type of  4\n",
      "<class 'float'> type of  4.56\n",
      "<class 'float'> type of  5.6\n",
      "<class 'complex'> type of  (4.5+5j)\n",
      "<class 'str'> type of  sagar\n",
      "<class 'list'> type of  [34, 56, 77, 7]\n",
      "<class 'set'> type of  {67, 675, 567}\n",
      "<class 'tuple'> type of  (4, 6)\n"
     ]
    }
   ],
   "source": [
    "l = [1,2,3,4,5,6,7,6,4,4,3,4,4.56,5.6,4.5+5j,\"sagar\",[34,56,77,7],{67,675,567},(4,6)]\n",
    "for i in l :\n",
    "    print(type(i),\"type of \",i)"
   ]
  },
  {
   "cell_type": "code",
   "execution_count": 9,
   "metadata": {},
   "outputs": [
    {
     "name": "stdout",
     "output_type": "stream",
     "text": [
      "<class 'int'> type of  1\n",
      "<class 'int'> type of  2\n",
      "<class 'int'> type of  3\n",
      "<class 'int'> type of  4\n",
      "<class 'int'> type of  5\n",
      "<class 'int'> type of  6\n",
      "<class 'int'> type of  7\n",
      "<class 'int'> type of  6\n",
      "<class 'int'> type of  4\n",
      "<class 'int'> type of  4\n",
      "<class 'int'> type of  3\n",
      "<class 'int'> type of  4\n",
      "<class 'float'> type of  4.56\n",
      "<class 'float'> type of  5.6\n",
      "<class 'complex'> type of  (4.5+5j)\n",
      "<class 'str'> type of  sagar\n",
      "<class 'list'> type of  [34, 56, 77, 7]\n",
      "<class 'set'> type of  {67, 675, 567}\n",
      "<class 'tuple'> type of  (4, 6)\n",
      "<class 'dict'> type of  {'key1': 3}\n"
     ]
    }
   ],
   "source": [
    "l = [1,2,3,4,5,6,7,6,4,4,3,4,4.56,5.6,4.5+5j,\"sagar\",[34,56,77,7],{67,675,567},(4,6),{\"key1\":3}]\n",
    "for i in l :\n",
    "    print(type(i),\"type of \",i)"
   ]
  },
  {
   "cell_type": "code",
   "execution_count": 11,
   "metadata": {},
   "outputs": [
    {
     "name": "stdout",
     "output_type": "stream",
     "text": [
      "3\n",
      "9\n",
      "15\n",
      "18\n",
      "16.5\n"
     ]
    }
   ],
   "source": [
    "l = [1,3,5,6,5.5]\n",
    "l1=[]\n",
    "for i in l:\n",
    "    print(i*3)\n",
    "    l1.append(i+2)"
   ]
  },
  {
   "cell_type": "code",
   "execution_count": 12,
   "metadata": {},
   "outputs": [
    {
     "data": {
      "text/plain": [
       "[3, 5, 7, 8, 7.5]"
      ]
     },
     "execution_count": 12,
     "metadata": {},
     "output_type": "execute_result"
    }
   ],
   "source": [
    "l1"
   ]
  },
  {
   "cell_type": "code",
   "execution_count": 13,
   "metadata": {},
   "outputs": [],
   "source": [
    "l = [2,45,78,56,\"sagar\",6+7j,[2,3,5,6,9]]"
   ]
  },
  {
   "cell_type": "code",
   "execution_count": 19,
   "metadata": {},
   "outputs": [
    {
     "name": "stdout",
     "output_type": "stream",
     "text": [
      "2\n",
      "45\n",
      "78\n",
      "56\n"
     ]
    }
   ],
   "source": [
    "for i in l:\n",
    "    if(type(i) == int):\n",
    "        print(i)"
   ]
  },
  {
   "cell_type": "code",
   "execution_count": 18,
   "metadata": {},
   "outputs": [
    {
     "name": "stdout",
     "output_type": "stream",
     "text": [
      "(6+7j)\n"
     ]
    }
   ],
   "source": [
    "for i in l:\n",
    "    if(type(i) == complex):\n",
    "        print(i)"
   ]
  },
  {
   "cell_type": "code",
   "execution_count": 20,
   "metadata": {},
   "outputs": [
    {
     "name": "stdout",
     "output_type": "stream",
     "text": [
      "sagar\n"
     ]
    }
   ],
   "source": [
    "for i in l:\n",
    "    if(type(i) == str):\n",
    "        print(i)"
   ]
  },
  {
   "cell_type": "code",
   "execution_count": 21,
   "metadata": {},
   "outputs": [
    {
     "name": "stdout",
     "output_type": "stream",
     "text": [
      "[2, 3, 5, 6, 9]\n"
     ]
    }
   ],
   "source": [
    "for i in l:\n",
    "    if(type(i) == list):\n",
    "        print(i)"
   ]
  },
  {
   "cell_type": "code",
   "execution_count": 22,
   "metadata": {},
   "outputs": [
    {
     "name": "stdout",
     "output_type": "stream",
     "text": [
      "2\n",
      "45\n",
      "78\n",
      "56\n",
      "2\n",
      "3\n",
      "5\n",
      "6\n",
      "9\n"
     ]
    }
   ],
   "source": [
    "for i in l:\n",
    "    if type(i) == int:\n",
    "        print(i)\n",
    "    elif(type(i) == list):\n",
    "        for j in i:\n",
    "            if(type(j) == int):\n",
    "                print(j)"
   ]
  },
  {
   "cell_type": "code",
   "execution_count": 23,
   "metadata": {},
   "outputs": [],
   "source": [
    "l = [1,2,3,4,5,6,7,6,4,4,3,4,4.56,5.6,4.5+5j,\"sagar\",[34,56,77,7],{67,675,567},(4,6),{\"key1\":3}]"
   ]
  },
  {
   "cell_type": "code",
   "execution_count": 24,
   "metadata": {
    "scrolled": true
   },
   "outputs": [
    {
     "name": "stdout",
     "output_type": "stream",
     "text": [
      "0\n",
      "1\n",
      "2\n",
      "3\n",
      "4\n",
      "5\n",
      "6\n",
      "5\n",
      "3\n",
      "3\n",
      "2\n",
      "3\n",
      "12\n",
      "13\n",
      "14\n",
      "15\n",
      "16\n",
      "17\n",
      "18\n",
      "19\n"
     ]
    }
   ],
   "source": [
    "for i in l:\n",
    "    print(l.index(i))"
   ]
  },
  {
   "cell_type": "code",
   "execution_count": 25,
   "metadata": {},
   "outputs": [
    {
     "data": {
      "text/plain": [
       "[1,\n",
       " 2,\n",
       " 3,\n",
       " 4,\n",
       " 5,\n",
       " 6,\n",
       " 7,\n",
       " 6,\n",
       " 4,\n",
       " 4,\n",
       " 3,\n",
       " 4,\n",
       " 4.56,\n",
       " 5.6,\n",
       " (4.5+5j),\n",
       " 'sagar',\n",
       " [34, 56, 77, 7],\n",
       " {67, 567, 675},\n",
       " (4, 6),\n",
       " {'key1': 3}]"
      ]
     },
     "execution_count": 25,
     "metadata": {},
     "output_type": "execute_result"
    }
   ],
   "source": [
    "l\n"
   ]
  },
  {
   "cell_type": "code",
   "execution_count": 29,
   "metadata": {
    "scrolled": true
   },
   "outputs": [
    {
     "name": "stdout",
     "output_type": "stream",
     "text": [
      "[1]\n",
      "[4]\n",
      "[9]\n",
      "[16]\n",
      "[25]\n",
      "[36]\n",
      "[49]\n",
      "[36]\n",
      "[16]\n",
      "[16]\n",
      "[9]\n",
      "[16]\n",
      "[16]\n",
      "[16]\n",
      "[16]\n",
      "[16]\n",
      "[16]\n",
      "[16]\n",
      "[16]\n",
      "[16]\n"
     ]
    }
   ],
   "source": [
    "for i in l:\n",
    "    if(type(i) == int):\n",
    "        l1=[i*i]\n",
    "    print(l1)       "
   ]
  },
  {
   "cell_type": "code",
   "execution_count": 30,
   "metadata": {
    "scrolled": true
   },
   "outputs": [
    {
     "data": {
      "text/plain": [
       "[1,\n",
       " 2,\n",
       " 3,\n",
       " 4,\n",
       " 5,\n",
       " 6,\n",
       " 7,\n",
       " 6,\n",
       " 4,\n",
       " 4,\n",
       " 3,\n",
       " 4,\n",
       " 4.56,\n",
       " 5.6,\n",
       " (4.5+5j),\n",
       " 'sagar',\n",
       " [34, 56, 77, 7],\n",
       " {67, 567, 675},\n",
       " (4, 6),\n",
       " {'key1': 3}]"
      ]
     },
     "execution_count": 30,
     "metadata": {},
     "output_type": "execute_result"
    }
   ],
   "source": [
    "l"
   ]
  },
  {
   "cell_type": "code",
   "execution_count": 39,
   "metadata": {},
   "outputs": [
    {
     "name": "stdout",
     "output_type": "stream",
     "text": [
      "['s']\n",
      "['a']\n",
      "['g']\n",
      "['a']\n",
      "['r']\n"
     ]
    }
   ],
   "source": [
    "for i in l:\n",
    "    if type(i) == str:\n",
    "        for j in i:\n",
    "            l2=[j]\n",
    "            print(l2)"
   ]
  },
  {
   "cell_type": "code",
   "execution_count": 40,
   "metadata": {},
   "outputs": [
    {
     "data": {
      "text/plain": [
       "[1,\n",
       " 2,\n",
       " 3,\n",
       " 4,\n",
       " 5,\n",
       " 6,\n",
       " 7,\n",
       " 6,\n",
       " 4,\n",
       " 4,\n",
       " 3,\n",
       " 4,\n",
       " 4.56,\n",
       " 5.6,\n",
       " (4.5+5j),\n",
       " 'sagar',\n",
       " [34, 56, 77, 7],\n",
       " {67, 567, 675},\n",
       " (4, 6),\n",
       " {'key1': 3}]"
      ]
     },
     "execution_count": 40,
     "metadata": {},
     "output_type": "execute_result"
    }
   ],
   "source": [
    "l"
   ]
  },
  {
   "cell_type": "code",
   "execution_count": 41,
   "metadata": {},
   "outputs": [
    {
     "data": {
      "text/plain": [
       "range(0, 5)"
      ]
     },
     "execution_count": 41,
     "metadata": {},
     "output_type": "execute_result"
    }
   ],
   "source": [
    "range(5)"
   ]
  },
  {
   "cell_type": "code",
   "execution_count": null,
   "metadata": {},
   "outputs": [],
   "source": []
  },
  {
   "cell_type": "code",
   "execution_count": 46,
   "metadata": {},
   "outputs": [
    {
     "name": "stdout",
     "output_type": "stream",
     "text": [
      "index   0 for an element  1\n",
      "index   1 for an element  2\n",
      "index   2 for an element  3\n",
      "index   3 for an element  4\n",
      "index   4 for an element  5\n",
      "index   5 for an element  6\n",
      "index   6 for an element  7\n",
      "index   7 for an element  6\n",
      "index   8 for an element  4\n",
      "index   9 for an element  4\n",
      "index   10 for an element  3\n",
      "index   11 for an element  4\n",
      "index   12 for an element  4.56\n",
      "index   13 for an element  5.6\n",
      "index   14 for an element  (4.5+5j)\n",
      "index   15 for an element  sagar\n",
      "index   16 for an element  [34, 56, 77, 7]\n",
      "index   17 for an element  {67, 675, 567}\n",
      "index   18 for an element  (4, 6)\n",
      "index   19 for an element  {'key1': 3}\n"
     ]
    }
   ],
   "source": [
    "for i in range(len(l)):\n",
    "    print(\"index  \",i,\"for an element \",l[i])"
   ]
  },
  {
   "cell_type": "code",
   "execution_count": 48,
   "metadata": {},
   "outputs": [
    {
     "name": "stdout",
     "output_type": "stream",
     "text": [
      "0 1\n",
      "1 2\n",
      "2 3\n",
      "3 4\n",
      "4 5\n",
      "5 6\n",
      "6 7\n",
      "7 6\n",
      "8 4\n",
      "9 4\n",
      "10 3\n",
      "11 4\n",
      "12 4.56\n",
      "13 5.6\n",
      "14 (4.5+5j)\n",
      "15 sagar\n",
      "16 [34, 56, 77, 7]\n",
      "17 {67, 675, 567}\n",
      "18 (4, 6)\n",
      "19 {'key1': 3}\n"
     ]
    }
   ],
   "source": [
    "for i,j in enumerate(l):\n",
    "    print(i,j)"
   ]
  },
  {
   "cell_type": "code",
   "execution_count": 49,
   "metadata": {},
   "outputs": [
    {
     "name": "stdout",
     "output_type": "stream",
     "text": [
      "```````````````````````````````````````````\n"
     ]
    }
   ],
   "source": [
    "print(\"```````````````````````````````````````````\")"
   ]
  },
  {
   "cell_type": "code",
   "execution_count": 50,
   "metadata": {},
   "outputs": [
    {
     "data": {
      "text/plain": [
       "[1,\n",
       " 2,\n",
       " 3,\n",
       " 4,\n",
       " 5,\n",
       " 6,\n",
       " 7,\n",
       " 6,\n",
       " 4,\n",
       " 4,\n",
       " 3,\n",
       " 4,\n",
       " 4.56,\n",
       " 5.6,\n",
       " (4.5+5j),\n",
       " 'sagar',\n",
       " [34, 56, 77, 7],\n",
       " {67, 567, 675},\n",
       " (4, 6),\n",
       " {'key1': 3}]"
      ]
     },
     "execution_count": 50,
     "metadata": {},
     "output_type": "execute_result"
    }
   ],
   "source": [
    "l"
   ]
  },
  {
   "cell_type": "code",
   "execution_count": 54,
   "metadata": {},
   "outputs": [
    {
     "name": "stdout",
     "output_type": "stream",
     "text": [
      "['s']\n",
      "['s', 'a']\n",
      "['s', 'a', 'g']\n",
      "['s', 'a', 'g', 'a']\n",
      "['s', 'a', 'g', 'a', 'r']\n"
     ]
    }
   ],
   "source": [
    "for i in l:\n",
    "    if type(i) == str:\n",
    "        l1 = []\n",
    "        for j in i:\n",
    "            l1.append(j)\n",
    "            print(l1)"
   ]
  },
  {
   "cell_type": "code",
   "execution_count": 55,
   "metadata": {},
   "outputs": [
    {
     "data": {
      "text/plain": [
       "[1,\n",
       " 2,\n",
       " 3,\n",
       " 4,\n",
       " 5,\n",
       " 6,\n",
       " 7,\n",
       " 6,\n",
       " 4,\n",
       " 4,\n",
       " 3,\n",
       " 4,\n",
       " 4.56,\n",
       " 5.6,\n",
       " (4.5+5j),\n",
       " 'sagar',\n",
       " [34, 56, 77, 7],\n",
       " {67, 567, 675},\n",
       " (4, 6),\n",
       " {'key1': 3}]"
      ]
     },
     "execution_count": 55,
     "metadata": {},
     "output_type": "execute_result"
    }
   ],
   "source": [
    "l"
   ]
  },
  {
   "cell_type": "code",
   "execution_count": 56,
   "metadata": {
    "scrolled": true
   },
   "outputs": [
    {
     "data": {
      "text/plain": [
       "[1,\n",
       " 2,\n",
       " 3,\n",
       " 4,\n",
       " 5,\n",
       " 6,\n",
       " 7,\n",
       " 6,\n",
       " 4,\n",
       " 4,\n",
       " 3,\n",
       " 4,\n",
       " 4.56,\n",
       " 5.6,\n",
       " (4.5+5j),\n",
       " 'sagar',\n",
       " [34, 56, 77, 7],\n",
       " {67, 567, 675},\n",
       " (4, 6),\n",
       " {'key1': 3}]"
      ]
     },
     "execution_count": 56,
     "metadata": {},
     "output_type": "execute_result"
    }
   ],
   "source": [
    "l"
   ]
  },
  {
   "cell_type": "code",
   "execution_count": 63,
   "metadata": {},
   "outputs": [],
   "source": [
    " l2=[]\n",
    "for i in l:\n",
    "    if type(i) == int:\n",
    "        l2.append(i**2)"
   ]
  },
  {
   "cell_type": "code",
   "execution_count": 64,
   "metadata": {},
   "outputs": [
    {
     "data": {
      "text/plain": [
       "[1, 4, 9, 16, 25, 36, 49, 36, 16, 16, 9, 16]"
      ]
     },
     "execution_count": 64,
     "metadata": {},
     "output_type": "execute_result"
    }
   ],
   "source": [
    "l2"
   ]
  }
 ],
 "metadata": {
  "kernelspec": {
   "display_name": "Python 3",
   "language": "python",
   "name": "python3"
  },
  "language_info": {
   "codemirror_mode": {
    "name": "ipython",
    "version": 3
   },
   "file_extension": ".py",
   "mimetype": "text/x-python",
   "name": "python",
   "nbconvert_exporter": "python",
   "pygments_lexer": "ipython3",
   "version": "3.7.3"
  }
 },
 "nbformat": 4,
 "nbformat_minor": 2
}
